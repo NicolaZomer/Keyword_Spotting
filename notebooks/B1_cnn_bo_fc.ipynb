{
  "cells": [
    {
      "cell_type": "markdown",
      "metadata": {
        "id": "dsT1FPnBguaJ"
      },
      "source": [
        "# Bayesian Optimization and Feature Comparison with CNN"
      ]
    },
    {
      "cell_type": "markdown",
      "metadata": {
        "id": "0lYQXwCmh402"
      },
      "source": [
        "## Get scripts from GitHub and install wget\n",
        "Only required when running on Colab. "
      ]
    },
    {
      "cell_type": "code",
      "execution_count": 1,
      "metadata": {
        "colab": {
          "base_uri": "https://localhost:8080/"
        },
        "id": "_V8fO0IpyMLd",
        "outputId": "caaac81e-c692-427f-aba7-f5d86affc2d8"
      },
      "outputs": [
        {
          "output_type": "stream",
          "name": "stdout",
          "text": [
            "Looking in indexes: https://pypi.org/simple, https://us-python.pkg.dev/colab-wheels/public/simple/\n",
            "Collecting wget\n",
            "  Downloading wget-3.2.zip (10 kB)\n",
            "  Preparing metadata (setup.py) ... \u001b[?25l\u001b[?25hdone\n",
            "Building wheels for collected packages: wget\n",
            "  Building wheel for wget (setup.py) ... \u001b[?25l\u001b[?25hdone\n",
            "  Created wheel for wget: filename=wget-3.2-py3-none-any.whl size=9674 sha256=cc58d71f805f044cda012c5e8997c471a85f31b9b61fd8d65942e89a7bced82b\n",
            "  Stored in directory: /root/.cache/pip/wheels/bd/a8/c3/3cf2c14a1837a4e04bd98631724e81f33f462d86a1d895fae0\n",
            "Successfully built wget\n",
            "Installing collected packages: wget\n",
            "Successfully installed wget-3.2\n"
          ]
        }
      ],
      "source": [
        "! pip install wget"
      ]
    },
    {
      "cell_type": "code",
      "execution_count": 2,
      "metadata": {
        "colab": {
          "base_uri": "https://localhost:8080/"
        },
        "id": "J7ZaKB5zhwiz",
        "outputId": "261a8931-ff4b-4eba-e219-4bb41d6fbe17"
      },
      "outputs": [
        {
          "output_type": "stream",
          "name": "stdout",
          "text": [
            "--2023-01-21 16:25:44--  https://raw.githubusercontent.com/NicolaZomer/Keyword_Spotting/main/utils/models_utils.py\n",
            "Resolving raw.githubusercontent.com (raw.githubusercontent.com)... 185.199.108.133, 185.199.109.133, 185.199.110.133, ...\n",
            "Connecting to raw.githubusercontent.com (raw.githubusercontent.com)|185.199.108.133|:443... connected.\n",
            "HTTP request sent, awaiting response... 200 OK\n",
            "Length: 5727 (5.6K) [text/plain]\n",
            "Saving to: ‘models_utils.py’\n",
            "\n",
            "models_utils.py     100%[===================>]   5.59K  --.-KB/s    in 0s      \n",
            "\n",
            "2023-01-21 16:25:44 (82.3 MB/s) - ‘models_utils.py’ saved [5727/5727]\n",
            "\n",
            "--2023-01-21 16:25:44--  https://raw.githubusercontent.com/NicolaZomer/Keyword_Spotting/main/utils/plot_utils.py\n",
            "Resolving raw.githubusercontent.com (raw.githubusercontent.com)... 185.199.108.133, 185.199.109.133, 185.199.110.133, ...\n",
            "Connecting to raw.githubusercontent.com (raw.githubusercontent.com)|185.199.108.133|:443... connected.\n",
            "HTTP request sent, awaiting response... 200 OK\n",
            "Length: 2253 (2.2K) [text/plain]\n",
            "Saving to: ‘plot_utils.py’\n",
            "\n",
            "plot_utils.py       100%[===================>]   2.20K  --.-KB/s    in 0s      \n",
            "\n",
            "2023-01-21 16:25:44 (46.1 MB/s) - ‘plot_utils.py’ saved [2253/2253]\n",
            "\n",
            "--2023-01-21 16:25:44--  https://raw.githubusercontent.com/NicolaZomer/Keyword_Spotting/main/utils/preprocessing_utils.py\n",
            "Resolving raw.githubusercontent.com (raw.githubusercontent.com)... 185.199.108.133, 185.199.109.133, 185.199.110.133, ...\n",
            "Connecting to raw.githubusercontent.com (raw.githubusercontent.com)|185.199.108.133|:443... connected.\n",
            "HTTP request sent, awaiting response... 200 OK\n",
            "Length: 8952 (8.7K) [text/plain]\n",
            "Saving to: ‘preprocessing_utils.py’\n",
            "\n",
            "preprocessing_utils 100%[===================>]   8.74K  --.-KB/s    in 0s      \n",
            "\n",
            "2023-01-21 16:25:45 (101 MB/s) - ‘preprocessing_utils.py’ saved [8952/8952]\n",
            "\n"
          ]
        }
      ],
      "source": [
        "! wget -nc https://raw.githubusercontent.com/NicolaZomer/Keyword_Spotting/main/utils/models_utils.py\n",
        "! wget -nc https://raw.githubusercontent.com/NicolaZomer/Keyword_Spotting/main/utils/plot_utils.py\n",
        "! wget -nc https://raw.githubusercontent.com/NicolaZomer/Keyword_Spotting/main/utils/preprocessing_utils.py"
      ]
    },
    {
      "cell_type": "markdown",
      "metadata": {
        "id": "ZFq83kJvyatv"
      },
      "source": [
        "## Import"
      ]
    },
    {
      "cell_type": "code",
      "execution_count": 3,
      "metadata": {
        "id": "Y_4uCFuXgucW"
      },
      "outputs": [],
      "source": [
        "import os\n",
        "import pathlib\n",
        "import requests\n",
        "import wget\n",
        "import inspect\n",
        "\n",
        "import matplotlib.pyplot as plt\n",
        "import numpy as np\n",
        "import pandas as pd\n",
        "import seaborn as sns\n",
        "import tensorflow as tf\n",
        "\n",
        "from IPython.display import display, Audio, Image\n",
        "\n",
        "from sklearn.metrics import confusion_matrix, precision_recall_fscore_support, accuracy_score, log_loss, cohen_kappa_score\n",
        "\n",
        "from scipy.io import wavfile\n",
        "\n",
        "from models_utils import available_models, select_model\n",
        "import plot_utils \n",
        "\n",
        "plt.rcParams['font.size'] = '12'\n",
        "# %matplotlib inline"
      ]
    },
    {
      "cell_type": "code",
      "execution_count": 4,
      "metadata": {
        "colab": {
          "base_uri": "https://localhost:8080/"
        },
        "id": "v58f7JtLicT4",
        "outputId": "533c75b0-c7bd-4688-de61-c47096e9a73e"
      },
      "outputs": [
        {
          "output_type": "stream",
          "name": "stderr",
          "text": [
            "WARNING:tensorflow:From <ipython-input-4-8b196a1e910a>:1: is_gpu_available (from tensorflow.python.framework.test_util) is deprecated and will be removed in a future version.\n",
            "Instructions for updating:\n",
            "Use `tf.config.list_physical_devices('GPU')` instead.\n"
          ]
        },
        {
          "output_type": "stream",
          "name": "stdout",
          "text": [
            "GPU Available: True\n",
            "Version: 2.9.2\n"
          ]
        }
      ],
      "source": [
        "print(\"GPU Available:\", tf.test.is_gpu_available())\n",
        "print(\"Version:\", tf.__version__)"
      ]
    },
    {
      "cell_type": "markdown",
      "metadata": {
        "id": "RMYTM7mrgufm"
      },
      "source": [
        "To extract MFCC features from audio signals we use the Python library [python_speech_features](https://github.com/jameslyons/python_speech_features)."
      ]
    },
    {
      "cell_type": "code",
      "execution_count": 5,
      "metadata": {
        "colab": {
          "base_uri": "https://localhost:8080/"
        },
        "id": "83mmHptRgufv",
        "outputId": "c07ae372-fe82-4245-efa3-be093046521e"
      },
      "outputs": [
        {
          "output_type": "stream",
          "name": "stdout",
          "text": [
            "Looking in indexes: https://pypi.org/simple, https://us-python.pkg.dev/colab-wheels/public/simple/\n",
            "Collecting python_speech_features\n",
            "  Downloading python_speech_features-0.6.tar.gz (5.6 kB)\n",
            "  Preparing metadata (setup.py) ... \u001b[?25l\u001b[?25hdone\n",
            "Building wheels for collected packages: python_speech_features\n",
            "  Building wheel for python_speech_features (setup.py) ... \u001b[?25l\u001b[?25hdone\n",
            "  Created wheel for python_speech_features: filename=python_speech_features-0.6-py3-none-any.whl size=5889 sha256=374704e1ee43340c42ab308ac3e173af9563ff97f10ae34e7ff90a50cfbdda3b\n",
            "  Stored in directory: /root/.cache/pip/wheels/5b/60/87/28af2605138deac93d162904df42b6fdda1dab9b8757c62aa3\n",
            "Successfully built python_speech_features\n",
            "Installing collected packages: python_speech_features\n",
            "Successfully installed python_speech_features-0.6\n",
            "Looking in indexes: https://pypi.org/simple, https://us-python.pkg.dev/colab-wheels/public/simple/\n",
            "Collecting visualkeras\n",
            "  Downloading visualkeras-0.0.2-py3-none-any.whl (12 kB)\n",
            "Requirement already satisfied: pillow>=6.2.0 in /usr/local/lib/python3.8/dist-packages (from visualkeras) (7.1.2)\n",
            "Collecting aggdraw>=1.3.11\n",
            "  Downloading aggdraw-1.3.15-cp38-cp38-manylinux_2_17_x86_64.manylinux2014_x86_64.whl (992 kB)\n",
            "\u001b[2K     \u001b[90m━━━━━━━━━━━━━━━━━━━━━━━━━━━━━━━━━━━━━━\u001b[0m \u001b[32m992.2/992.2 KB\u001b[0m \u001b[31m11.5 MB/s\u001b[0m eta \u001b[36m0:00:00\u001b[0m\n",
            "\u001b[?25hRequirement already satisfied: numpy>=1.18.1 in /usr/local/lib/python3.8/dist-packages (from visualkeras) (1.21.6)\n",
            "Installing collected packages: aggdraw, visualkeras\n",
            "Successfully installed aggdraw-1.3.15 visualkeras-0.0.2\n"
          ]
        }
      ],
      "source": [
        "# uncomment to install python_speech_features\n",
        "! pip install python_speech_features\n",
        "! pip install visualkeras\n",
        "\n",
        "from python_speech_features import logfbank, mfcc, delta\n",
        "import visualkeras\n",
        "\n",
        "import preprocessing_utils\n",
        "from preprocessing_utils import remove_file_starting_with"
      ]
    },
    {
      "cell_type": "markdown",
      "metadata": {
        "id": "7N6hBU0Tgugj"
      },
      "source": [
        "To perform Discrete Wavelet Transform on audio signals we use the Python library [PyWavelets](https://github.com/PyWavelets/pywt)."
      ]
    },
    {
      "cell_type": "code",
      "execution_count": 6,
      "metadata": {
        "colab": {
          "base_uri": "https://localhost:8080/"
        },
        "id": "MhiIcU5Xgugy",
        "outputId": "1e83193f-7752-4cd9-93b3-12d1becfe196"
      },
      "outputs": [
        {
          "output_type": "stream",
          "name": "stdout",
          "text": [
            "Looking in indexes: https://pypi.org/simple, https://us-python.pkg.dev/colab-wheels/public/simple/\n",
            "Requirement already satisfied: PyWavelets in /usr/local/lib/python3.8/dist-packages (1.4.1)\n",
            "Requirement already satisfied: numpy>=1.17.3 in /usr/local/lib/python3.8/dist-packages (from PyWavelets) (1.21.6)\n"
          ]
        }
      ],
      "source": [
        "# uncomment to install PyWavelets\n",
        "! pip install PyWavelets\n",
        "\n",
        "from pywt import dwt"
      ]
    },
    {
      "cell_type": "markdown",
      "metadata": {
        "id": "5J6-132RguqS"
      },
      "source": [
        "## 1 - Data loading \n",
        "In this project we use the [Speech Commands dataset](https://www.tensorflow.org/datasets/catalog/speech_commands), which contains short (one-second long) audio clips of English commands, stored as audio files in the WAV format. More in detail, the version 0.02 of the dataset contains 105.829 utterances of 35 short words, by thousands of different people. It was released on April 11th 2018 under [Creative Commons BY 4.0 license](https://creativecommons.org/licenses/by/4.0/) and collected using crowdsourcing, through [AIY](https://aiyprojects.withgoogle.com/) by Google. Some of these words are \"yes\", \"no\", \"up\", \"down\", \"left\", \"right\", \"on\", \"off\", \"stop\" and \"go\".\n",
        "\n",
        "### 1.1 - Download data and create data folder\n",
        "We import both a smaller version of the Speech Commands dataset and the full version. The mini dataset can be used for testing and demo reasons, however the entire work will be focused only on the complete dataset (or a subset of it). "
      ]
    },
    {
      "cell_type": "code",
      "execution_count": 7,
      "metadata": {
        "colab": {
          "base_uri": "https://localhost:8080/"
        },
        "id": "qMEgF_1Oguqb",
        "outputId": "764bbdc2-b794-4f43-9034-50bc38cba7a3"
      },
      "outputs": [
        {
          "output_type": "stream",
          "name": "stdout",
          "text": [
            "Downloading data from http://download.tensorflow.org/data/speech_commands_v0.02.tar.gz\n",
            "2428923189/2428923189 [==============================] - 64s 0us/step\n",
            "\n",
            "\n",
            "Working with the full dataset!\n"
          ]
        }
      ],
      "source": [
        "choose_dataset = 2 # 1 for mini, 2 for full\n",
        "download_also_mini = False\n",
        "\n",
        "DATASET_PATH_mini = 'data/mini_speech_commands'\n",
        "DATASET_PATH_full = 'data/full_speech_commands'\n",
        "\n",
        "data_dir_mini = pathlib.Path(DATASET_PATH_mini)\n",
        "if not data_dir_mini.exists() and download_also_mini:\n",
        "  tf.keras.utils.get_file(\n",
        "      'mini_speech_commands.zip',\n",
        "      origin=\"http://storage.googleapis.com/download.tensorflow.org/data/mini_speech_commands.zip\",\n",
        "      extract=True,\n",
        "      cache_dir='.', cache_subdir='data')\n",
        "  print('\\n')\n",
        "  \n",
        "data_dir_full = pathlib.Path(DATASET_PATH_full)\n",
        "if not data_dir_full.exists():\n",
        "  tf.keras.utils.get_file(\n",
        "      'full_speech_commands.zip',\n",
        "      origin=\"http://download.tensorflow.org/data/speech_commands_v0.02.tar.gz\",\n",
        "      extract=True,\n",
        "      cache_dir='.', cache_subdir='data/full_speech_commands')\n",
        "  print('\\n')\n",
        "  \n",
        "if choose_dataset==1:\n",
        "  data_dir = data_dir_mini\n",
        "  data_path = DATASET_PATH_mini\n",
        "  print('Working with the mini dataset!')\n",
        "elif choose_dataset==2:\n",
        "  data_dir = data_dir_full\n",
        "  data_path = DATASET_PATH_full\n",
        "  print('Working with the full dataset!')\n",
        "else:\n",
        "  print(\"Error, 'choose_dataset' must be 1 or 2\")"
      ]
    },
    {
      "cell_type": "markdown",
      "metadata": {
        "id": "TajS9BZPgurM"
      },
      "source": [
        "### 1.2 - Dataset organization\n",
        "The audio files are organized into folders based on the word they contain. For more details see \\[[Warden18](https://arxiv.org/abs/1804.03209)\\].\n",
        "\n",
        "**Mini dataset** <br>\n",
        "The dataset's audio clips are stored in 8 folders corresponding to each speech command: `down`, `go`, `left`, `no`, `right`, `stop`, `up`, `yes`, and `stop`. \n",
        "\n",
        "**Full dataset** <br>\n",
        "The dataset's audio clips are stored in 35 folders corresponding to each speech command: <br>\n",
        "`backward`, `bed`, `bird`, `cat`, `dog`, `down`, `eight`, `five`, `follow`, `forward`, `four`, `go`, `happy`, `house`, `learn`, `left`, `marvin`, `nine`, `no`, `off`, `on`, `one`, `right`, `seven`, `sheila`, `six`, `stop`, `three`, `tree`, `two`, `up`, `visual`, `wow`, `yes`, `zero`\n",
        "\n",
        "\n"
      ]
    },
    {
      "cell_type": "code",
      "execution_count": 8,
      "metadata": {
        "colab": {
          "base_uri": "https://localhost:8080/"
        },
        "id": "gE9p410cgur8",
        "outputId": "6db0a8f4-5fc0-4537-a466-5ef23c02b4c0"
      },
      "outputs": [
        {
          "output_type": "stream",
          "name": "stdout",
          "text": [
            "Commands: ['backward', 'bed', 'bird', 'cat', 'dog', 'down', 'eight', 'five', 'follow', 'forward', 'four', 'go', 'happy', 'house', 'learn', 'left', 'marvin', 'nine', 'no', 'off', 'on', 'one', 'right', 'seven', 'sheila', 'six', 'stop', 'three', 'tree', 'two', 'up', 'visual', 'wow', 'yes', 'zero']\n",
            "\n",
            "Number of commands: 35\n"
          ]
        }
      ],
      "source": [
        "commands = np.array(tf.io.gfile.listdir(str(data_dir)))\n",
        "\n",
        "if choose_dataset==1:\n",
        "  mask = commands != 'README.md'\n",
        "\n",
        "elif choose_dataset==2:\n",
        "  mask = (\n",
        "      np.array(commands != 'README.md')                 &\n",
        "      np.array(commands != 'LICENSE')                   &\n",
        "      np.array(commands != '.DS_Store')                 &\n",
        "      np.array(commands != 'training_list.txt')         &  \n",
        "      np.array(commands != 'validation_list.txt')       &  \n",
        "      np.array(commands != 'testing_list.txt')          &  \n",
        "      np.array(commands != 'full_speech_commands.zip')  &\n",
        "      np.array(commands != '_background_noise_')        \n",
        "  )\n",
        "  \n",
        "commands = sorted(commands[mask])\n",
        "print('Commands:', commands)\n",
        "\n",
        "print('\\nNumber of commands: %i' %len(commands))"
      ]
    },
    {
      "cell_type": "markdown",
      "metadata": {
        "id": "N_HQ4GIRguvw"
      },
      "source": [
        "### 1.3 - Processing of the original audio files \n",
        "The original audio files were captured in a variety of formats and then converted to .WAV file at a 16000 sample rate. The audio was then trimmed to a one second length to align most utterances, using the [extract_loudest_section](https://github.com/petewarden/extract_loudest_section) tool. The audio files were then screened for silence or incorrect words, and arranged into folders by label.\n",
        "\n",
        "### 1.4 - Training, testing and validation sets\n",
        "The text files `validation_list.txt` and `testing_list.txt` available in the [Speech Commands dataset](https://www.tensorflow.org/datasets/catalog/speech_commands) contain the paths to all the files in each set, with each path on a new line. Any files that aren't in either of these lists can be considered to be part of the training set. The validation and test set sizes thus obtained are approximatly 10% of the size of the complete set. For more information on how the partition is made, see the README.md file of the dataset. \n",
        "\n",
        "The following code performs these operations:\n",
        "- Load the reference validation and testing files as separated Pandas dataframe objects. \n",
        "- Store the path of all audio files in a dictionary. \n",
        "- Create the reference file for training data, by storing in a Pandas dataframe object the paths of all files that aren't in the validation or testing list. If it has been already created, we simply import it as we did for the reference validation and testing files. \n",
        "\n",
        "To each file we associate the corresponding label (i.e. the name of the folder it is in), so that we get a proper labeling for each file to be used with our loss function. Of course, we still need to load the actual data."
      ]
    },
    {
      "cell_type": "code",
      "execution_count": 9,
      "metadata": {
        "colab": {
          "base_uri": "https://localhost:8080/"
        },
        "id": "_fygRaSrguv0",
        "outputId": "efc4733f-6399-45f1-cf61-f5f354517c0a"
      },
      "outputs": [
        {
          "output_type": "stream",
          "name": "stdout",
          "text": [
            "There are 105829 audio files in the dataset\n",
            "File downloaded from GitHub\n"
          ]
        }
      ],
      "source": [
        "training_list_path = data_path + \"/training_list.txt\"\n",
        "\n",
        "reference_df_val = pd.read_csv(data_path+\"/validation_list.txt\", sep=\"/\", header=None, names=['label', 'file'])\n",
        "reference_df_test = pd.read_csv(data_path+\"/testing_list.txt\", sep=\"/\", header=None, names=['label', 'file'])\n",
        "\n",
        "# all audio files\n",
        "all_files = {}\n",
        "for command in commands:\n",
        "    all_files[command] = os.listdir(data_path+'/'+command)\n",
        "    \n",
        "num_files = 0\n",
        "for x_ in all_files.values():\n",
        "    num_files += len(x_)\n",
        "        \n",
        "print('There are %i audio files in the dataset' %num_files)\n",
        "\n",
        "# reference file for training set\n",
        "# if already exists import it\n",
        "if pathlib.Path(training_list_path).exists(): \n",
        "    reference_df_train =  pd.read_csv(data_path+\"/training_list.txt\", sep=\"/\", header=None, names=['label', 'file'])\n",
        "    \n",
        "# else search if it can be dowloaded\n",
        "else: \n",
        "  training_list_url = 'https://raw.githubusercontent.com/NicolaZomer/Keyword_Spotting/main/training_list.txt'\n",
        "  response = requests.get(training_list_url)\n",
        "\n",
        "  if response.status_code == 200:\n",
        "      wget.download(training_list_url, out=str(data_path))\n",
        "      print('File downloaded from GitHub')\n",
        "\n",
        "      reference_df_train =  pd.read_csv(data_path+\"/training_list.txt\", sep=\"/\", header=None, names=['label', 'file'])\n",
        "\n",
        "  else: # create it and store the dataframe as a .txt file; creating the pd object can take some time\n",
        "      print('File not found, error '+str(response.status_code))\n",
        "\n",
        "      reference_df_train = pd.DataFrame(columns=['label', 'file'])\n",
        "      for i, command in enumerate(commands):\n",
        "          print(\"Processing command '%s', %i commands missing...\" %(command, len(commands)-i-1))\n",
        "          for file in all_files[command]:\n",
        "              if file in reference_df_val['file'].values:\n",
        "                  continue\n",
        "              if file in reference_df_test['file'].values:\n",
        "                  continue\n",
        "\n",
        "              reference_df_train.loc[len(reference_df_train)] = [command, file]\n",
        "\n",
        "      print('Done!')\n",
        "      print('\\n')\n",
        "\n",
        "      # store reference_df_train in .txt file\n",
        "      reference_df_train.to_csv(data_path+'/training_list.txt', header=None, index=None, sep='/', mode='a')\n",
        "\n",
        "# print the result\n",
        "# print('----------------------------')\n",
        "# print('TRAINING FILES:')\n",
        "# print(reference_df_train)\n",
        "# print('----------------------------')\n",
        "# print('VALIDATION FILES:')\n",
        "# print(reference_df_val)\n",
        "# print('----------------------------')\n",
        "# print('TESTING FILES:')\n",
        "# print(reference_df_test)"
      ]
    },
    {
      "cell_type": "markdown",
      "metadata": {
        "id": "2naK4mEeguv5"
      },
      "source": [
        "Encode target labels with value between 0 and n_commands-1."
      ]
    },
    {
      "cell_type": "code",
      "execution_count": 10,
      "metadata": {
        "id": "tyTfKJQbguv6"
      },
      "outputs": [],
      "source": [
        "label_to_class = {commands[i]:i for i in range(len(commands))}\n",
        "# label_to_class"
      ]
    },
    {
      "cell_type": "code",
      "execution_count": 11,
      "metadata": {
        "id": "9bEaJKJkguv7"
      },
      "outputs": [],
      "source": [
        "class_to_label = {i:commands[i] for i in range(len(commands))}\n",
        "# class_to_label"
      ]
    },
    {
      "cell_type": "code",
      "execution_count": 12,
      "metadata": {
        "colab": {
          "base_uri": "https://localhost:8080/"
        },
        "id": "8vgwIDfSguv8",
        "outputId": "7c8c9ed3-8173-4523-c436-5a3cd71b3e68"
      },
      "outputs": [
        {
          "output_type": "stream",
          "name": "stdout",
          "text": [
            "TRAINING FILES:\n",
            "          label                   file  class\n",
            "0      backward  0165e0e8_nohash_0.wav      0\n",
            "1      backward  017c4098_nohash_0.wav      0\n",
            "2      backward  017c4098_nohash_1.wav      0\n",
            "3      backward  017c4098_nohash_2.wav      0\n",
            "4      backward  017c4098_nohash_3.wav      0\n",
            "...         ...                    ...    ...\n",
            "84838      zero  ffd2ba2f_nohash_1.wav     34\n",
            "84839      zero  ffd2ba2f_nohash_2.wav     34\n",
            "84840      zero  ffd2ba2f_nohash_3.wav     34\n",
            "84841      zero  ffd2ba2f_nohash_4.wav     34\n",
            "84842      zero  fffcabd1_nohash_0.wav     34\n",
            "\n",
            "[84843 rows x 3 columns]\n",
            "----------------------------\n",
            "VALIDATION FILES:\n",
            "      label                   file  class\n",
            "0     right  a69b9b3e_nohash_0.wav     22\n",
            "1     right  439c84f4_nohash_1.wav     22\n",
            "2     right  409c962a_nohash_1.wav     22\n",
            "3     right  dbaf8fc6_nohash_2.wav     22\n",
            "4     right  a6d586b7_nohash_1.wav     22\n",
            "...     ...                    ...    ...\n",
            "9976   four  d107dc42_nohash_0.wav     10\n",
            "9977   four  ad63d93c_nohash_0.wav     10\n",
            "9978   four  d3831f6a_nohash_1.wav     10\n",
            "9979   four  3c4aa5ef_nohash_3.wav     10\n",
            "9980   four  c6389ab0_nohash_0.wav     10\n",
            "\n",
            "[9981 rows x 3 columns]\n",
            "----------------------------\n",
            "TESTING FILES:\n",
            "       label                   file  class\n",
            "0      right  bb05582b_nohash_3.wav     22\n",
            "1      right  97f4c236_nohash_2.wav     22\n",
            "2      right  f2e59fea_nohash_3.wav     22\n",
            "3      right  fdb5155e_nohash_2.wav     22\n",
            "4      right  dc75148d_nohash_0.wav     22\n",
            "...      ...                    ...    ...\n",
            "11000   four  189cbabe_nohash_2.wav     10\n",
            "11001   four  8fe67225_nohash_3.wav     10\n",
            "11002   four  c9e251d2_nohash_1.wav     10\n",
            "11003   four  0c40e715_nohash_0.wav     10\n",
            "11004   four  8769c34c_nohash_3.wav     10\n",
            "\n",
            "[11005 rows x 3 columns]\n"
          ]
        }
      ],
      "source": [
        "reference_df_train['class'] = reference_df_train['label'].map(label_to_class)\n",
        "reference_df_val['class']   = reference_df_val['label'].map(label_to_class)\n",
        "reference_df_test['class']  = reference_df_test['label'].map(label_to_class)\n",
        "\n",
        "# print the result\n",
        "print('TRAINING FILES:')\n",
        "print(reference_df_train)\n",
        "print('----------------------------')\n",
        "print('VALIDATION FILES:')\n",
        "print(reference_df_val)\n",
        "print('----------------------------')\n",
        "print('TESTING FILES:')\n",
        "print(reference_df_test)"
      ]
    },
    {
      "cell_type": "code",
      "execution_count": 13,
      "metadata": {
        "colab": {
          "base_uri": "https://localhost:8080/"
        },
        "id": "QdOpKmpwguwi",
        "outputId": "f3964d31-4f4e-4e76-be63-5337188c8c37"
      },
      "outputs": [
        {
          "output_type": "stream",
          "name": "stdout",
          "text": [
            "TRAINING SET\n",
            "\tnumber of audio files: 84843\n",
            "\tpercentage of audio files: 80.17%\n",
            "VALIDATION SET\n",
            "\tnumber of audio files: 9981\n",
            "\tpercentage of audio files: 9.43%\n",
            "TEST SET\n",
            "\tnumber of audio files: 11005\n",
            "\tpercentage of audio files: 10.40%\n"
          ]
        }
      ],
      "source": [
        "print('TRAINING SET')\n",
        "print('\\tnumber of audio files: %i' %len(reference_df_train))\n",
        "print('\\tpercentage of audio files: %.2f%%' %(len(reference_df_train)/num_files*100))\n",
        "\n",
        "print('VALIDATION SET')\n",
        "print('\\tnumber of audio files: %i' %len(reference_df_val))\n",
        "print('\\tpercentage of audio files: %.2f%%' %(len(reference_df_val)/num_files*100))\n",
        "\n",
        "print('TEST SET')\n",
        "print('\\tnumber of audio files: %i' %len(reference_df_test))\n",
        "print('\\tpercentage of audio files: %.2f%%' %(len(reference_df_test)/num_files*100))"
      ]
    },
    {
      "cell_type": "markdown",
      "metadata": {
        "id": "5OntieQwayQN"
      },
      "source": [
        "### 1.4 Noise loading \n",
        "We load here the available noisy audio signals and we defined the object `noise_dict`, which is required by the function `load_and_preprocessing_data` (see next section)."
      ]
    },
    {
      "cell_type": "code",
      "execution_count": 14,
      "metadata": {
        "colab": {
          "base_uri": "https://localhost:8080/"
        },
        "id": "G_Mm2LkLaxUT",
        "outputId": "4511be22-1bf7-4fa9-afec-0851eb658393"
      },
      "outputs": [
        {
          "output_type": "stream",
          "name": "stderr",
          "text": [
            "/content/preprocessing_utils.py:69: WavFileWarning: Chunk (non-data) not understood, skipping it.\n",
            "  _, data = wavfile.read(file_path)\n"
          ]
        }
      ],
      "source": [
        "noise_path = '_background_noise_'\n",
        "\n",
        "# load all noises \n",
        "noise_1 = preprocessing_utils.load_data('doing_the_dishes.wav', noise_path)\n",
        "noise_2 = preprocessing_utils.load_data('dude_miaowing.wav', noise_path)\n",
        "noise_3 = preprocessing_utils.load_data('exercise_bike.wav', noise_path)\n",
        "noise_4 = preprocessing_utils.load_data('pink_noise.wav', noise_path)\n",
        "noise_5 = preprocessing_utils.load_data('running_tap.wav', noise_path)\n",
        "noise_6 = preprocessing_utils.load_data('white_noise.wav', noise_path)\n",
        "\n",
        "noise_dict = {\n",
        "    '1': noise_1, \n",
        "    '2': noise_2, \n",
        "    '3': noise_3, \n",
        "    '4': noise_4, \n",
        "    '5': noise_5, \n",
        "    '6': noise_6\n",
        "}"
      ]
    },
    {
      "cell_type": "markdown",
      "metadata": {
        "id": "af53Vbe4gu07"
      },
      "source": [
        "## 2 - Data Loading using the Dataset API\n",
        "As the dataset is quite large (>5GiB), there is the risk that it will not entirely fit in the memory, plus the preprocessing pipeline would be computationally intensive. For these reasons, we want to implement a proper and optimized data-loading pipeline, as reading the data can be the main bottleneck of the entire training process. This can be done by exploit the [Tensorflow Dataset API](https://www.tensorflow.org/guide/datasets).\n",
        "\n",
        "The main goal of this phase is to create a `tf.data.Dataset` object to efficiently load and preprocess your data. \n",
        "\n",
        "## 2.1 Loading and preprocessing\n",
        "First, to load and preprocess the data, we use the function `load_and_preprocess_data`, defined in the file `preprocessing_utils.py`. This function puts together all loading and preprocessing methods that can be explored in the notebook `B1_data_analysis_and_preprocessing_inspection.ipynb`. \n",
        "\n"
      ]
    },
    {
      "cell_type": "code",
      "execution_count": 15,
      "metadata": {
        "colab": {
          "base_uri": "https://localhost:8080/"
        },
        "id": "XPDcrdmCY17R",
        "outputId": "eb09ff12-247a-4239-c049-85117dfa5cf8"
      },
      "outputs": [
        {
          "output_type": "stream",
          "name": "stdout",
          "text": [
            "def load_and_preprocess_data(file_name, file_label, data_path_=data_path, apply_background_noise=False, noise_dict=None, noise_reduction=0.5, features=1, resize=False):\n",
            "    '''\n",
            "    features:\n",
            "    - 1 for MFCC features (default), delta_order=2\n",
            "    - 2 for log Mel-filterbank energy features\n",
            "    - 3 for spectrogram\n",
            "    - 4 for Discrete Wavelet Transform + MFCC features\n",
            "    - 5 for MFCC features, delta_order=0\n",
            "    '''\n",
            "    \n",
            "    # load data\n",
            "    data = load_data(file_name, file_label, data_path_=data_path_)\n",
            "    \n",
            "    # padding/trimming\n",
            "    data = padding_trimming(data)\n",
            "    \n",
            "    # add background noise\n",
            "    if apply_background_noise:\n",
            "        data = background_noise(data, noise_dict=noise_dict, noise_reduction=noise_reduction)\n",
            "\n",
            "    # extract features\n",
            "    if features == 1:\n",
            "        data_features = get_mfcc(data)\n",
            "    \n",
            "    elif features == 2:\n",
            "        data_features = get_logfbank(data)\n",
            "\n",
            "    elif features == 3:\n",
            "        data_features = get_spectrogram(data)\n",
            "\n",
            "    elif features == 4:\n",
            "        data, _ = dwt(data=data, wavelet='db1', mode='sym')\n",
            "        data_features = get_mfcc(data)\n",
            "        \n",
            "    elif features == 5:\n",
            "        data_features = get_mfcc(data, delta_order=0)\n",
            "        \n",
            "    elif features == 6:\n",
            "        data_features = get_logfbank(data, winlen=32, winstep=15.5, nfilt=64)\n",
            "        \n",
            "    else:\n",
            "        data_features = data\n",
            "    \n",
            "    # resize feature vector\n",
            "    if resize:\n",
            "        data_features = np.resize(data_features, (50, 50))\n",
            "        \n",
            "    # TensorFlow takes as input 32-bit floating point data\n",
            "    return data_features.astype(np.float32)\n",
            "\n"
          ]
        }
      ],
      "source": [
        "print(inspect.getsource(preprocessing_utils.load_and_preprocess_data))\n"
      ]
    },
    {
      "cell_type": "markdown",
      "metadata": {
        "id": "2fIv5VEdgu1a"
      },
      "source": [
        "### 2.1 - Dataset definition\n",
        "We now define the `create_dataset` function, which initializes a `tf.data.Dataset` object and properly maps all the required processing. More details on this procedure can be found [here](https://www.tensorflow.org/guide/performance/datasets), along with additional tips and tricks for performance optimization."
      ]
    },
    {
      "cell_type": "code",
      "execution_count": 16,
      "metadata": {
        "id": "IpL9t-wfcgSu"
      },
      "outputs": [],
      "source": [
        "def load_and_preprocess_noisedict_passed(file_name, file_label, data_path_=data_path, apply_background_noise=False, noise_reduction=0.5, features=1):\n",
        "  return preprocessing_utils.load_and_preprocess_data(\n",
        "        file_name, file_label, data_path_=data_path_, \n",
        "        apply_background_noise=False, noise_dict=noise_dict, noise_reduction=noise_reduction, \n",
        "        features=features, resize=False\n",
        "      )\n"
      ]
    },
    {
      "cell_type": "code",
      "execution_count": 17,
      "metadata": {
        "id": "lRoZ6waNgu1a"
      },
      "outputs": [],
      "source": [
        "def create_dataset(df, data_path_=data_path, apply_background_noise=False, features=2, cache_file=None, shuffle=True, batch_size=32, noise_reduction=0.5):\n",
        "\n",
        "    # Convert DataFrame to lists\n",
        "    file_names = df['file'].tolist()\n",
        "    file_labels = df['class'].tolist()\n",
        "\n",
        "    # Create a Dataset object\n",
        "    dataset = tf.data.Dataset.from_tensor_slices((file_names, file_labels))\n",
        "\n",
        "    # Map the load_and_preprocess_data function\n",
        "    def numpy_func(file_name, file_label):\n",
        "        return tf.numpy_function(load_and_preprocess_noisedict_passed, inp=[file_name, file_label, data_path_, apply_background_noise, noise_reduction, features], Tout=tf.float32), file_label\n",
        "    dataset = dataset.map(numpy_func, num_parallel_calls=os.cpu_count())\n",
        "\n",
        "    # Cache\n",
        "    if cache_file:\n",
        "        dataset = dataset.cache(filename=cache_file)\n",
        "\n",
        "    # Shuffle\n",
        "    if shuffle:\n",
        "        dataset = dataset.shuffle(buffer_size=len(df))\n",
        "\n",
        "    # Repeat the dataset indefinitely\n",
        "    dataset = dataset.repeat()\n",
        "\n",
        "    # Batch\n",
        "    dataset = dataset.batch(batch_size=batch_size)\n",
        "\n",
        "    # Prefetch\n",
        "    dataset = dataset.prefetch(buffer_size=1)\n",
        "\n",
        "    # Steps\n",
        "    steps = int(np.ceil(len(df) / batch_size))\n",
        "\n",
        "    return dataset, steps"
      ]
    },
    {
      "cell_type": "markdown",
      "metadata": {
        "id": "g7wcCw0Kgu1b"
      },
      "source": [
        "### 2.2 - Dataset initialization\n",
        "Finally, we define the training, validation and testing dataset, applying the above function to each of the corresponding reference dataframes. We also evaluate the number of steps (*train_steps*, *val_steps* and *test_steps*) required to load and process the entire dataset (num. of samples / batch_size).\n",
        "\n",
        "We perform the Bayesian Optimization using the log Mel-filterbank energies, as from some preliminary tests we have seen that they could lead to best performances. For this reason we set `features_to_extract=2`."
      ]
    },
    {
      "cell_type": "code",
      "execution_count": 18,
      "metadata": {
        "id": "i2c5zxUVgu1b"
      },
      "outputs": [],
      "source": [
        "apply_bn = True\n",
        "noise_red = 0.5\n",
        "features_to_extract = 2 # for log Mel-filterbank energy features\n",
        "batch_size = 32\n",
        "\n",
        "train_dataset, train_steps = create_dataset(\n",
        "    reference_df_train, \n",
        "    apply_background_noise=apply_bn,\n",
        "    noise_reduction=noise_red,\n",
        "    features=features_to_extract,\n",
        "    cache_file='train_cache',\n",
        "    shuffle=True,\n",
        "    batch_size=batch_size\n",
        ")\n",
        "\n",
        "val_dataset, val_steps = create_dataset(\n",
        "    reference_df_val,\n",
        "    apply_background_noise=apply_bn,\n",
        "    noise_reduction=noise_red,\n",
        "    features=features_to_extract,\n",
        "    cache_file='val_cache',\n",
        "    shuffle=True,\n",
        "    batch_size=batch_size\n",
        ")\n",
        "\n",
        "# important, shuffle=False and do not apply bn in the test set\n",
        "apply_bn=False\n",
        "test_dataset, test_steps = create_dataset(\n",
        "    reference_df_test,\n",
        "    apply_background_noise=apply_bn, \n",
        "    features=features_to_extract,\n",
        "    cache_file='test_cache',\n",
        "    shuffle=False,\n",
        "    batch_size=batch_size\n",
        ")"
      ]
    },
    {
      "cell_type": "markdown",
      "metadata": {
        "id": "pAzYaBq6avvO"
      },
      "source": [
        "# Bayesian Optimization"
      ]
    },
    {
      "cell_type": "markdown",
      "metadata": {
        "id": "1dp116A5gu1c"
      },
      "source": [
        "## 3 - BO, introduction\n",
        "Bayesian optimization is a strategy to find the optimum of a black-box function, whose analytic form is not known and which is expensive to evaluate. The optimization is achieved through a sequential data\n",
        "driven scenario, where the goal is to improve the guess of the optimum while being data efficient in terms of how many queries we ask of the black-box. In this case we apply it to find the CNN model parameter values that lead to the best accuracy.\n",
        "\n",
        "For more information, refer to the following references: \n",
        "- [Bayesian optimization with skopt — scikit-optimize 0.8.1 documentation](https://scikit-optimize.github.io/stable/auto_examples/bayesian-optimization.html)\n",
        "- [Bayesian Optimisation: Gaussian processes & Beyond — Haitham Bou Ammar (LinkedIn)](https://www.linkedin.com/posts/haitham-bou-ammar-a723a932_long-bayesian-optimisation-talk-from-simple-activity-6989891577967968256-b6DC?utm_source=share&utm_medium=member_desktop)\n",
        "\n",
        "### 3.0 - Import for BO"
      ]
    },
    {
      "cell_type": "code",
      "execution_count": 19,
      "metadata": {
        "colab": {
          "base_uri": "https://localhost:8080/"
        },
        "id": "IavVFHif1vRL",
        "outputId": "e9d63b26-61eb-4ab3-9857-f07b7cbc9bfb"
      },
      "outputs": [
        {
          "output_type": "stream",
          "name": "stdout",
          "text": [
            "\u001b[?25l     \u001b[90m━━━━━━━━━━━━━━━━━━━━━━━━━━━━━━━━━━━━━━━━\u001b[0m \u001b[32m0.0/100.3 KB\u001b[0m \u001b[31m?\u001b[0m eta \u001b[36m-:--:--\u001b[0m\r\u001b[2K     \u001b[90m━━━━━━━━━━━━━━━━━━━━━━━━━━━━━━━━━━━━━━━\u001b[0m \u001b[32m100.3/100.3 KB\u001b[0m \u001b[31m9.0 MB/s\u001b[0m eta \u001b[36m0:00:00\u001b[0m\n",
            "\u001b[?25h"
          ]
        }
      ],
      "source": [
        "!pip install -q scikit-optimize\n",
        "\n",
        "from skopt.space import Real, Integer\n",
        "from skopt.utils import use_named_args\n",
        "from skopt.plots import plot_convergence \n",
        "\n",
        "from skopt import gp_minimize"
      ]
    },
    {
      "cell_type": "markdown",
      "metadata": {
        "id": "1_ig3uhw1oi7"
      },
      "source": [
        "### 3.1 - Model definition"
      ]
    },
    {
      "cell_type": "code",
      "execution_count": 20,
      "metadata": {
        "id": "bvPRWpCRgu1f"
      },
      "outputs": [],
      "source": [
        "features_to_input = { # input shapes\n",
        "    1 : (99, 13),     # MFCC features with delta\n",
        "    2 : (99, 40),     # log Mel-filterbank energy features\n",
        "    3 : (98, 257),    # spectrogram\n",
        "    4 : (49, 39),     # Discrete Wavelet Transform + MFCC features\n",
        "    5 : (99, 13)      # MFCC features no delta\n",
        "}\n",
        "\n",
        "input_shape = features_to_input[features_to_extract]\n",
        "\n",
        "def custom_cnn_simple(\n",
        "    input_shape, \n",
        "    nf_sp_1, nf_sp_2, nk_sp_l, nk_sp_r, mp_sp, dp_sp, \n",
        "    nf_tp_1, nf_tp_2, nk_tp_l, nk_tp_r, mp_tp_1, mp_tp_2, dp_tp, \n",
        "    dp_fc, lr\n",
        "    ):\n",
        "    '''\n",
        "      4 cnn blocks, 2x (2, 2) pooling, 2x pooling in time\n",
        "    '''\n",
        "\n",
        "    model = tf.keras.models.Sequential(name='custom_cnn')\n",
        "\n",
        "    model.add(tf.keras.layers.Reshape(input_shape=input_shape, target_shape=(input_shape[0], input_shape[1], 1)))\n",
        "    model.add(tf.keras.layers.BatchNormalization())\n",
        "\n",
        "    filters_pool = [nf_sp_1, nf_sp_2]\n",
        "\n",
        "    for num_filters in filters_pool:\n",
        "\n",
        "      model.add(tf.keras.layers.Conv2D(num_filters, kernel_size=(nk_sp_l, nk_sp_r), padding='same'))\n",
        "      model.add(tf.keras.layers.BatchNormalization())\n",
        "      model.add(tf.keras.layers.Activation('relu'))\n",
        "\n",
        "      model.add(tf.keras.layers.MaxPooling2D(pool_size=(mp_sp, mp_sp)))\n",
        "      model.add(tf.keras.layers.Dropout(dp_sp))\n",
        "\n",
        "    filters_pool_in_time = [nf_tp_1, nf_tp_2]\n",
        "\n",
        "    for p, num_filters in zip([mp_tp_1, mp_tp_2], filters_pool_in_time):\n",
        "\n",
        "      model.add(tf.keras.layers.Conv2D(num_filters, kernel_size=(nk_tp_l, nk_tp_r), padding='same'))\n",
        "      model.add(tf.keras.layers.BatchNormalization())\n",
        "      model.add(tf.keras.layers.Activation('relu'))\n",
        "\n",
        "      model.add(tf.keras.layers.MaxPooling2D(pool_size=(p, 1)))\n",
        "      model.add(tf.keras.layers.Dropout(dp_tp))\n",
        "\n",
        "    model.add(tf.keras.layers.Flatten())\n",
        "    model.add(tf.keras.layers.Dropout(dp_fc))\n",
        "    model.add(tf.keras.layers.Dense(256))\n",
        "    model.add(tf.keras.layers.BatchNormalization())\n",
        "    model.add(tf.keras.layers.Activation('relu'))\n",
        "    model.add(tf.keras.layers.Dense(35, activation='softmax'))\n",
        "\n",
        "    model.compile(loss='sparse_categorical_crossentropy', \n",
        "              optimizer=tf.keras.optimizers.Adam(learning_rate=lr),\n",
        "              metrics=[\"sparse_categorical_accuracy\"])\n",
        "\n",
        "    return model\n",
        "\n",
        "model_name = 'custom_cnn_simple'\n",
        "\n"
      ]
    },
    {
      "cell_type": "markdown",
      "metadata": {
        "id": "tXtyU_GnWTzg"
      },
      "source": [
        "### 3.2 - Search space dimensions and objective function"
      ]
    },
    {
      "cell_type": "code",
      "execution_count": 21,
      "metadata": {
        "id": "079jwj07ndiU"
      },
      "outputs": [],
      "source": [
        "search_space  = [\n",
        "    Integer(2, 128, name='nf_sp_1'),\n",
        "    Integer(2, 128, name='nf_sp_2'),\n",
        "    Integer(2, 8, name='nk_sp_l'),\n",
        "    Integer(2, 8, name='nk_sp_r'),\n",
        "    Integer(1, 3, name='mp_sp'),\n",
        "    Real(0.1, 0.5, name='dp_sp'),\n",
        "\n",
        "    Integer(8, 256, name='nf_tp_1'),\n",
        "    Integer(8, 256, name='nf_tp_2'),\n",
        "    Integer(2, 8, name='nk_tp_l'),\n",
        "    Integer(2, 8, name='nk_tp_r'),\n",
        "    Integer(1, 3, name='mp_tp_1'),\n",
        "    Integer(1, 3, name='mp_tp_2'),\n",
        "    Real(0.1, 0.5, name='dp_tp'),\n",
        "\n",
        "    Real(0.1, 0.5, name='dp_fc'),\n",
        "    Real(1e-6, 1e-2, 'log-uniform', name='lr')\n",
        "]"
      ]
    },
    {
      "cell_type": "code",
      "execution_count": 22,
      "metadata": {
        "id": "7jlOmoCM61B2"
      },
      "outputs": [],
      "source": [
        "@use_named_args(search_space)\n",
        "def objective_f(nf_sp_1, nf_sp_2, nk_sp_l, nk_sp_r, mp_sp, dp_sp, \n",
        "      nf_tp_1, nf_tp_2, nk_tp_l, nk_tp_r, mp_tp_1, mp_tp_2, dp_tp, \n",
        "      dp_fc, lr):\n",
        "    model = custom_cnn_simple(\n",
        "      input_shape, \n",
        "      nf_sp_1, nf_sp_2, nk_sp_l, nk_sp_r, mp_sp, dp_sp, \n",
        "      nf_tp_1, nf_tp_2, nk_tp_l, nk_tp_r, mp_tp_1, mp_tp_2, dp_tp, \n",
        "      dp_fc, lr\n",
        "    )\n",
        "    \n",
        "    num_epochs = 20\n",
        "\n",
        "    early_stop_callback = tf.keras.callbacks.EarlyStopping(monitor='val_loss', patience=5)\n",
        "    reduce_LR = tf.keras.callbacks.ReduceLROnPlateau(monitor='val_loss', patience=3, verbose=1)\n",
        "    \n",
        "    history = model.fit(\n",
        "                train_dataset,\n",
        "                epochs=num_epochs,\n",
        "                steps_per_epoch=train_steps,\n",
        "                validation_data=val_dataset,\n",
        "                validation_steps=val_steps,\n",
        "                callbacks=[early_stop_callback, reduce_LR], \n",
        "                verbose=0\n",
        "                )\n",
        "    \n",
        "    # get last epoch accuracy and print is\n",
        "    accuracy = history.history['val_sparse_categorical_accuracy'][-1]\n",
        "    \n",
        "    print(\"\\n\\nAccuracy: {0:.2%}\\n\\n\".format(accuracy))\n",
        "\n",
        "    # clean memory: delete model and clean session \n",
        "    del model\n",
        "    \n",
        "    tf.keras.backend.clear_session()\n",
        "\n",
        "    return -accuracy # minus because it returns what we want to minimize"
      ]
    },
    {
      "cell_type": "code",
      "execution_count": 23,
      "metadata": {
        "colab": {
          "base_uri": "https://localhost:8080/"
        },
        "id": "gGJ5IAK-7kk6",
        "outputId": "75ea58ef-9269-4d6b-82cf-8fd2e2f3c70d"
      },
      "outputs": [
        {
          "output_type": "stream",
          "name": "stdout",
          "text": [
            "Iteration No: 1 started. Evaluating function at random point.\n"
          ]
        },
        {
          "output_type": "stream",
          "name": "stderr",
          "text": [
            "/usr/local/lib/python3.8/dist-packages/keras/optimizers/optimizer_v2/adam.py:110: UserWarning: The `lr` argument is deprecated, use `learning_rate` instead.\n",
            "  super(Adam, self).__init__(name, **kwargs)\n"
          ]
        },
        {
          "output_type": "stream",
          "name": "stdout",
          "text": [
            "\n",
            "\n",
            "Accuracy: 91.18%\n",
            "\n",
            "\n",
            "Iteration No: 1 ended. Evaluation done at random point.\n",
            "Time taken: 5723.5120\n",
            "Function value obtained: -0.9118\n",
            "Current minimum: -0.9118\n",
            "Iteration No: 2 started. Evaluating function at random point.\n",
            "\n",
            "\n",
            "Accuracy: 67.21%\n",
            "\n",
            "\n",
            "Iteration No: 2 ended. Evaluation done at random point.\n",
            "Time taken: 743.0302\n",
            "Function value obtained: -0.6721\n",
            "Current minimum: -0.9118\n",
            "Iteration No: 3 started. Evaluating function at random point.\n",
            "\n",
            "\n",
            "Accuracy: 80.86%\n",
            "\n",
            "\n",
            "Iteration No: 3 ended. Evaluation done at random point.\n",
            "Time taken: 923.2033\n",
            "Function value obtained: -0.8086\n",
            "Current minimum: -0.9118\n",
            "Iteration No: 4 started. Evaluating function at random point.\n",
            "\n",
            "\n",
            "Accuracy: 87.76%\n",
            "\n",
            "\n",
            "Iteration No: 4 ended. Evaluation done at random point.\n",
            "Time taken: 983.1694\n",
            "Function value obtained: -0.8776\n",
            "Current minimum: -0.9118\n",
            "Iteration No: 5 started. Evaluating function at random point.\n",
            "\n",
            "\n",
            "Accuracy: 67.22%\n",
            "\n",
            "\n",
            "Iteration No: 5 ended. Evaluation done at random point.\n",
            "Time taken: 878.4694\n",
            "Function value obtained: -0.6722\n",
            "Current minimum: -0.9118\n",
            "Iteration No: 6 started. Evaluating function at random point.\n",
            "\n",
            "\n",
            "Accuracy: 47.70%\n",
            "\n",
            "\n",
            "Iteration No: 6 ended. Evaluation done at random point.\n",
            "Time taken: 575.3358\n",
            "Function value obtained: -0.4770\n",
            "Current minimum: -0.9118\n",
            "Iteration No: 7 started. Evaluating function at random point.\n",
            "\n",
            "\n",
            "Accuracy: 14.28%\n",
            "\n",
            "\n",
            "Iteration No: 7 ended. Evaluation done at random point.\n",
            "Time taken: 623.0400\n",
            "Function value obtained: -0.1428\n",
            "Current minimum: -0.9118\n",
            "Iteration No: 8 started. Evaluating function at random point.\n",
            "\n",
            "\n",
            "Accuracy: 85.20%\n",
            "\n",
            "\n",
            "Iteration No: 8 ended. Evaluation done at random point.\n",
            "Time taken: 863.0069\n",
            "Function value obtained: -0.8520\n",
            "Current minimum: -0.9118\n",
            "Iteration No: 9 started. Evaluating function at random point.\n",
            "\n",
            "\n",
            "Accuracy: 90.97%\n",
            "\n",
            "\n",
            "Iteration No: 9 ended. Evaluation done at random point.\n",
            "Time taken: 5784.6899\n",
            "Function value obtained: -0.9097\n",
            "Current minimum: -0.9118\n",
            "Iteration No: 10 started. Evaluating function at random point.\n",
            "\n",
            "\n",
            "Accuracy: 87.36%\n",
            "\n",
            "\n",
            "Iteration No: 10 ended. Evaluation done at random point.\n",
            "Time taken: 404.5852\n",
            "Function value obtained: -0.8736\n",
            "Current minimum: -0.9118\n",
            "Iteration No: 11 started. Searching for the next optimal point.\n"
          ]
        },
        {
          "output_type": "stream",
          "name": "stderr",
          "text": [
            "/usr/local/lib/python3.8/dist-packages/keras/optimizers/optimizer_v2/adam.py:110: UserWarning: The `lr` argument is deprecated, use `learning_rate` instead.\n",
            "  super(Adam, self).__init__(name, **kwargs)\n"
          ]
        },
        {
          "output_type": "stream",
          "name": "stdout",
          "text": [
            "\n",
            "Epoch 15: ReduceLROnPlateau reducing learning rate to 4.05108803533949e-06.\n",
            "\n",
            "Epoch 20: ReduceLROnPlateau reducing learning rate to 4.05108812628896e-07.\n",
            "\n",
            "\n",
            "Accuracy: 91.49%\n",
            "\n",
            "\n",
            "Iteration No: 11 ended. Search finished for the next optimal point.\n",
            "Time taken: 6023.5126\n",
            "Function value obtained: -0.9149\n",
            "Current minimum: -0.9149\n",
            "Iteration No: 12 started. Searching for the next optimal point.\n"
          ]
        },
        {
          "output_type": "stream",
          "name": "stderr",
          "text": [
            "/usr/local/lib/python3.8/dist-packages/keras/optimizers/optimizer_v2/adam.py:110: UserWarning: The `lr` argument is deprecated, use `learning_rate` instead.\n",
            "  super(Adam, self).__init__(name, **kwargs)\n"
          ]
        },
        {
          "output_type": "stream",
          "name": "stdout",
          "text": [
            "\n",
            "\n",
            "Accuracy: 77.46%\n",
            "\n",
            "\n",
            "Iteration No: 12 ended. Search finished for the next optimal point.\n",
            "Time taken: 904.3447\n",
            "Function value obtained: -0.7746\n",
            "Current minimum: -0.9149\n",
            "Iteration No: 13 started. Searching for the next optimal point.\n"
          ]
        },
        {
          "output_type": "stream",
          "name": "stderr",
          "text": [
            "/usr/local/lib/python3.8/dist-packages/keras/optimizers/optimizer_v2/adam.py:110: UserWarning: The `lr` argument is deprecated, use `learning_rate` instead.\n",
            "  super(Adam, self).__init__(name, **kwargs)\n"
          ]
        },
        {
          "output_type": "stream",
          "name": "stdout",
          "text": [
            "\n",
            "\n",
            "Accuracy: 79.45%\n",
            "\n",
            "\n",
            "Iteration No: 13 ended. Search finished for the next optimal point.\n",
            "Time taken: 803.6716\n",
            "Function value obtained: -0.7945\n",
            "Current minimum: -0.9149\n",
            "Iteration No: 14 started. Searching for the next optimal point.\n"
          ]
        },
        {
          "output_type": "stream",
          "name": "stderr",
          "text": [
            "/usr/local/lib/python3.8/dist-packages/keras/optimizers/optimizer_v2/adam.py:110: UserWarning: The `lr` argument is deprecated, use `learning_rate` instead.\n",
            "  super(Adam, self).__init__(name, **kwargs)\n"
          ]
        },
        {
          "output_type": "stream",
          "name": "stdout",
          "text": [
            "\n",
            "\n",
            "Accuracy: 83.74%\n",
            "\n",
            "\n",
            "Iteration No: 14 ended. Search finished for the next optimal point.\n",
            "Time taken: 1044.0244\n",
            "Function value obtained: -0.8374\n",
            "Current minimum: -0.9149\n",
            "Iteration No: 15 started. Searching for the next optimal point.\n"
          ]
        },
        {
          "output_type": "stream",
          "name": "stderr",
          "text": [
            "/usr/local/lib/python3.8/dist-packages/keras/optimizers/optimizer_v2/adam.py:110: UserWarning: The `lr` argument is deprecated, use `learning_rate` instead.\n",
            "  super(Adam, self).__init__(name, **kwargs)\n"
          ]
        },
        {
          "output_type": "stream",
          "name": "stdout",
          "text": [
            "\n",
            "Epoch 18: ReduceLROnPlateau reducing learning rate to 2.9234515750431456e-06.\n",
            "\n",
            "\n",
            "Accuracy: 89.88%\n",
            "\n",
            "\n",
            "Iteration No: 15 ended. Search finished for the next optimal point.\n",
            "Time taken: 6143.5191\n",
            "Function value obtained: -0.8988\n",
            "Current minimum: -0.9149\n",
            "Iteration No: 16 started. Searching for the next optimal point.\n"
          ]
        },
        {
          "output_type": "stream",
          "name": "stderr",
          "text": [
            "/usr/local/lib/python3.8/dist-packages/keras/optimizers/optimizer_v2/adam.py:110: UserWarning: The `lr` argument is deprecated, use `learning_rate` instead.\n",
            "  super(Adam, self).__init__(name, **kwargs)\n"
          ]
        },
        {
          "output_type": "stream",
          "name": "stdout",
          "text": [
            "\n",
            "Epoch 10: ReduceLROnPlateau reducing learning rate to 1.6177868019440213e-06.\n",
            "\n",
            "\n",
            "Accuracy: 31.74%\n",
            "\n",
            "\n",
            "Iteration No: 16 ended. Search finished for the next optimal point.\n",
            "Time taken: 383.4020\n",
            "Function value obtained: -0.3174\n",
            "Current minimum: -0.9149\n",
            "Iteration No: 17 started. Searching for the next optimal point.\n"
          ]
        },
        {
          "output_type": "stream",
          "name": "stderr",
          "text": [
            "/usr/local/lib/python3.8/dist-packages/keras/optimizers/optimizer_v2/adam.py:110: UserWarning: The `lr` argument is deprecated, use `learning_rate` instead.\n",
            "  super(Adam, self).__init__(name, **kwargs)\n"
          ]
        },
        {
          "output_type": "stream",
          "name": "stdout",
          "text": [
            "\n",
            "Epoch 19: ReduceLROnPlateau reducing learning rate to 6.540543108712882e-06.\n",
            "\n",
            "\n",
            "Accuracy: 90.78%\n",
            "\n",
            "\n",
            "Iteration No: 17 ended. Search finished for the next optimal point.\n",
            "Time taken: 743.5392\n",
            "Function value obtained: -0.9078\n",
            "Current minimum: -0.9149\n",
            "Iteration No: 18 started. Searching for the next optimal point.\n"
          ]
        },
        {
          "output_type": "stream",
          "name": "stderr",
          "text": [
            "/usr/local/lib/python3.8/dist-packages/keras/optimizers/optimizer_v2/adam.py:110: UserWarning: The `lr` argument is deprecated, use `learning_rate` instead.\n",
            "  super(Adam, self).__init__(name, **kwargs)\n"
          ]
        },
        {
          "output_type": "stream",
          "name": "stdout",
          "text": [
            "\n",
            "Epoch 8: ReduceLROnPlateau reducing learning rate to 0.00022847854997962714.\n",
            "\n",
            "Epoch 13: ReduceLROnPlateau reducing learning rate to 2.2847854415886105e-05.\n",
            "\n",
            "\n",
            "Accuracy: 91.71%\n",
            "\n",
            "\n",
            "Iteration No: 18 ended. Search finished for the next optimal point.\n",
            "Time taken: 3863.5165\n",
            "Function value obtained: -0.9171\n",
            "Current minimum: -0.9171\n",
            "Iteration No: 19 started. Searching for the next optimal point.\n"
          ]
        },
        {
          "output_type": "stream",
          "name": "stderr",
          "text": [
            "/usr/local/lib/python3.8/dist-packages/keras/optimizers/optimizer_v2/adam.py:110: UserWarning: The `lr` argument is deprecated, use `learning_rate` instead.\n",
            "  super(Adam, self).__init__(name, **kwargs)\n"
          ]
        },
        {
          "output_type": "stream",
          "name": "stdout",
          "text": [
            "\n",
            "Epoch 10: ReduceLROnPlateau reducing learning rate to 2.055695658782497e-05.\n",
            "\n",
            "Epoch 16: ReduceLROnPlateau reducing learning rate to 2.055695586022921e-06.\n",
            "\n",
            "\n",
            "Accuracy: 91.61%\n",
            "\n",
            "\n",
            "Iteration No: 19 ended. Search finished for the next optimal point.\n",
            "Time taken: 4584.9453\n",
            "Function value obtained: -0.9161\n",
            "Current minimum: -0.9171\n",
            "Iteration No: 20 started. Searching for the next optimal point.\n"
          ]
        },
        {
          "output_type": "stream",
          "name": "stderr",
          "text": [
            "/usr/local/lib/python3.8/dist-packages/keras/optimizers/optimizer_v2/adam.py:110: UserWarning: The `lr` argument is deprecated, use `learning_rate` instead.\n",
            "  super(Adam, self).__init__(name, **kwargs)\n"
          ]
        },
        {
          "output_type": "stream",
          "name": "stdout",
          "text": [
            "\n",
            "Epoch 10: ReduceLROnPlateau reducing learning rate to 0.0009554545395076275.\n",
            "\n",
            "Epoch 15: ReduceLROnPlateau reducing learning rate to 9.554545395076276e-05.\n",
            "\n",
            "\n",
            "Accuracy: 89.25%\n",
            "\n",
            "\n",
            "Iteration No: 20 ended. Search finished for the next optimal point.\n",
            "Time taken: 429.8047\n",
            "Function value obtained: -0.8925\n",
            "Current minimum: -0.9171\n",
            "Iteration No: 21 started. Searching for the next optimal point.\n"
          ]
        },
        {
          "output_type": "stream",
          "name": "stderr",
          "text": [
            "/usr/local/lib/python3.8/dist-packages/keras/optimizers/optimizer_v2/adam.py:110: UserWarning: The `lr` argument is deprecated, use `learning_rate` instead.\n",
            "  super(Adam, self).__init__(name, **kwargs)\n"
          ]
        },
        {
          "output_type": "stream",
          "name": "stdout",
          "text": [
            "\n",
            "Epoch 9: ReduceLROnPlateau reducing learning rate to 3.523117047734559e-05.\n",
            "\n",
            "Epoch 14: ReduceLROnPlateau reducing learning rate to 3.5231169022154063e-06.\n",
            "\n",
            "\n",
            "Accuracy: 90.11%\n",
            "\n",
            "\n",
            "Iteration No: 21 ended. Search finished for the next optimal point.\n",
            "Time taken: 3323.4001\n",
            "Function value obtained: -0.9011\n",
            "Current minimum: -0.9171\n",
            "Iteration No: 22 started. Searching for the next optimal point.\n"
          ]
        },
        {
          "output_type": "stream",
          "name": "stderr",
          "text": [
            "/usr/local/lib/python3.8/dist-packages/keras/optimizers/optimizer_v2/adam.py:110: UserWarning: The `lr` argument is deprecated, use `learning_rate` instead.\n",
            "  super(Adam, self).__init__(name, **kwargs)\n"
          ]
        },
        {
          "output_type": "stream",
          "name": "stdout",
          "text": [
            "\n",
            "Epoch 18: ReduceLROnPlateau reducing learning rate to 8.384155808016659e-06.\n",
            "\n",
            "\n",
            "Accuracy: 92.48%\n",
            "\n",
            "\n",
            "Iteration No: 22 ended. Search finished for the next optimal point.\n",
            "Time taken: 5363.9511\n",
            "Function value obtained: -0.9248\n",
            "Current minimum: -0.9248\n",
            "Iteration No: 23 started. Searching for the next optimal point.\n"
          ]
        },
        {
          "output_type": "stream",
          "name": "stderr",
          "text": [
            "/usr/local/lib/python3.8/dist-packages/keras/optimizers/optimizer_v2/adam.py:110: UserWarning: The `lr` argument is deprecated, use `learning_rate` instead.\n",
            "  super(Adam, self).__init__(name, **kwargs)\n"
          ]
        },
        {
          "output_type": "stream",
          "name": "stdout",
          "text": [
            "\n",
            "Epoch 12: ReduceLROnPlateau reducing learning rate to 0.0007373829372227192.\n",
            "\n",
            "Epoch 17: ReduceLROnPlateau reducing learning rate to 7.37382913939655e-05.\n",
            "\n",
            "\n",
            "Accuracy: 93.21%\n",
            "\n",
            "\n",
            "Iteration No: 23 ended. Search finished for the next optimal point.\n",
            "Time taken: 922.0916\n",
            "Function value obtained: -0.9321\n",
            "Current minimum: -0.9321\n",
            "Iteration No: 24 started. Searching for the next optimal point.\n"
          ]
        },
        {
          "output_type": "stream",
          "name": "stderr",
          "text": [
            "/usr/local/lib/python3.8/dist-packages/keras/optimizers/optimizer_v2/adam.py:110: UserWarning: The `lr` argument is deprecated, use `learning_rate` instead.\n",
            "  super(Adam, self).__init__(name, **kwargs)\n"
          ]
        },
        {
          "output_type": "stream",
          "name": "stdout",
          "text": [
            "\n",
            "Epoch 11: ReduceLROnPlateau reducing learning rate to 2.1247580298222603e-05.\n",
            "\n",
            "Epoch 16: ReduceLROnPlateau reducing learning rate to 2.1247580662020484e-06.\n",
            "\n",
            "\n",
            "Accuracy: 92.74%\n",
            "\n",
            "\n",
            "Iteration No: 24 ended. Search finished for the next optimal point.\n",
            "Time taken: 5022.9299\n",
            "Function value obtained: -0.9274\n",
            "Current minimum: -0.9321\n",
            "Iteration No: 25 started. Searching for the next optimal point.\n"
          ]
        },
        {
          "output_type": "stream",
          "name": "stderr",
          "text": [
            "/usr/local/lib/python3.8/dist-packages/keras/optimizers/optimizer_v2/adam.py:110: UserWarning: The `lr` argument is deprecated, use `learning_rate` instead.\n",
            "  super(Adam, self).__init__(name, **kwargs)\n"
          ]
        },
        {
          "output_type": "stream",
          "name": "stdout",
          "text": [
            "\n",
            "\n",
            "Accuracy: 85.61%\n",
            "\n",
            "\n",
            "Iteration No: 25 ended. Search finished for the next optimal point.\n",
            "Time taken: 1043.6623\n",
            "Function value obtained: -0.8561\n",
            "Current minimum: -0.9321\n",
            "Iteration No: 26 started. Searching for the next optimal point.\n"
          ]
        },
        {
          "output_type": "stream",
          "name": "stderr",
          "text": [
            "/usr/local/lib/python3.8/dist-packages/keras/optimizers/optimizer_v2/adam.py:110: UserWarning: The `lr` argument is deprecated, use `learning_rate` instead.\n",
            "  super(Adam, self).__init__(name, **kwargs)\n"
          ]
        },
        {
          "output_type": "stream",
          "name": "stdout",
          "text": [
            "\n",
            "Epoch 10: ReduceLROnPlateau reducing learning rate to 0.0007281574420630933.\n",
            "\n",
            "\n",
            "Accuracy: 92.93%\n",
            "\n",
            "\n",
            "Iteration No: 26 ended. Search finished for the next optimal point.\n",
            "Time taken: 2876.6627\n",
            "Function value obtained: -0.9293\n",
            "Current minimum: -0.9321\n",
            "Iteration No: 27 started. Searching for the next optimal point.\n"
          ]
        },
        {
          "output_type": "stream",
          "name": "stderr",
          "text": [
            "/usr/local/lib/python3.8/dist-packages/keras/optimizers/optimizer_v2/adam.py:110: UserWarning: The `lr` argument is deprecated, use `learning_rate` instead.\n",
            "  super(Adam, self).__init__(name, **kwargs)\n"
          ]
        },
        {
          "output_type": "stream",
          "name": "stdout",
          "text": [
            "\n",
            "Epoch 12: ReduceLROnPlateau reducing learning rate to 1.0061615466838704e-05.\n",
            "\n",
            "Epoch 17: ReduceLROnPlateau reducing learning rate to 1.0061615284939763e-06.\n",
            "\n",
            "\n",
            "Accuracy: 92.47%\n",
            "\n",
            "\n",
            "Iteration No: 27 ended. Search finished for the next optimal point.\n",
            "Time taken: 4732.1137\n",
            "Function value obtained: -0.9247\n",
            "Current minimum: -0.9321\n",
            "Iteration No: 28 started. Searching for the next optimal point.\n"
          ]
        },
        {
          "output_type": "stream",
          "name": "stderr",
          "text": [
            "/usr/local/lib/python3.8/dist-packages/keras/optimizers/optimizer_v2/adam.py:110: UserWarning: The `lr` argument is deprecated, use `learning_rate` instead.\n",
            "  super(Adam, self).__init__(name, **kwargs)\n"
          ]
        },
        {
          "output_type": "stream",
          "name": "stdout",
          "text": [
            "\n",
            "Epoch 9: ReduceLROnPlateau reducing learning rate to 0.0009999999776482583.\n",
            "\n",
            "Epoch 13: ReduceLROnPlateau reducing learning rate to 9.999999310821295e-05.\n",
            "\n",
            "\n",
            "Accuracy: 92.61%\n",
            "\n",
            "\n",
            "Iteration No: 28 ended. Search finished for the next optimal point.\n",
            "Time taken: 3220.7459\n",
            "Function value obtained: -0.9261\n",
            "Current minimum: -0.9321\n",
            "Iteration No: 29 started. Searching for the next optimal point.\n"
          ]
        },
        {
          "output_type": "stream",
          "name": "stderr",
          "text": [
            "/usr/local/lib/python3.8/dist-packages/keras/optimizers/optimizer_v2/adam.py:110: UserWarning: The `lr` argument is deprecated, use `learning_rate` instead.\n",
            "  super(Adam, self).__init__(name, **kwargs)\n"
          ]
        },
        {
          "output_type": "stream",
          "name": "stdout",
          "text": [
            "\n",
            "Epoch 7: ReduceLROnPlateau reducing learning rate to 0.00017483937554061413.\n",
            "\n",
            "\n",
            "Accuracy: 92.55%\n",
            "\n",
            "\n",
            "Iteration No: 29 ended. Search finished for the next optimal point.\n",
            "Time taken: 6507.9529\n",
            "Function value obtained: -0.9255\n",
            "Current minimum: -0.9321\n",
            "Iteration No: 30 started. Searching for the next optimal point.\n"
          ]
        },
        {
          "output_type": "stream",
          "name": "stderr",
          "text": [
            "/usr/local/lib/python3.8/dist-packages/keras/optimizers/optimizer_v2/adam.py:110: UserWarning: The `lr` argument is deprecated, use `learning_rate` instead.\n",
            "  super(Adam, self).__init__(name, **kwargs)\n"
          ]
        },
        {
          "output_type": "stream",
          "name": "stdout",
          "text": [
            "\n",
            "Epoch 13: ReduceLROnPlateau reducing learning rate to 0.0006198943126946688.\n",
            "\n",
            "\n",
            "Accuracy: 89.50%\n",
            "\n",
            "\n",
            "Iteration No: 30 ended. Search finished for the next optimal point.\n",
            "Time taken: 470.8903\n",
            "Function value obtained: -0.8950\n",
            "Current minimum: -0.9321\n"
          ]
        }
      ],
      "source": [
        "bo_result = gp_minimize(func=objective_f,\n",
        "                            dimensions=search_space,\n",
        "                            n_calls=30,\n",
        "                            verbose=True)"
      ]
    },
    {
      "cell_type": "code",
      "execution_count": 39,
      "metadata": {
        "colab": {
          "base_uri": "https://localhost:8080/"
        },
        "id": "hxXDicpT7rbN",
        "outputId": "b08cefe8-09ed-49c8-8052-d1c68db053c6"
      },
      "outputs": [
        {
          "output_type": "stream",
          "name": "stdout",
          "text": [
            "Parameters obtained via the Bayesian Optimization:\n",
            "\n",
            "nf_sp_1 = 48\n",
            "nf_sp_2 = 30\n",
            "nk_sp_l = 8\n",
            "nk_sp_r = 3\n",
            "mp_sp = 2\n",
            "dp_sp = 0.3208725109346078\n",
            "nf_tp_1 = 213\n",
            "nf_tp_2 = 70\n",
            "nk_tp_l = 6\n",
            "nk_tp_r = 8\n",
            "mp_tp_1 = 3\n",
            "mp_tp_2 = 1\n",
            "dp_tp = 0.29021674764792915\n",
            "dp_fc = 0.17477829885526042\n",
            "lr = 0.0073738292402841825\n"
          ]
        }
      ],
      "source": [
        "bo_parameters = {p.name: value for p, value in zip(search_space, bo_result.x)}\n",
        "print('Parameters obtained via the Bayesian Optimization:\\n')\n",
        "\n",
        "for i in bo_parameters:\n",
        "  print(i, '=', bo_parameters[i])\n",
        "\n",
        "# print('\\n')\n",
        "# plot_convergence(bo_result)\n",
        "# plt.show()"
      ]
    },
    {
      "cell_type": "code",
      "source": [
        "plt.rcParams[\"figure.figsize\"] = (14,10)\n",
        "plot_convergence(bo_result)\n",
        "plt.savefig('bayesian_optimization.svg', dpi=300, facecolor='white')"
      ],
      "metadata": {
        "colab": {
          "base_uri": "https://localhost:8080/",
          "height": 630
        },
        "id": "9Qed5-lMu-uR",
        "outputId": "2c80cc15-2b13-41b4-ae06-1670082765ff"
      },
      "execution_count": 38,
      "outputs": [
        {
          "output_type": "display_data",
          "data": {
            "text/plain": [
              "<Figure size 1008x720 with 1 Axes>"
            ],
            "image/png": "[encoded data removed]"
          },
          "metadata": {
            "needs_background": "light"
          }
        }
      ]
    },
    {
      "cell_type": "markdown",
      "metadata": {
        "id": "-khCC16dgu2K"
      },
      "source": [
        "## 4 - Best model, training and testing\n"
      ]
    },
    {
      "cell_type": "markdown",
      "metadata": {
        "id": "cUkhIoN8Y32y"
      },
      "source": [
        "### 4.0 - Best model import"
      ]
    },
    {
      "cell_type": "code",
      "execution_count": 25,
      "metadata": {
        "colab": {
          "base_uri": "https://localhost:8080/",
          "height": 1000
        },
        "id": "6SEkoJxU9CgE",
        "outputId": "b1c4ce70-1d99-4707-e349-377c03f3a2ce"
      },
      "outputs": [
        {
          "output_type": "stream",
          "name": "stdout",
          "text": [
            "Model: \"custom_cnn\"\n",
            "_________________________________________________________________\n",
            " Layer (type)                Output Shape              Param #   \n",
            "=================================================================\n",
            " reshape (Reshape)           (None, 99, 40, 1)         0         \n",
            "                                                                 \n",
            " batch_normalization (BatchN  (None, 99, 40, 1)        4         \n",
            " ormalization)                                                   \n",
            "                                                                 \n",
            " conv2d (Conv2D)             (None, 99, 40, 48)        1200      \n",
            "                                                                 \n",
            " batch_normalization_1 (Batc  (None, 99, 40, 48)       192       \n",
            " hNormalization)                                                 \n",
            "                                                                 \n",
            " activation (Activation)     (None, 99, 40, 48)        0         \n",
            "                                                                 \n",
            " max_pooling2d (MaxPooling2D  (None, 49, 20, 48)       0         \n",
            " )                                                               \n",
            "                                                                 \n",
            " dropout (Dropout)           (None, 49, 20, 48)        0         \n",
            "                                                                 \n",
            " conv2d_1 (Conv2D)           (None, 49, 20, 30)        34590     \n",
            "                                                                 \n",
            " batch_normalization_2 (Batc  (None, 49, 20, 30)       120       \n",
            " hNormalization)                                                 \n",
            "                                                                 \n",
            " activation_1 (Activation)   (None, 49, 20, 30)        0         \n",
            "                                                                 \n",
            " max_pooling2d_1 (MaxPooling  (None, 24, 10, 30)       0         \n",
            " 2D)                                                             \n",
            "                                                                 \n",
            " dropout_1 (Dropout)         (None, 24, 10, 30)        0         \n",
            "                                                                 \n",
            " conv2d_2 (Conv2D)           (None, 24, 10, 213)       306933    \n",
            "                                                                 \n",
            " batch_normalization_3 (Batc  (None, 24, 10, 213)      852       \n",
            " hNormalization)                                                 \n",
            "                                                                 \n",
            " activation_2 (Activation)   (None, 24, 10, 213)       0         \n",
            "                                                                 \n",
            " max_pooling2d_2 (MaxPooling  (None, 8, 10, 213)       0         \n",
            " 2D)                                                             \n",
            "                                                                 \n",
            " dropout_2 (Dropout)         (None, 8, 10, 213)        0         \n",
            "                                                                 \n",
            " conv2d_3 (Conv2D)           (None, 8, 10, 70)         715750    \n",
            "                                                                 \n",
            " batch_normalization_4 (Batc  (None, 8, 10, 70)        280       \n",
            " hNormalization)                                                 \n",
            "                                                                 \n",
            " activation_3 (Activation)   (None, 8, 10, 70)         0         \n",
            "                                                                 \n",
            " max_pooling2d_3 (MaxPooling  (None, 8, 10, 70)        0         \n",
            " 2D)                                                             \n",
            "                                                                 \n",
            " dropout_3 (Dropout)         (None, 8, 10, 70)         0         \n",
            "                                                                 \n",
            " flatten (Flatten)           (None, 5600)              0         \n",
            "                                                                 \n",
            " dropout_4 (Dropout)         (None, 5600)              0         \n",
            "                                                                 \n",
            " dense (Dense)               (None, 256)               1433856   \n",
            "                                                                 \n",
            " batch_normalization_5 (Batc  (None, 256)              1024      \n",
            " hNormalization)                                                 \n",
            "                                                                 \n",
            " activation_4 (Activation)   (None, 256)               0         \n",
            "                                                                 \n",
            " dense_1 (Dense)             (None, 35)                8995      \n",
            "                                                                 \n",
            "=================================================================\n",
            "Total params: 2,503,796\n",
            "Trainable params: 2,502,560\n",
            "Non-trainable params: 1,236\n",
            "_________________________________________________________________\n"
          ]
        },
        {
          "output_type": "stream",
          "name": "stderr",
          "text": [
            "/usr/local/lib/python3.8/dist-packages/keras/optimizers/optimizer_v2/adam.py:110: UserWarning: The `lr` argument is deprecated, use `learning_rate` instead.\n",
            "  super(Adam, self).__init__(name, **kwargs)\n"
          ]
        },
        {
          "output_type": "execute_result",
          "data": {
            "text/plain": [
              "<PIL.Image.Image image mode=RGBA size=1703x292 at 0x7F7C9702E190>"
            ],
            "image/png": "[encoded data removed]"
          },
          "metadata": {},
          "execution_count": 25
        }
      ],
      "source": [
        "model = custom_cnn_simple(input_shape, *bo_result.x)\n",
        "model_name = 'custom_cnn_simple'\n",
        "\n",
        "model.compile(optimizer=\"adam\", loss=\"sparse_categorical_crossentropy\", metrics=[\"sparse_categorical_accuracy\"])\n",
        "model.summary()\n",
        "\n",
        "visualkeras.layered_view(model)"
      ]
    },
    {
      "cell_type": "markdown",
      "metadata": {
        "id": "6AOKfTzRgu2Y"
      },
      "source": [
        "### 4.1 - Model training\n",
        "At this point we can train the model for some epochs."
      ]
    },
    {
      "cell_type": "code",
      "execution_count": 26,
      "metadata": {
        "colab": {
          "base_uri": "https://localhost:8080/",
          "height": 504
        },
        "id": "SUAN7oqp9dN3",
        "outputId": "1e3459de-b5cc-455d-b51b-7d5737679174"
      },
      "outputs": [
        {
          "output_type": "stream",
          "name": "stdout",
          "text": [
            "Epoch 1/40\n",
            "2652/2652 [==============================] - 60s 22ms/step - loss: 1.1250 - sparse_categorical_accuracy: 0.6690 - val_loss: 0.5228 - val_sparse_categorical_accuracy: 0.8411 - lr: 0.0010\n",
            "Epoch 2/40\n",
            "2652/2652 [==============================] - 54s 20ms/step - loss: 0.5918 - sparse_categorical_accuracy: 0.8211 - val_loss: 0.4817 - val_sparse_categorical_accuracy: 0.8537 - lr: 0.0010\n",
            "Epoch 3/40\n",
            "2030/2652 [=====================>........] - ETA: 12s - loss: 0.5007 - sparse_categorical_accuracy: 0.8466"
          ]
        },
        {
          "output_type": "error",
          "ename": "KeyboardInterrupt",
          "evalue": "ignored",
          "traceback": [
            "\u001b[0;31m---------------------------------------------------------------------------\u001b[0m",
            "\u001b[0;31mKeyboardInterrupt\u001b[0m                         Traceback (most recent call last)",
            "\u001b[0;32m<ipython-input-26-23e5dc68c5f7>\u001b[0m in \u001b[0;36m<module>\u001b[0;34m\u001b[0m\n\u001b[1;32m      7\u001b[0m \u001b[0mmodel_checkpoint\u001b[0m \u001b[0;34m=\u001b[0m \u001b[0mtf\u001b[0m\u001b[0;34m.\u001b[0m\u001b[0mkeras\u001b[0m\u001b[0;34m.\u001b[0m\u001b[0mcallbacks\u001b[0m\u001b[0;34m.\u001b[0m\u001b[0mModelCheckpoint\u001b[0m\u001b[0;34m(\u001b[0m\u001b[0;34mf'trained_models/{model_name}.h5'\u001b[0m\u001b[0;34m,\u001b[0m \u001b[0mmonitor\u001b[0m\u001b[0;34m=\u001b[0m\u001b[0;34m'val_loss'\u001b[0m\u001b[0;34m,\u001b[0m \u001b[0msave_best_only\u001b[0m\u001b[0;34m=\u001b[0m\u001b[0;32mTrue\u001b[0m\u001b[0;34m)\u001b[0m\u001b[0;34m\u001b[0m\u001b[0;34m\u001b[0m\u001b[0m\n\u001b[1;32m      8\u001b[0m \u001b[0;34m\u001b[0m\u001b[0m\n\u001b[0;32m----> 9\u001b[0;31m history = model.fit(\n\u001b[0m\u001b[1;32m     10\u001b[0m                 \u001b[0mtrain_dataset\u001b[0m\u001b[0;34m,\u001b[0m\u001b[0;34m\u001b[0m\u001b[0;34m\u001b[0m\u001b[0m\n\u001b[1;32m     11\u001b[0m                 \u001b[0mepochs\u001b[0m\u001b[0;34m=\u001b[0m\u001b[0mnum_epochs\u001b[0m\u001b[0;34m,\u001b[0m\u001b[0;34m\u001b[0m\u001b[0;34m\u001b[0m\u001b[0m\n",
            "\u001b[0;32m/usr/local/lib/python3.8/dist-packages/keras/utils/traceback_utils.py\u001b[0m in \u001b[0;36merror_handler\u001b[0;34m(*args, **kwargs)\u001b[0m\n\u001b[1;32m     62\u001b[0m     \u001b[0mfiltered_tb\u001b[0m \u001b[0;34m=\u001b[0m \u001b[0;32mNone\u001b[0m\u001b[0;34m\u001b[0m\u001b[0;34m\u001b[0m\u001b[0m\n\u001b[1;32m     63\u001b[0m     \u001b[0;32mtry\u001b[0m\u001b[0;34m:\u001b[0m\u001b[0;34m\u001b[0m\u001b[0;34m\u001b[0m\u001b[0m\n\u001b[0;32m---> 64\u001b[0;31m       \u001b[0;32mreturn\u001b[0m \u001b[0mfn\u001b[0m\u001b[0;34m(\u001b[0m\u001b[0;34m*\u001b[0m\u001b[0margs\u001b[0m\u001b[0;34m,\u001b[0m \u001b[0;34m**\u001b[0m\u001b[0mkwargs\u001b[0m\u001b[0;34m)\u001b[0m\u001b[0;34m\u001b[0m\u001b[0;34m\u001b[0m\u001b[0m\n\u001b[0m\u001b[1;32m     65\u001b[0m     \u001b[0;32mexcept\u001b[0m \u001b[0mException\u001b[0m \u001b[0;32mas\u001b[0m \u001b[0me\u001b[0m\u001b[0;34m:\u001b[0m  \u001b[0;31m# pylint: disable=broad-except\u001b[0m\u001b[0;34m\u001b[0m\u001b[0;34m\u001b[0m\u001b[0m\n\u001b[1;32m     66\u001b[0m       \u001b[0mfiltered_tb\u001b[0m \u001b[0;34m=\u001b[0m \u001b[0m_process_traceback_frames\u001b[0m\u001b[0;34m(\u001b[0m\u001b[0me\u001b[0m\u001b[0;34m.\u001b[0m\u001b[0m__traceback__\u001b[0m\u001b[0;34m)\u001b[0m\u001b[0;34m\u001b[0m\u001b[0;34m\u001b[0m\u001b[0m\n",
            "\u001b[0;32m/usr/local/lib/python3.8/dist-packages/keras/engine/training.py\u001b[0m in \u001b[0;36mfit\u001b[0;34m(self, x, y, batch_size, epochs, verbose, callbacks, validation_split, validation_data, shuffle, class_weight, sample_weight, initial_epoch, steps_per_epoch, validation_steps, validation_batch_size, validation_freq, max_queue_size, workers, use_multiprocessing)\u001b[0m\n\u001b[1;32m   1407\u001b[0m                 _r=1):\n\u001b[1;32m   1408\u001b[0m               \u001b[0mcallbacks\u001b[0m\u001b[0;34m.\u001b[0m\u001b[0mon_train_batch_begin\u001b[0m\u001b[0;34m(\u001b[0m\u001b[0mstep\u001b[0m\u001b[0;34m)\u001b[0m\u001b[0;34m\u001b[0m\u001b[0;34m\u001b[0m\u001b[0m\n\u001b[0;32m-> 1409\u001b[0;31m               \u001b[0mtmp_logs\u001b[0m \u001b[0;34m=\u001b[0m \u001b[0mself\u001b[0m\u001b[0;34m.\u001b[0m\u001b[0mtrain_function\u001b[0m\u001b[0;34m(\u001b[0m\u001b[0miterator\u001b[0m\u001b[0;34m)\u001b[0m\u001b[0;34m\u001b[0m\u001b[0;34m\u001b[0m\u001b[0m\n\u001b[0m\u001b[1;32m   1410\u001b[0m               \u001b[0;32mif\u001b[0m \u001b[0mdata_handler\u001b[0m\u001b[0;34m.\u001b[0m\u001b[0mshould_sync\u001b[0m\u001b[0;34m:\u001b[0m\u001b[0;34m\u001b[0m\u001b[0;34m\u001b[0m\u001b[0m\n\u001b[1;32m   1411\u001b[0m                 \u001b[0mcontext\u001b[0m\u001b[0;34m.\u001b[0m\u001b[0masync_wait\u001b[0m\u001b[0;34m(\u001b[0m\u001b[0;34m)\u001b[0m\u001b[0;34m\u001b[0m\u001b[0;34m\u001b[0m\u001b[0m\n",
            "\u001b[0;32m/usr/local/lib/python3.8/dist-packages/tensorflow/python/util/traceback_utils.py\u001b[0m in \u001b[0;36merror_handler\u001b[0;34m(*args, **kwargs)\u001b[0m\n\u001b[1;32m    148\u001b[0m     \u001b[0mfiltered_tb\u001b[0m \u001b[0;34m=\u001b[0m \u001b[0;32mNone\u001b[0m\u001b[0;34m\u001b[0m\u001b[0;34m\u001b[0m\u001b[0m\n\u001b[1;32m    149\u001b[0m     \u001b[0;32mtry\u001b[0m\u001b[0;34m:\u001b[0m\u001b[0;34m\u001b[0m\u001b[0;34m\u001b[0m\u001b[0m\n\u001b[0;32m--> 150\u001b[0;31m       \u001b[0;32mreturn\u001b[0m \u001b[0mfn\u001b[0m\u001b[0;34m(\u001b[0m\u001b[0;34m*\u001b[0m\u001b[0margs\u001b[0m\u001b[0;34m,\u001b[0m \u001b[0;34m**\u001b[0m\u001b[0mkwargs\u001b[0m\u001b[0;34m)\u001b[0m\u001b[0;34m\u001b[0m\u001b[0;34m\u001b[0m\u001b[0m\n\u001b[0m\u001b[1;32m    151\u001b[0m     \u001b[0;32mexcept\u001b[0m \u001b[0mException\u001b[0m \u001b[0;32mas\u001b[0m \u001b[0me\u001b[0m\u001b[0;34m:\u001b[0m\u001b[0;34m\u001b[0m\u001b[0;34m\u001b[0m\u001b[0m\n\u001b[1;32m    152\u001b[0m       \u001b[0mfiltered_tb\u001b[0m \u001b[0;34m=\u001b[0m \u001b[0m_process_traceback_frames\u001b[0m\u001b[0;34m(\u001b[0m\u001b[0me\u001b[0m\u001b[0;34m.\u001b[0m\u001b[0m__traceback__\u001b[0m\u001b[0;34m)\u001b[0m\u001b[0;34m\u001b[0m\u001b[0;34m\u001b[0m\u001b[0m\n",
            "\u001b[0;32m/usr/local/lib/python3.8/dist-packages/tensorflow/python/eager/def_function.py\u001b[0m in \u001b[0;36m__call__\u001b[0;34m(self, *args, **kwds)\u001b[0m\n\u001b[1;32m    913\u001b[0m \u001b[0;34m\u001b[0m\u001b[0m\n\u001b[1;32m    914\u001b[0m       \u001b[0;32mwith\u001b[0m \u001b[0mOptionalXlaContext\u001b[0m\u001b[0;34m(\u001b[0m\u001b[0mself\u001b[0m\u001b[0;34m.\u001b[0m\u001b[0m_jit_compile\u001b[0m\u001b[0;34m)\u001b[0m\u001b[0;34m:\u001b[0m\u001b[0;34m\u001b[0m\u001b[0;34m\u001b[0m\u001b[0m\n\u001b[0;32m--> 915\u001b[0;31m         \u001b[0mresult\u001b[0m \u001b[0;34m=\u001b[0m \u001b[0mself\u001b[0m\u001b[0;34m.\u001b[0m\u001b[0m_call\u001b[0m\u001b[0;34m(\u001b[0m\u001b[0;34m*\u001b[0m\u001b[0margs\u001b[0m\u001b[0;34m,\u001b[0m \u001b[0;34m**\u001b[0m\u001b[0mkwds\u001b[0m\u001b[0;34m)\u001b[0m\u001b[0;34m\u001b[0m\u001b[0;34m\u001b[0m\u001b[0m\n\u001b[0m\u001b[1;32m    916\u001b[0m \u001b[0;34m\u001b[0m\u001b[0m\n\u001b[1;32m    917\u001b[0m       \u001b[0mnew_tracing_count\u001b[0m \u001b[0;34m=\u001b[0m \u001b[0mself\u001b[0m\u001b[0;34m.\u001b[0m\u001b[0mexperimental_get_tracing_count\u001b[0m\u001b[0;34m(\u001b[0m\u001b[0;34m)\u001b[0m\u001b[0;34m\u001b[0m\u001b[0;34m\u001b[0m\u001b[0m\n",
            "\u001b[0;32m/usr/local/lib/python3.8/dist-packages/tensorflow/python/eager/def_function.py\u001b[0m in \u001b[0;36m_call\u001b[0;34m(self, *args, **kwds)\u001b[0m\n\u001b[1;32m    945\u001b[0m       \u001b[0;31m# In this case we have created variables on the first call, so we run the\u001b[0m\u001b[0;34m\u001b[0m\u001b[0;34m\u001b[0m\u001b[0;34m\u001b[0m\u001b[0m\n\u001b[1;32m    946\u001b[0m       \u001b[0;31m# defunned version which is guaranteed to never create variables.\u001b[0m\u001b[0;34m\u001b[0m\u001b[0;34m\u001b[0m\u001b[0;34m\u001b[0m\u001b[0m\n\u001b[0;32m--> 947\u001b[0;31m       \u001b[0;32mreturn\u001b[0m \u001b[0mself\u001b[0m\u001b[0;34m.\u001b[0m\u001b[0m_stateless_fn\u001b[0m\u001b[0;34m(\u001b[0m\u001b[0;34m*\u001b[0m\u001b[0margs\u001b[0m\u001b[0;34m,\u001b[0m \u001b[0;34m**\u001b[0m\u001b[0mkwds\u001b[0m\u001b[0;34m)\u001b[0m  \u001b[0;31m# pylint: disable=not-callable\u001b[0m\u001b[0;34m\u001b[0m\u001b[0;34m\u001b[0m\u001b[0m\n\u001b[0m\u001b[1;32m    948\u001b[0m     \u001b[0;32melif\u001b[0m \u001b[0mself\u001b[0m\u001b[0;34m.\u001b[0m\u001b[0m_stateful_fn\u001b[0m \u001b[0;32mis\u001b[0m \u001b[0;32mnot\u001b[0m \u001b[0;32mNone\u001b[0m\u001b[0;34m:\u001b[0m\u001b[0;34m\u001b[0m\u001b[0;34m\u001b[0m\u001b[0m\n\u001b[1;32m    949\u001b[0m       \u001b[0;31m# Release the lock early so that multiple threads can perform the call\u001b[0m\u001b[0;34m\u001b[0m\u001b[0;34m\u001b[0m\u001b[0;34m\u001b[0m\u001b[0m\n",
            "\u001b[0;32m/usr/local/lib/python3.8/dist-packages/tensorflow/python/eager/function.py\u001b[0m in \u001b[0;36m__call__\u001b[0;34m(self, *args, **kwargs)\u001b[0m\n\u001b[1;32m   2451\u001b[0m       (graph_function,\n\u001b[1;32m   2452\u001b[0m        filtered_flat_args) = self._maybe_define_function(args, kwargs)\n\u001b[0;32m-> 2453\u001b[0;31m     return graph_function._call_flat(\n\u001b[0m\u001b[1;32m   2454\u001b[0m         filtered_flat_args, captured_inputs=graph_function.captured_inputs)  # pylint: disable=protected-access\n\u001b[1;32m   2455\u001b[0m \u001b[0;34m\u001b[0m\u001b[0m\n",
            "\u001b[0;32m/usr/local/lib/python3.8/dist-packages/tensorflow/python/eager/function.py\u001b[0m in \u001b[0;36m_call_flat\u001b[0;34m(self, args, captured_inputs, cancellation_manager)\u001b[0m\n\u001b[1;32m   1858\u001b[0m         and executing_eagerly):\n\u001b[1;32m   1859\u001b[0m       \u001b[0;31m# No tape is watching; skip to running the function.\u001b[0m\u001b[0;34m\u001b[0m\u001b[0;34m\u001b[0m\u001b[0;34m\u001b[0m\u001b[0m\n\u001b[0;32m-> 1860\u001b[0;31m       return self._build_call_outputs(self._inference_function.call(\n\u001b[0m\u001b[1;32m   1861\u001b[0m           ctx, args, cancellation_manager=cancellation_manager))\n\u001b[1;32m   1862\u001b[0m     forward_backward = self._select_forward_and_backward_functions(\n",
            "\u001b[0;32m/usr/local/lib/python3.8/dist-packages/tensorflow/python/eager/function.py\u001b[0m in \u001b[0;36mcall\u001b[0;34m(self, ctx, args, cancellation_manager)\u001b[0m\n\u001b[1;32m    495\u001b[0m       \u001b[0;32mwith\u001b[0m \u001b[0m_InterpolateFunctionError\u001b[0m\u001b[0;34m(\u001b[0m\u001b[0mself\u001b[0m\u001b[0;34m)\u001b[0m\u001b[0;34m:\u001b[0m\u001b[0;34m\u001b[0m\u001b[0;34m\u001b[0m\u001b[0m\n\u001b[1;32m    496\u001b[0m         \u001b[0;32mif\u001b[0m \u001b[0mcancellation_manager\u001b[0m \u001b[0;32mis\u001b[0m \u001b[0;32mNone\u001b[0m\u001b[0;34m:\u001b[0m\u001b[0;34m\u001b[0m\u001b[0;34m\u001b[0m\u001b[0m\n\u001b[0;32m--> 497\u001b[0;31m           outputs = execute.execute(\n\u001b[0m\u001b[1;32m    498\u001b[0m               \u001b[0mstr\u001b[0m\u001b[0;34m(\u001b[0m\u001b[0mself\u001b[0m\u001b[0;34m.\u001b[0m\u001b[0msignature\u001b[0m\u001b[0;34m.\u001b[0m\u001b[0mname\u001b[0m\u001b[0;34m)\u001b[0m\u001b[0;34m,\u001b[0m\u001b[0;34m\u001b[0m\u001b[0;34m\u001b[0m\u001b[0m\n\u001b[1;32m    499\u001b[0m               \u001b[0mnum_outputs\u001b[0m\u001b[0;34m=\u001b[0m\u001b[0mself\u001b[0m\u001b[0;34m.\u001b[0m\u001b[0m_num_outputs\u001b[0m\u001b[0;34m,\u001b[0m\u001b[0;34m\u001b[0m\u001b[0;34m\u001b[0m\u001b[0m\n",
            "\u001b[0;32m/usr/local/lib/python3.8/dist-packages/tensorflow/python/eager/execute.py\u001b[0m in \u001b[0;36mquick_execute\u001b[0;34m(op_name, num_outputs, inputs, attrs, ctx, name)\u001b[0m\n\u001b[1;32m     52\u001b[0m   \u001b[0;32mtry\u001b[0m\u001b[0;34m:\u001b[0m\u001b[0;34m\u001b[0m\u001b[0;34m\u001b[0m\u001b[0m\n\u001b[1;32m     53\u001b[0m     \u001b[0mctx\u001b[0m\u001b[0;34m.\u001b[0m\u001b[0mensure_initialized\u001b[0m\u001b[0;34m(\u001b[0m\u001b[0;34m)\u001b[0m\u001b[0;34m\u001b[0m\u001b[0;34m\u001b[0m\u001b[0m\n\u001b[0;32m---> 54\u001b[0;31m     tensors = pywrap_tfe.TFE_Py_Execute(ctx._handle, device_name, op_name,\n\u001b[0m\u001b[1;32m     55\u001b[0m                                         inputs, attrs, num_outputs)\n\u001b[1;32m     56\u001b[0m   \u001b[0;32mexcept\u001b[0m \u001b[0mcore\u001b[0m\u001b[0;34m.\u001b[0m\u001b[0m_NotOkStatusException\u001b[0m \u001b[0;32mas\u001b[0m \u001b[0me\u001b[0m\u001b[0;34m:\u001b[0m\u001b[0;34m\u001b[0m\u001b[0;34m\u001b[0m\u001b[0m\n",
            "\u001b[0;31mKeyboardInterrupt\u001b[0m: "
          ]
        }
      ],
      "source": [
        "num_epochs = 40\n",
        "\n",
        "early_stop_callback = tf.keras.callbacks.EarlyStopping(monitor='val_loss', patience=5)\n",
        "\n",
        "reduce_LR = tf.keras.callbacks.ReduceLROnPlateau(monitor='val_loss', patience=3, verbose=1)\n",
        "\n",
        "model_checkpoint = tf.keras.callbacks.ModelCheckpoint(f'trained_models/{model_name}.h5', monitor='val_loss', save_best_only=True)\n",
        "\n",
        "history = model.fit(\n",
        "                train_dataset,\n",
        "                epochs=num_epochs,\n",
        "                steps_per_epoch=train_steps,\n",
        "                validation_data=val_dataset,\n",
        "                validation_steps=val_steps,\n",
        "                callbacks=[early_stop_callback, model_checkpoint, reduce_LR], \n",
        "                verbose=1\n",
        "                )"
      ]
    },
    {
      "cell_type": "code",
      "execution_count": null,
      "metadata": {
        "id": "g6xpCJ7Tgu2f"
      },
      "outputs": [],
      "source": [
        "print('Training history:')\n",
        "pd.DataFrame(history.history)"
      ]
    },
    {
      "cell_type": "code",
      "execution_count": null,
      "metadata": {
        "id": "B3Lq3SY4gu3J"
      },
      "outputs": [],
      "source": [
        "plot_utils.plot_history(history, columns=['loss', 'sparse_categorical_accuracy'])"
      ]
    },
    {
      "cell_type": "markdown",
      "metadata": {
        "id": "R9R3FIblgu3O"
      },
      "source": [
        "Uncomment the cell below to save the weights of the trained model."
      ]
    },
    {
      "cell_type": "code",
      "execution_count": null,
      "metadata": {
        "id": "DhUE4Zc6gu3P"
      },
      "outputs": [],
      "source": [
        "# model.save_weights(f'trained_models/{model_name}.h5')"
      ]
    },
    {
      "cell_type": "markdown",
      "metadata": {
        "id": "GqXQhhpvgu5P"
      },
      "source": [
        "### 4.2 - Validation metrics"
      ]
    },
    {
      "cell_type": "code",
      "execution_count": null,
      "metadata": {
        "id": "d9qSfMZlgu5U"
      },
      "outputs": [],
      "source": [
        "# get predictions for test set\n",
        "test_labels = reference_df_test['class']\n",
        "test_pred = model.predict(test_dataset, steps=test_steps, verbose=1)[:len(test_labels)].squeeze()\n",
        "\n",
        "# estimate class\n",
        "y_pred = np.argmax(test_pred, axis=1)\n",
        "\n",
        "# true labels\n",
        "y_true = reference_df_test['class'].tolist()"
      ]
    },
    {
      "cell_type": "markdown",
      "metadata": {
        "id": "jinyZOKNgu7V"
      },
      "source": [
        "Plot the confusion matrix:"
      ]
    },
    {
      "cell_type": "code",
      "execution_count": null,
      "metadata": {
        "id": "cHIhE3c3gu7e"
      },
      "outputs": [],
      "source": [
        "cm = confusion_matrix(y_pred, y_true)\n",
        "plot_utils.plot_confusion_matrix(cm, labels=commands, normalize=True, saveit=False, model_name='')\n",
        "# plt.savefig(f'figures/cm_{model_name}.png')"
      ]
    },
    {
      "cell_type": "markdown",
      "metadata": {
        "id": "6K19gHq1gu7z"
      },
      "source": [
        "Evaluate some metrics:\n",
        "\n"
      ]
    },
    {
      "cell_type": "code",
      "execution_count": null,
      "metadata": {
        "id": "NPE9Z35Xgu70"
      },
      "outputs": [],
      "source": [
        "accuracy = accuracy_score(y_true=y_true, y_pred=y_pred)\n",
        "logloss  = log_loss(y_true, test_pred, labels=np.arange(35))\n",
        "cohen_k  = cohen_kappa_score(y_true, y_pred)\n",
        "\n",
        "# print('Accuracy:      {:.2f}%'.format(accuracy*100))\n",
        "# print('Error rate:    {:.2f}%'.format((1-accuracy)*100))\n",
        "# print('Cross-entropy: {:.4f}'.format(logloss))\n",
        "# print(\"Cohen's Kappa: {:.4f}\".format(cohen_k))\n",
        "\n",
        "def class_report(y_true, y_pred):\n",
        "    precision_macro,    recall_macro,    fscore_macro,    _ = precision_recall_fscore_support(y_true=y_true, y_pred=y_pred, average='macro')\n",
        "    precision_micro,    recall_micro,    fscore_micro,    _ = precision_recall_fscore_support(y_true=y_true, y_pred=y_pred, average='micro')\n",
        "    precision_weighted, recall_weighted, fscore_weighted, _ = precision_recall_fscore_support(y_true=y_true, y_pred=y_pred, average='weighted')\n",
        "    \n",
        "    df_report = pd.DataFrame(\n",
        "        {\n",
        "            'precision': [precision_macro, precision_micro, precision_weighted],\n",
        "            'recall': [recall_macro, recall_micro, recall_weighted],\n",
        "            'f1-score': [fscore_macro, fscore_micro, fscore_weighted]\n",
        "        }, \n",
        "        index=['macro', 'micro', 'weighted']\n",
        "    )\n",
        "    \n",
        "    return df_report\n",
        "\n",
        "cr = class_report(y_true, y_pred)\n"
      ]
    },
    {
      "cell_type": "code",
      "execution_count": null,
      "metadata": {
        "id": "SaXtDPNwgu73"
      },
      "outputs": [],
      "source": [
        "# print('Testing of model %s with features %i...\\n' %(model_name, features_to_extract))\n",
        "weighted_metrics = cr.iloc[-1].tolist()\n",
        "\n",
        "df_metrics_simple = pd.DataFrame(\n",
        "    [weighted_metrics + [accuracy, logloss, cohen_k]], \n",
        "    columns = ['precision', 'recall', 'f1-score', 'accuracy', 'cross-entropy', 'Cohen-Kappa'], \n",
        ")\n",
        "\n",
        "display(df_metrics_simple.round(4))\n",
        "\n",
        "# Uncomment next lines to store the final metrics \n",
        "# if not os.path.exists(\"metrics\"):\n",
        "#   os.mkdir('metrics')\n",
        "#   \n",
        "# df_metrics.to_csv(f'metrics/metr_{model_name}_2.csv')"
      ]
    },
    {
      "cell_type": "code",
      "execution_count": null,
      "metadata": {
        "id": "47NBCJ2yC_iA"
      },
      "outputs": [],
      "source": [
        "# tmp1 = pd.read_csv('metr_smallCnnModel_1.csv', index_col=0)\n",
        "# tmp2 = pd.read_csv('metr_smallCnnModel_2.csv', index_col=0)\n",
        "# \n",
        "# df_ = pd.concat([tmp1, tmp2], ignore_index=True, axis=0)\n",
        "# df_['Training'] = ['Without Delta', 'With Delta']\n",
        "# df_ = df_.set_index(['Training'])\n",
        "# df_"
      ]
    },
    {
      "cell_type": "markdown",
      "metadata": {
        "id": "nmZQ5DEzIvRE"
      },
      "source": [
        "## 5 - Best model modified, training and testing\n"
      ]
    },
    {
      "cell_type": "markdown",
      "metadata": {
        "id": "S5kfWpxDY7h9"
      },
      "source": [
        "### 5.0 - Modified model definition"
      ]
    },
    {
      "cell_type": "code",
      "execution_count": null,
      "metadata": {
        "id": "vowWDe_wY-sS"
      },
      "outputs": [],
      "source": [
        "def custom_cnn(input_shape):\n",
        "    '''\n",
        "      4 cnn blocks, 2x (2, 2) pooling, 2x pooling in time\n",
        "    '''\n",
        "\n",
        "    model = tf.keras.models.Sequential(name='custom_cnn')\n",
        "\n",
        "    model.add(tf.keras.layers.Reshape(input_shape=input_shape, target_shape=(input_shape[0], input_shape[1], 1)))\n",
        "    model.add(tf.keras.layers.BatchNormalization())\n",
        "\n",
        "    filters_pool = [16, 32]\n",
        "\n",
        "    for num_filters in filters_pool:\n",
        "\n",
        "        model.add(tf.keras.layers.Conv2D(num_filters, kernel_size=(3, 3), padding='same'))\n",
        "        model.add(tf.keras.layers.BatchNormalization())\n",
        "        model.add(tf.keras.layers.Activation('relu'))\n",
        "\n",
        "        model.add(tf.keras.layers.Conv2D(num_filters, kernel_size=(3, 3), padding='same'))\n",
        "        model.add(tf.keras.layers.BatchNormalization())\n",
        "        model.add(tf.keras.layers.Activation('relu'))\n",
        "\n",
        "        model.add(tf.keras.layers.Conv2D(num_filters, kernel_size=(3, 3), padding='same'))\n",
        "        model.add(tf.keras.layers.BatchNormalization())\n",
        "        model.add(tf.keras.layers.Activation('relu'))\n",
        "\n",
        "        model.add(tf.keras.layers.MaxPooling2D(pool_size=(2, 2)))\n",
        "        model.add(tf.keras.layers.Dropout(0.2))\n",
        "\n",
        "    filters_pool_in_time = [64, 128]\n",
        "\n",
        "    for p, num_filters in zip([2, 4], filters_pool_in_time):\n",
        "\n",
        "        model.add(tf.keras.layers.Conv2D(num_filters, kernel_size=(3, 3), padding='same'))\n",
        "        model.add(tf.keras.layers.BatchNormalization())\n",
        "        model.add(tf.keras.layers.Activation('relu'))\n",
        "\n",
        "        model.add(tf.keras.layers.MaxPooling2D(pool_size=(p, 1)))\n",
        "        model.add(tf.keras.layers.Dropout(0.2))\n",
        "\n",
        "    model.add(tf.keras.layers.Flatten())\n",
        "    model.add(tf.keras.layers.Dense(512, name='features512'))\n",
        "    model.add(tf.keras.layers.BatchNormalization())\n",
        "    model.add(tf.keras.layers.Activation('relu'))\n",
        "    model.add(tf.keras.layers.Dropout(0.4))\n",
        "    model.add(tf.keras.layers.Dense(256, name='features256'))\n",
        "    model.add(tf.keras.layers.BatchNormalization())\n",
        "    model.add(tf.keras.layers.Activation('relu'))\n",
        "    model.add(tf.keras.layers.Dense(35, activation='softmax'))\n",
        "\n",
        "    return model\n",
        "\n",
        "model = custom_cnn(input_shape)\n",
        "model_name = 'custom_cnn'\n",
        "\n",
        "model.compile(optimizer=\"adam\", loss=\"sparse_categorical_crossentropy\", metrics=[\"sparse_categorical_accuracy\"])\n",
        "model.summary()\n",
        "\n",
        "visualkeras.layered_view(model)\n"
      ]
    },
    {
      "cell_type": "markdown",
      "metadata": {
        "id": "0NoCqC6nZdJY"
      },
      "source": [
        "### 5.1 - Model training "
      ]
    },
    {
      "cell_type": "code",
      "execution_count": null,
      "metadata": {
        "id": "qyek5P-7ZVgk"
      },
      "outputs": [],
      "source": [
        "num_epochs = 40\n",
        "\n",
        "early_stop_callback = tf.keras.callbacks.EarlyStopping(monitor='val_loss', patience=5)\n",
        "\n",
        "reduce_LR = tf.keras.callbacks.ReduceLROnPlateau(monitor='val_loss', patience=3, verbose=1)\n",
        "\n",
        "model_checkpoint = tf.keras.callbacks.ModelCheckpoint(f'trained_models/{model_name}.h5', monitor='val_loss', save_best_only=True)\n",
        "\n",
        "history = model.fit(\n",
        "                train_dataset,\n",
        "                epochs=num_epochs,\n",
        "                steps_per_epoch=train_steps,\n",
        "                validation_data=val_dataset,\n",
        "                validation_steps=val_steps,\n",
        "                callbacks=[early_stop_callback, model_checkpoint, reduce_LR], \n",
        "                verbose=1\n",
        "                )\n",
        "\n",
        "print('Training history:')\n",
        "pd.DataFrame(history.history)\n",
        "\n",
        "plot_utils.plot_history(history, columns=['loss', 'sparse_categorical_accuracy'])"
      ]
    },
    {
      "cell_type": "markdown",
      "metadata": {
        "id": "IlOWhs9AZxkz"
      },
      "source": [
        "Uncomment the cell below to save the weights of the trained model."
      ]
    },
    {
      "cell_type": "code",
      "execution_count": null,
      "metadata": {
        "id": "-1zQrPBKZU09"
      },
      "outputs": [],
      "source": [
        "# model.save_weights(f'trained_models/{model_name}.h5')"
      ]
    },
    {
      "cell_type": "markdown",
      "metadata": {
        "id": "asl2lKDFZ06t"
      },
      "source": [
        "### 5.2 - Validation metrics"
      ]
    },
    {
      "cell_type": "code",
      "execution_count": null,
      "metadata": {
        "id": "JizV87dWZUO_"
      },
      "outputs": [],
      "source": [
        "# get predictions for test set\n",
        "test_labels = reference_df_test['class']\n",
        "test_pred = model.predict(test_dataset, steps=test_steps, verbose=1)[:len(test_labels)].squeeze()\n",
        "\n",
        "# estimate class\n",
        "y_pred = np.argmax(test_pred, axis=1)\n",
        "\n",
        "# true labels\n",
        "y_true = reference_df_test['class'].tolist()\n",
        "\n",
        "# plot cm\n",
        "cm = confusion_matrix(y_pred, y_true)\n",
        "plot_utils.plot_confusion_matrix(cm, labels=commands, normalize=True, saveit=False, model_name='')\n"
      ]
    },
    {
      "cell_type": "code",
      "execution_count": null,
      "metadata": {
        "id": "VVBjahZBaK3s"
      },
      "outputs": [],
      "source": [
        "# get metrics and display them \n",
        "accuracy = accuracy_score(y_true=y_true, y_pred=y_pred)\n",
        "logloss  = log_loss(y_true, test_pred, labels=np.arange(35))\n",
        "cohen_k  = cohen_kappa_score(y_true, y_pred)\n",
        "\n",
        "# print('Accuracy:      {:.2f}%'.format(accuracy*100))\n",
        "# print('Error rate:    {:.2f}%'.format((1-accuracy)*100))\n",
        "# print('Cross-entropy: {:.4f}'.format(logloss))\n",
        "# print(\"Cohen's Kappa: {:.4f}\".format(cohen_k))\n",
        "\n",
        "cr = class_report(y_true, y_pred)\n",
        "weighted_metrics = cr.iloc[-1].tolist()\n",
        "\n",
        "df_metrics_modified = pd.DataFrame(\n",
        "    [weighted_metrics + [accuracy, logloss, cohen_k]], \n",
        "    columns = ['precision', 'recall', 'f1-score', 'accuracy', 'cross-entropy', 'Cohen-Kappa'], \n",
        ")\n",
        "\n",
        "display(df_metrics_modified.round(4))"
      ]
    },
    {
      "cell_type": "markdown",
      "metadata": {
        "id": "4PPkbPB6aZWw"
      },
      "source": [
        "# Feature Comparison\n",
        "We use the last model to compare performance using different audio features as input. Recall that in the function `preprocessing_utils.load_and_preprocess_data` we defined the following features:\n",
        "\n",
        "```python\n",
        "features_to_input = { # input shapes\n",
        "    1 : (99, 13),     # MFCC features with delta\n",
        "    2 : (99, 40),     # log Mel-filterbank energy features\n",
        "    3 : (98, 257),    # spectrogram\n",
        "    4 : (49, 39),     # Discrete Wavelet Transform + MFCC features\n",
        "    5 : (99, 13)      # MFCC features no delta\n",
        "}\n",
        "```"
      ]
    },
    {
      "cell_type": "markdown",
      "metadata": {
        "id": "cT9gC2KibFQ5"
      },
      "source": [
        "## 6 - FC, training and testing loop"
      ]
    },
    {
      "cell_type": "code",
      "execution_count": null,
      "metadata": {
        "id": "70wQsOBebPB6"
      },
      "outputs": [],
      "source": [
        "def training_and_testing(feature_selected, df_store=None, noise_red=0.5):\n",
        "  # remove cache files\n",
        "  remove_file_starting_with('train')\n",
        "  remove_file_starting_with('val')\n",
        "  remove_file_starting_with('test')\n",
        "\n",
        "  # create datasets\n",
        "  train_dataset, train_steps = create_dataset(\n",
        "      reference_df_train, \n",
        "      apply_background_noise=apply_bn,\n",
        "      noise_reduction=noise_red,\n",
        "      features=feature_selected,\n",
        "      cache_file='train_cache',\n",
        "      shuffle=True,\n",
        "      batch_size=batch_size\n",
        "  )\n",
        "\n",
        "  val_dataset, val_steps = create_dataset(\n",
        "      reference_df_val,\n",
        "      apply_background_noise=apply_bn,\n",
        "      noise_reduction=noise_red,\n",
        "      features=feature_selected,\n",
        "      cache_file='val_cache',\n",
        "      shuffle=True,\n",
        "      batch_size=batch_size\n",
        "  )\n",
        "\n",
        "  test_dataset, test_steps = create_dataset(\n",
        "      reference_df_test,\n",
        "      apply_background_noise=False, \n",
        "      features=feature_selected,\n",
        "      cache_file='test_cache',\n",
        "      shuffle=False,\n",
        "      batch_size=batch_size\n",
        "  )\n",
        "\n",
        "  # input shape\n",
        "  input_shape = features_to_input[feature_selected]\n",
        "\n",
        "  # model\n",
        "  model = custom_cnn(input_shape)\n",
        "  model_name = 'custom_cnn'\n",
        "\n",
        "  model.compile(optimizer=\"adam\", loss=\"sparse_categorical_crossentropy\", metrics=[\"sparse_categorical_accuracy\"])\n",
        "\n",
        "  # training\n",
        "  print('Start training... ')\n",
        "  num_epochs = 40\n",
        "\n",
        "  early_stop_callback = tf.keras.callbacks.EarlyStopping(monitor='val_loss', patience=5)\n",
        "\n",
        "  reduce_LR = tf.keras.callbacks.ReduceLROnPlateau(monitor='val_loss', patience=3, verbose=1)\n",
        "\n",
        "  model_checkpoint = tf.keras.callbacks.ModelCheckpoint(f'trained_models/{model_name}.h5', monitor='val_loss', save_best_only=True)\n",
        "\n",
        "  history = model.fit(\n",
        "                  train_dataset,\n",
        "                  epochs=num_epochs,\n",
        "                  steps_per_epoch=train_steps,\n",
        "                  validation_data=val_dataset,\n",
        "                  validation_steps=val_steps,\n",
        "                  callbacks=[early_stop_callback, model_checkpoint, reduce_LR], \n",
        "                  verbose=0\n",
        "                  )\n",
        "  \n",
        "  print('Training completed!')\n",
        "\n",
        "  # testing\n",
        "  test_labels = reference_df_test['class']\n",
        "  test_pred = model.predict(test_dataset, steps=test_steps, verbose=1)[:len(test_labels)].squeeze()\n",
        "\n",
        "  y_pred = np.argmax(test_pred, axis=1)\n",
        "  y_true = reference_df_test['class'].tolist()\n",
        "\n",
        "  accuracy = accuracy_score(y_true=y_true, y_pred=y_pred)\n",
        "  logloss  = log_loss(y_true, test_pred, labels=np.arange(35))\n",
        "  cohen_k  = cohen_kappa_score(y_true, y_pred)\n",
        "\n",
        "  cr = class_report(y_true, y_pred)\n",
        "  weighted_metrics = cr.iloc[-1].tolist()\n",
        "\n",
        "  df_metrics = pd.DataFrame(\n",
        "      [weighted_metrics + [accuracy, logloss, cohen_k]], \n",
        "      columns = ['precision', 'recall', 'f1-score', 'accuracy', 'cross-entropy', 'Cohen-Kappa'], \n",
        "  )\n",
        "\n",
        "  # store results\n",
        "  if df_store is not None:\n",
        "    df_return = pd.concat([df_store, df_metrics])\n",
        "  else:\n",
        "    df_return = df_metrics\n",
        "\n",
        "  return df_return\n"
      ]
    },
    {
      "cell_type": "markdown",
      "metadata": {
        "id": "rzdaIifTfc-l"
      },
      "source": [
        "Let's run the above function for all features and store the resulting metrics."
      ]
    },
    {
      "cell_type": "code",
      "execution_count": null,
      "metadata": {
        "id": "pYlEL78PehCL"
      },
      "outputs": [],
      "source": [
        "for feat in np.arange(1, 6):\n",
        "\n",
        "  if feat==1:\n",
        "    df_output = training_and_testing(feat)\n",
        "\n",
        "  else:\n",
        "    df_output = training_and_testing(feat, df_output)\n",
        "\n",
        "display(df_output.round(4))\n",
        "\n",
        "if not os.path.exists(\"metrics\"):\n",
        "  os.mkdir('metrics')\n",
        "\n",
        "df_output.to_csv(f'metrics/metr_feat_comparison.csv')"
      ]
    },
    {
      "cell_type": "markdown",
      "metadata": {
        "id": "qmfIfiwvhWKi"
      },
      "source": [
        "# Extra: background noise effect \n",
        "It is also possible to study the effect of adding background noise when training the best CNN model. To do this, we train the model using different noise levels on the train and validation sets, while the test set is kept noise-free for comparison purposes. In this procedure we use the best features found in the previous step."
      ]
    },
    {
      "cell_type": "code",
      "execution_count": null,
      "metadata": {
        "id": "jOpw-JpuiGdn"
      },
      "outputs": [],
      "source": [
        "noise_red_levels = [0, 0.25, 0.5, 0.75, 1]\n",
        "features_to_use = 2\n",
        "\n",
        "for nr in noise_red_levels:\n",
        "\n",
        "  if nr==1:\n",
        "    df_output_noise = training_and_testing(features_to_use, noise_red=nr)\n",
        "\n",
        "  else:\n",
        "    df_output_noise = training_and_testing(features_to_use, df_store = df_output, noise_red=nr)\n",
        "\n",
        "# results\n",
        "display(df_output_noise.round(4))\n",
        "\n",
        "if not os.path.exists(\"metrics\"):\n",
        "  os.mkdir('metrics')\n",
        "\n",
        "df_output_noise.to_csv(f'metrics/metr_noise_effect.csv')"
      ]
    },
    {
      "cell_type": "markdown",
      "metadata": {
        "id": "aqEwef54gu74"
      },
      "source": [
        "# References\n",
        "**[Sainath15]** <br>\n",
        " Tara N. Sainath, Carolina Parada, _Convolutional Neural Networks for Small-footprint Keyword Spotting_, INTERSPEECH, Dresden, Germany, September 2015.\n",
        "\n",
        "**[Warden18]** <br>\n",
        " Pete Warden, _Speech Commands: A Dataset for Limited-Vocabulary Speech Recognition_, arXiv:1804.03209, April 2018. \n",
        " \n",
        "**[Lyons14]** <br>\n",
        " James Lyons et al. (2020, January 14). jameslyons/python_speech_features: release v0.6.1 (Version 0.6.1). Zenodo.\n"
      ]
    }
  ],
  "metadata": {
    "accelerator": "GPU",
    "colab": {
      "provenance": []
    },
    "gpuClass": "standard",
    "kernelspec": {
      "display_name": "DL_Keras",
      "language": "python",
      "name": "python3"
    },
    "language_info": {
      "codemirror_mode": {
        "name": "ipython",
        "version": 3
      },
      "file_extension": ".py",
      "mimetype": "text/x-python",
      "name": "python",
      "nbconvert_exporter": "python",
      "pygments_lexer": "ipython3",
      "version": "3.8.12"
    },
    "vscode": {
      "interpreter": {
        "hash": "51b7e6a6adb8df7affebc30c4882993a05eedb7d3f8cde5d27ca88ae74048761"
      }
    }
  },
  "nbformat": 4,
  "nbformat_minor": 0
}