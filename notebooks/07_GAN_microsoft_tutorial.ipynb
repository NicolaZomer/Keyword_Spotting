{
 "cells": [
  {
   "cell_type": "markdown",
   "metadata": {
    "id": "dsT1FPnBguaJ"
   },
   "source": [
    "# Keyword Spotting: GAN-based classification"
   ]
  },
  {
   "cell_type": "markdown",
   "metadata": {
    "id": "0lYQXwCmh402"
   },
   "source": [
    "## Get scripts from GitHub and install wget\n",
    "Only required when running on Colab. "
   ]
  },
  {
   "cell_type": "code",
   "execution_count": 1,
   "metadata": {
    "execution": {
     "iopub.execute_input": "2023-01-23T22:44:49.533423Z",
     "iopub.status.busy": "2023-01-23T22:44:49.532777Z",
     "iopub.status.idle": "2023-01-23T22:44:52.076133Z",
     "shell.execute_reply": "2023-01-23T22:44:52.075112Z",
     "shell.execute_reply.started": "2023-01-23T22:44:49.533352Z"
    },
    "id": "_V8fO0IpyMLd"
   },
   "outputs": [
    {
     "name": "stdout",
     "output_type": "stream",
     "text": [
      "Requirement already satisfied: wget in /usr/local/lib/python3.9/dist-packages (3.2)\n",
      "\u001b[33mWARNING: Running pip as the 'root' user can result in broken permissions and conflicting behaviour with the system package manager. It is recommended to use a virtual environment instead: https://pip.pypa.io/warnings/venv\u001b[0m\u001b[33m\n",
      "\u001b[0m"
     ]
    }
   ],
   "source": [
    "! pip install wget"
   ]
  },
  {
   "cell_type": "code",
   "execution_count": 2,
   "metadata": {
    "execution": {
     "iopub.execute_input": "2023-01-23T22:44:52.078171Z",
     "iopub.status.busy": "2023-01-23T22:44:52.077925Z",
     "iopub.status.idle": "2023-01-23T22:44:54.474120Z",
     "shell.execute_reply": "2023-01-23T22:44:54.472455Z",
     "shell.execute_reply.started": "2023-01-23T22:44:52.078146Z"
    },
    "id": "J7ZaKB5zhwiz"
   },
   "outputs": [
    {
     "name": "stdout",
     "output_type": "stream",
     "text": [
      "File ‘models_utils.py’ already there; not retrieving.\n",
      "\n",
      "File ‘plot_utils.py’ already there; not retrieving.\n",
      "\n",
      "File ‘preprocessing_utils.py’ already there; not retrieving.\n",
      "\n"
     ]
    }
   ],
   "source": [
    "! wget -nc https://raw.githubusercontent.com/NicolaZomer/Keyword_Spotting/main/utils/models_utils.py\n",
    "! wget -nc https://raw.githubusercontent.com/NicolaZomer/Keyword_Spotting/main/utils/plot_utils.py\n",
    "! wget -nc https://raw.githubusercontent.com/NicolaZomer/Keyword_Spotting/main/utils/preprocessing_utils.py"
   ]
  },
  {
   "cell_type": "markdown",
   "metadata": {
    "id": "ZFq83kJvyatv"
   },
   "source": [
    "## Import"
   ]
  },
  {
   "cell_type": "markdown",
   "metadata": {
    "id": "RMYTM7mrgufm"
   },
   "source": [
    "To extract MFCC features from audio signals we use the Python library [python_speech_features](https://github.com/jameslyons/python_speech_features)."
   ]
  },
  {
   "cell_type": "code",
   "execution_count": 3,
   "metadata": {
    "execution": {
     "iopub.execute_input": "2023-01-23T22:44:54.478485Z",
     "iopub.status.busy": "2023-01-23T22:44:54.477266Z",
     "iopub.status.idle": "2023-01-23T22:44:57.235275Z",
     "shell.execute_reply": "2023-01-23T22:44:57.234155Z",
     "shell.execute_reply.started": "2023-01-23T22:44:54.478405Z"
    },
    "id": "83mmHptRgufv"
   },
   "outputs": [
    {
     "name": "stdout",
     "output_type": "stream",
     "text": [
      "Requirement already satisfied: python_speech_features in /usr/local/lib/python3.9/dist-packages (0.6)\n",
      "\u001b[33mWARNING: Running pip as the 'root' user can result in broken permissions and conflicting behaviour with the system package manager. It is recommended to use a virtual environment instead: https://pip.pypa.io/warnings/venv\u001b[0m\u001b[33m\n",
      "\u001b[0m"
     ]
    }
   ],
   "source": [
    "! pip install python_speech_features\n",
    "\n",
    "from python_speech_features import logfbank, mfcc, delta"
   ]
  },
  {
   "cell_type": "markdown",
   "metadata": {
    "id": "7N6hBU0Tgugj"
   },
   "source": [
    "To perform Discrete Wavelet Transform on audio signals we use the Python library [PyWavelets](https://github.com/PyWavelets/pywt)."
   ]
  },
  {
   "cell_type": "code",
   "execution_count": 4,
   "metadata": {
    "execution": {
     "iopub.execute_input": "2023-01-23T22:44:57.237236Z",
     "iopub.status.busy": "2023-01-23T22:44:57.236597Z",
     "iopub.status.idle": "2023-01-23T22:44:59.706822Z",
     "shell.execute_reply": "2023-01-23T22:44:59.705610Z",
     "shell.execute_reply.started": "2023-01-23T22:44:57.237202Z"
    },
    "id": "MhiIcU5Xgugy"
   },
   "outputs": [
    {
     "name": "stdout",
     "output_type": "stream",
     "text": [
      "Requirement already satisfied: PyWavelets in /usr/local/lib/python3.9/dist-packages (1.3.0)\n",
      "Requirement already satisfied: numpy>=1.17.3 in /usr/local/lib/python3.9/dist-packages (from PyWavelets) (1.23.1)\n",
      "\u001b[33mWARNING: Running pip as the 'root' user can result in broken permissions and conflicting behaviour with the system package manager. It is recommended to use a virtual environment instead: https://pip.pypa.io/warnings/venv\u001b[0m\u001b[33m\n",
      "\u001b[0m"
     ]
    }
   ],
   "source": [
    "! pip install PyWavelets\n",
    "\n",
    "from pywt import dwt"
   ]
  },
  {
   "cell_type": "markdown",
   "metadata": {
    "id": "4NHIHLP6I10a"
   },
   "source": [
    "To visualize neural network architectures we use the Python library [visualkeras](https://github.com/paulgavrikov/visualkeras)."
   ]
  },
  {
   "cell_type": "code",
   "execution_count": 5,
   "metadata": {
    "execution": {
     "iopub.execute_input": "2023-01-23T22:44:59.709811Z",
     "iopub.status.busy": "2023-01-23T22:44:59.709498Z",
     "iopub.status.idle": "2023-01-23T22:45:04.882969Z",
     "shell.execute_reply": "2023-01-23T22:45:04.882059Z",
     "shell.execute_reply.started": "2023-01-23T22:44:59.709785Z"
    },
    "id": "jML1YAgeJETu"
   },
   "outputs": [
    {
     "name": "stdout",
     "output_type": "stream",
     "text": [
      "Requirement already satisfied: visualkeras in /usr/local/lib/python3.9/dist-packages (0.0.2)\n",
      "Requirement already satisfied: aggdraw>=1.3.11 in /usr/local/lib/python3.9/dist-packages (from visualkeras) (1.3.15)\n",
      "Requirement already satisfied: pillow>=6.2.0 in /usr/local/lib/python3.9/dist-packages (from visualkeras) (9.2.0)\n",
      "Requirement already satisfied: numpy>=1.18.1 in /usr/local/lib/python3.9/dist-packages (from visualkeras) (1.23.1)\n",
      "\u001b[33mWARNING: Running pip as the 'root' user can result in broken permissions and conflicting behaviour with the system package manager. It is recommended to use a virtual environment instead: https://pip.pypa.io/warnings/venv\u001b[0m\u001b[33m\n",
      "\u001b[0m"
     ]
    }
   ],
   "source": [
    "! pip install visualkeras\n",
    "\n",
    "import visualkeras"
   ]
  },
  {
   "cell_type": "code",
   "execution_count": 6,
   "metadata": {
    "execution": {
     "iopub.execute_input": "2023-01-23T22:45:04.884403Z",
     "iopub.status.busy": "2023-01-23T22:45:04.883978Z",
     "iopub.status.idle": "2023-01-23T22:45:05.615765Z",
     "shell.execute_reply": "2023-01-23T22:45:05.615085Z",
     "shell.execute_reply.started": "2023-01-23T22:45:04.884379Z"
    },
    "id": "Y_4uCFuXgucW"
   },
   "outputs": [],
   "source": [
    "import os\n",
    "import pathlib\n",
    "import requests\n",
    "import wget\n",
    "import time\n",
    "import inspect\n",
    "\n",
    "import matplotlib.pyplot as plt\n",
    "import numpy as np\n",
    "import pandas as pd\n",
    "import seaborn as sns\n",
    "import tensorflow as tf\n",
    "from tensorflow.keras import Sequential, layers\n",
    "\n",
    "from IPython.display import display, Audio, Image\n",
    "\n",
    "from sklearn.metrics import confusion_matrix, precision_recall_fscore_support, accuracy_score, log_loss, cohen_kappa_score\n",
    "\n",
    "from scipy.io import wavfile\n",
    "\n",
    "from models_utils import available_models, select_model\n",
    "import plot_utils\n",
    "import preprocessing_utils\n",
    "from preprocessing_utils import remove_file_starting_with\n",
    "\n",
    "plt.rcParams['font.size'] = '12'\n",
    "# %matplotlib inline"
   ]
  },
  {
   "cell_type": "code",
   "execution_count": 7,
   "metadata": {
    "execution": {
     "iopub.execute_input": "2023-01-23T22:45:05.617528Z",
     "iopub.status.busy": "2023-01-23T22:45:05.616789Z",
     "iopub.status.idle": "2023-01-23T22:45:06.339517Z",
     "shell.execute_reply": "2023-01-23T22:45:06.338485Z",
     "shell.execute_reply.started": "2023-01-23T22:45:05.617496Z"
    },
    "id": "v58f7JtLicT4"
   },
   "outputs": [
    {
     "name": "stdout",
     "output_type": "stream",
     "text": [
      "WARNING:tensorflow:From /tmp/ipykernel_883/868953920.py:1: is_gpu_available (from tensorflow.python.framework.test_util) is deprecated and will be removed in a future version.\n",
      "Instructions for updating:\n",
      "Use `tf.config.list_physical_devices('GPU')` instead.\n",
      "GPU Available: True\n",
      "Version: 2.9.1\n"
     ]
    }
   ],
   "source": [
    "print(\"GPU Available:\", tf.test.is_gpu_available())\n",
    "print(\"Version:\", tf.__version__)"
   ]
  },
  {
   "cell_type": "markdown",
   "metadata": {
    "id": "5J6-132RguqS"
   },
   "source": [
    "## 1 - Data loading and preprocessing\n",
    "In this project we use the [Speech Commands dataset](https://www.tensorflow.org/datasets/catalog/speech_commands), which contains short (one-second long) audio clips of English commands, stored as audio files in the WAV format. More in detail, the version 0.02 of the dataset contains 105.829 utterances of 35 short words, by thousands of different people. It was released on April 11th 2018 under [Creative Commons BY 4.0 license](https://creativecommons.org/licenses/by/4.0/) and collected using crowdsourcing, through [AIY](https://aiyprojects.withgoogle.com/) by Google. Some of these words are \"yes\", \"no\", \"up\", \"down\", \"left\", \"right\", \"on\", \"off\", \"stop\" and \"go\".\n",
    "\n",
    "### 1.1 - Download data and create data folder\n",
    "We import both a smaller version of the Speech Commands dataset and the full version. The mini dataset can be used for testing and demo reasons, however the entire work will be focused only on the complete dataset (or a subset of it). "
   ]
  },
  {
   "cell_type": "code",
   "execution_count": 8,
   "metadata": {
    "execution": {
     "iopub.execute_input": "2023-01-23T22:45:06.340698Z",
     "iopub.status.busy": "2023-01-23T22:45:06.340487Z",
     "iopub.status.idle": "2023-01-23T22:45:06.347875Z",
     "shell.execute_reply": "2023-01-23T22:45:06.347063Z",
     "shell.execute_reply.started": "2023-01-23T22:45:06.340678Z"
    },
    "id": "qMEgF_1Oguqb"
   },
   "outputs": [
    {
     "name": "stdout",
     "output_type": "stream",
     "text": [
      "Working with the full dataset!\n"
     ]
    }
   ],
   "source": [
    "choose_dataset = 2 # 1 for mini, 2 for full\n",
    "download_also_mini = False\n",
    "\n",
    "DATASET_PATH_mini = 'data/mini_speech_commands'\n",
    "DATASET_PATH_full = 'data/full_speech_commands'\n",
    "\n",
    "data_dir_mini = pathlib.Path(DATASET_PATH_mini)\n",
    "if not data_dir_mini.exists() and download_also_mini:\n",
    "  tf.keras.utils.get_file(\n",
    "      'mini_speech_commands.zip',\n",
    "      origin=\"http://storage.googleapis.com/download.tensorflow.org/data/mini_speech_commands.zip\",\n",
    "      extract=True,\n",
    "      cache_dir='.', cache_subdir='data')\n",
    "  print('\\n')\n",
    "  \n",
    "data_dir_full = pathlib.Path(DATASET_PATH_full)\n",
    "if not data_dir_full.exists():\n",
    "  tf.keras.utils.get_file(\n",
    "      'full_speech_commands.zip',\n",
    "      origin=\"http://download.tensorflow.org/data/speech_commands_v0.02.tar.gz\",\n",
    "      extract=True,\n",
    "      cache_dir='.', cache_subdir='data/full_speech_commands')\n",
    "  print('\\n')\n",
    "  \n",
    "if choose_dataset==1:\n",
    "  data_dir = data_dir_mini\n",
    "  data_path = DATASET_PATH_mini\n",
    "  print('Working with the mini dataset!')\n",
    "elif choose_dataset==2:\n",
    "  data_dir = data_dir_full\n",
    "  data_path = DATASET_PATH_full\n",
    "  print('Working with the full dataset!')\n",
    "else:\n",
    "  print(\"Error, 'choose_dataset' must be 1 or 2\")"
   ]
  },
  {
   "cell_type": "markdown",
   "metadata": {
    "id": "TajS9BZPgurM"
   },
   "source": [
    "### 1.2 - Dataset organization\n",
    "The audio files are organized into folders based on the word they contain. For more details see \\[[Warden18](https://arxiv.org/abs/1804.03209)\\].\n",
    "\n",
    "**Mini dataset** <br>\n",
    "The dataset's audio clips are stored in 8 folders corresponding to each speech command: `down`, `go`, `left`, `no`, `right`, `stop`, `up`, `yes`, and `stop`. \n",
    "\n",
    "**Full dataset** <br>\n",
    "The dataset's audio clips are stored in 35 folders corresponding to each speech command: <br>\n",
    "`backward`, `bed`, `bird`, `cat`, `dog`, `down`, `eight`, `five`, `follow`, `forward`, `four`, `go`, `happy`, `house`, `learn`, `left`, `marvin`, `nine`, `no`, `off`, `on`, `one`, `right`, `seven`, `sheila`, `six`, `stop`, `three`, `tree`, `two`, `up`, `visual`, `wow`, `yes`, `zero`\n",
    "\n",
    "\n"
   ]
  },
  {
   "cell_type": "code",
   "execution_count": 9,
   "metadata": {
    "execution": {
     "iopub.execute_input": "2023-01-23T22:45:06.348964Z",
     "iopub.status.busy": "2023-01-23T22:45:06.348753Z",
     "iopub.status.idle": "2023-01-23T22:45:06.355991Z",
     "shell.execute_reply": "2023-01-23T22:45:06.355166Z",
     "shell.execute_reply.started": "2023-01-23T22:45:06.348944Z"
    },
    "id": "gE9p410cgur8"
   },
   "outputs": [
    {
     "name": "stdout",
     "output_type": "stream",
     "text": [
      "Commands: ['backward', 'bed', 'bird', 'cat', 'dog', 'down', 'eight', 'five', 'follow', 'forward', 'four', 'go', 'happy', 'house', 'learn', 'left', 'marvin', 'nine', 'no', 'off', 'on', 'one', 'right', 'seven', 'sheila', 'six', 'stop', 'three', 'tree', 'two', 'up', 'visual', 'wow', 'yes', 'zero']\n",
      "\n",
      "Number of commands: 35\n"
     ]
    }
   ],
   "source": [
    "commands = np.array(tf.io.gfile.listdir(str(data_dir)))\n",
    "\n",
    "if choose_dataset==1:\n",
    "  mask = commands != 'README.md'\n",
    "\n",
    "elif choose_dataset==2:\n",
    "  mask = (\n",
    "      np.array(commands != 'README.md')                 &\n",
    "      np.array(commands != 'LICENSE')                   &\n",
    "      np.array(commands != '.DS_Store')                 &\n",
    "      np.array(commands != 'training_list.txt')         &  \n",
    "      np.array(commands != 'validation_list.txt')       &  \n",
    "      np.array(commands != 'testing_list.txt')          &  \n",
    "      np.array(commands != 'full_speech_commands.zip')  &\n",
    "      np.array(commands != '_background_noise_')        \n",
    "  )\n",
    "  \n",
    "commands = sorted(commands[mask])\n",
    "print('Commands:', commands)\n",
    "\n",
    "print('\\nNumber of commands: %i' %len(commands))"
   ]
  },
  {
   "cell_type": "markdown",
   "metadata": {
    "id": "N_HQ4GIRguvw"
   },
   "source": [
    "### 1.3 - Processing of the original audio files \n",
    "The original audio files were captured in a variety of formats and then converted to .WAV file at a 16000 sample rate. The audio was then trimmed to a one second length to align most utterances, using the [extract_loudest_section](https://github.com/petewarden/extract_loudest_section) tool. The audio files were then screened for silence or incorrect words, and arranged into folders by label.\n",
    "\n",
    "### 1.4 - Training, testing and validation sets\n",
    "The text files `validation_list.txt` and `testing_list.txt` available in the [Speech Commands dataset](https://www.tensorflow.org/datasets/catalog/speech_commands) contain the paths to all the files in each set, with each path on a new line. Any files that aren't in either of these lists can be considered to be part of the training set. The validation and test set sizes thus obtained are approximatly 10% of the size of the complete set. For more information on how the partition is made, see the README.md file of the dataset. \n",
    "\n",
    "The following code performs these operations:\n",
    "- Load the reference validation and testing files as separated Pandas dataframe objects. \n",
    "- Store the path of all audio files in a dictionary. \n",
    "- Create the reference file for training data, by storing in a Pandas dataframe object the paths of all files that aren't in the validation or testing list. If it has been already created, we simply import it as we did for the reference validation and testing files. \n",
    "\n",
    "To each file we associate the corresponding label (i.e. the name of the folder it is in), so that we get a proper labeling for each file to be used with our loss function. Of course, we still need to load the actual data."
   ]
  },
  {
   "cell_type": "code",
   "execution_count": 10,
   "metadata": {
    "execution": {
     "iopub.execute_input": "2023-01-23T22:45:06.357004Z",
     "iopub.status.busy": "2023-01-23T22:45:06.356807Z",
     "iopub.status.idle": "2023-01-23T22:45:07.609918Z",
     "shell.execute_reply": "2023-01-23T22:45:07.608929Z",
     "shell.execute_reply.started": "2023-01-23T22:45:06.356985Z"
    },
    "id": "_fygRaSrguv0"
   },
   "outputs": [
    {
     "name": "stdout",
     "output_type": "stream",
     "text": [
      "There are 105829 audio files in the dataset\n"
     ]
    }
   ],
   "source": [
    "training_list_path = data_path + \"/training_list.txt\"\n",
    "\n",
    "reference_df_val = pd.read_csv(data_path+\"/validation_list.txt\", sep=\"/\", header=None, names=['label', 'file'])\n",
    "reference_df_test = pd.read_csv(data_path+\"/testing_list.txt\", sep=\"/\", header=None, names=['label', 'file'])\n",
    "\n",
    "# all audio files\n",
    "all_files = {}\n",
    "for command in commands:\n",
    "    all_files[command] = os.listdir(data_path+'/'+command)\n",
    "    \n",
    "num_files = 0\n",
    "for x_ in all_files.values():\n",
    "    num_files += len(x_)\n",
    "        \n",
    "print('There are %i audio files in the dataset' %num_files)\n",
    "\n",
    "# reference file for training set\n",
    "# if already exists import it\n",
    "if pathlib.Path(training_list_path).exists(): \n",
    "    reference_df_train =  pd.read_csv(data_path+\"/training_list.txt\", sep=\"/\", header=None, names=['label', 'file'])\n",
    "    \n",
    "# else search if it can be dowloaded\n",
    "else: \n",
    "  training_list_url = 'https://raw.githubusercontent.com/NicolaZomer/Keyword_Spotting/main/training_list.txt'\n",
    "  response = requests.get(training_list_url)\n",
    "\n",
    "  if response.status_code == 200:\n",
    "      wget.download(training_list_url, out=str(data_path))\n",
    "      print('File downloaded from GitHub')\n",
    "\n",
    "      reference_df_train =  pd.read_csv(data_path+\"/training_list.txt\", sep=\"/\", header=None, names=['label', 'file'])\n",
    "\n",
    "  else: # create it and store the dataframe as a .txt file; creating the pd object can take some time\n",
    "      print('File not found, error '+str(response.status_code))\n",
    "\n",
    "      reference_df_train = pd.DataFrame(columns=['label', 'file'])\n",
    "      for i, command in enumerate(commands):\n",
    "          print(\"Processing command '%s', %i commands missing...\" %(command, len(commands)-i-1))\n",
    "          for file in all_files[command]:\n",
    "              if file in reference_df_val['file'].values:\n",
    "                  continue\n",
    "              if file in reference_df_test['file'].values:\n",
    "                  continue\n",
    "\n",
    "              reference_df_train.loc[len(reference_df_train)] = [command, file]\n",
    "\n",
    "      print('Done!')\n",
    "      print('\\n')\n",
    "\n",
    "      # store reference_df_train in .txt file\n",
    "      reference_df_train.to_csv(data_path+'/training_list.txt', header=None, index=None, sep='/', mode='a')\n",
    "\n",
    "# print the result\n",
    "# print('----------------------------')\n",
    "# print('TRAINING FILES:')\n",
    "# print(reference_df_train)\n",
    "# print('----------------------------')\n",
    "# print('VALIDATION FILES:')\n",
    "# print(reference_df_val)\n",
    "# print('----------------------------')\n",
    "# print('TESTING FILES:')\n",
    "# print(reference_df_test)"
   ]
  },
  {
   "cell_type": "markdown",
   "metadata": {
    "id": "2naK4mEeguv5"
   },
   "source": [
    "Encode target labels with value between 0 and n_commands-1."
   ]
  },
  {
   "cell_type": "code",
   "execution_count": 11,
   "metadata": {
    "execution": {
     "iopub.execute_input": "2023-01-23T22:45:07.611484Z",
     "iopub.status.busy": "2023-01-23T22:45:07.611187Z",
     "iopub.status.idle": "2023-01-23T22:45:07.615641Z",
     "shell.execute_reply": "2023-01-23T22:45:07.614709Z",
     "shell.execute_reply.started": "2023-01-23T22:45:07.611459Z"
    },
    "id": "tyTfKJQbguv6"
   },
   "outputs": [],
   "source": [
    "label_to_class = {commands[i]:i for i in range(len(commands))}\n",
    "# label_to_class"
   ]
  },
  {
   "cell_type": "code",
   "execution_count": 12,
   "metadata": {
    "execution": {
     "iopub.execute_input": "2023-01-23T22:45:07.616945Z",
     "iopub.status.busy": "2023-01-23T22:45:07.616712Z",
     "iopub.status.idle": "2023-01-23T22:45:07.620886Z",
     "shell.execute_reply": "2023-01-23T22:45:07.620029Z",
     "shell.execute_reply.started": "2023-01-23T22:45:07.616924Z"
    },
    "id": "9bEaJKJkguv7"
   },
   "outputs": [],
   "source": [
    "class_to_label = {i:commands[i] for i in range(len(commands))}\n",
    "# class_to_label"
   ]
  },
  {
   "cell_type": "code",
   "execution_count": 13,
   "metadata": {
    "execution": {
     "iopub.execute_input": "2023-01-23T22:45:07.622432Z",
     "iopub.status.busy": "2023-01-23T22:45:07.622181Z",
     "iopub.status.idle": "2023-01-23T22:45:07.644583Z",
     "shell.execute_reply": "2023-01-23T22:45:07.643521Z",
     "shell.execute_reply.started": "2023-01-23T22:45:07.622410Z"
    },
    "id": "8vgwIDfSguv8"
   },
   "outputs": [
    {
     "name": "stdout",
     "output_type": "stream",
     "text": [
      "TRAINING FILES:\n",
      "          label                   file  class\n",
      "0      backward  0165e0e8_nohash_0.wav      0\n",
      "1      backward  017c4098_nohash_0.wav      0\n",
      "2      backward  017c4098_nohash_1.wav      0\n",
      "3      backward  017c4098_nohash_2.wav      0\n",
      "4      backward  017c4098_nohash_3.wav      0\n",
      "...         ...                    ...    ...\n",
      "84838      zero  ffd2ba2f_nohash_1.wav     34\n",
      "84839      zero  ffd2ba2f_nohash_2.wav     34\n",
      "84840      zero  ffd2ba2f_nohash_3.wav     34\n",
      "84841      zero  ffd2ba2f_nohash_4.wav     34\n",
      "84842      zero  fffcabd1_nohash_0.wav     34\n",
      "\n",
      "[84843 rows x 3 columns]\n",
      "----------------------------\n",
      "VALIDATION FILES:\n",
      "      label                   file  class\n",
      "0     right  a69b9b3e_nohash_0.wav     22\n",
      "1     right  439c84f4_nohash_1.wav     22\n",
      "2     right  409c962a_nohash_1.wav     22\n",
      "3     right  dbaf8fc6_nohash_2.wav     22\n",
      "4     right  a6d586b7_nohash_1.wav     22\n",
      "...     ...                    ...    ...\n",
      "9976   four  d107dc42_nohash_0.wav     10\n",
      "9977   four  ad63d93c_nohash_0.wav     10\n",
      "9978   four  d3831f6a_nohash_1.wav     10\n",
      "9979   four  3c4aa5ef_nohash_3.wav     10\n",
      "9980   four  c6389ab0_nohash_0.wav     10\n",
      "\n",
      "[9981 rows x 3 columns]\n",
      "----------------------------\n",
      "TESTING FILES:\n",
      "       label                   file  class\n",
      "0      right  bb05582b_nohash_3.wav     22\n",
      "1      right  97f4c236_nohash_2.wav     22\n",
      "2      right  f2e59fea_nohash_3.wav     22\n",
      "3      right  fdb5155e_nohash_2.wav     22\n",
      "4      right  dc75148d_nohash_0.wav     22\n",
      "...      ...                    ...    ...\n",
      "11000   four  189cbabe_nohash_2.wav     10\n",
      "11001   four  8fe67225_nohash_3.wav     10\n",
      "11002   four  c9e251d2_nohash_1.wav     10\n",
      "11003   four  0c40e715_nohash_0.wav     10\n",
      "11004   four  8769c34c_nohash_3.wav     10\n",
      "\n",
      "[11005 rows x 3 columns]\n"
     ]
    }
   ],
   "source": [
    "reference_df_train['class'] = reference_df_train['label'].map(label_to_class)\n",
    "reference_df_val['class']   = reference_df_val['label'].map(label_to_class)\n",
    "reference_df_test['class']  = reference_df_test['label'].map(label_to_class)\n",
    "\n",
    "# print the result\n",
    "print('TRAINING FILES:')\n",
    "print(reference_df_train)\n",
    "print('----------------------------')\n",
    "print('VALIDATION FILES:')\n",
    "print(reference_df_val)\n",
    "print('----------------------------')\n",
    "print('TESTING FILES:')\n",
    "print(reference_df_test)"
   ]
  },
  {
   "cell_type": "markdown",
   "metadata": {
    "id": "YWHq02qWguwV"
   },
   "source": [
    "#### 1.3.1 - Smoke test\n",
    "We enable the possibility to perform some tests without loading the entire dataset by setting `smoke_test=True`. With this option the train, validation and test set are reduced to a fraction `smoke_test_frac` of elements. This can be useful to test if everything is working as intended before the full training, or if the current hardware is not powerful enough. "
   ]
  },
  {
   "cell_type": "code",
   "execution_count": 14,
   "metadata": {
    "execution": {
     "iopub.execute_input": "2023-01-23T22:45:07.650267Z",
     "iopub.status.busy": "2023-01-23T22:45:07.649796Z",
     "iopub.status.idle": "2023-01-23T22:45:07.656348Z",
     "shell.execute_reply": "2023-01-23T22:45:07.655123Z",
     "shell.execute_reply.started": "2023-01-23T22:45:07.650234Z"
    },
    "id": "kWb3R_eQguwW"
   },
   "outputs": [],
   "source": [
    "smoke_test = False\n",
    "smoke_test_frac = 0.15\n",
    "smoke_test_threshold = 1000 # minimum length of reduced datasets\n",
    "\n",
    "if smoke_test:\n",
    "    len_min = smoke_test_frac * min(len(reference_df_train), len(reference_df_val), len(reference_df_test))\n",
    "    if len_min < smoke_test_threshold:\n",
    "        raise Exception(f'One of the reduced datasets would have a number of samples < {smoke_test_threshold}! Select a larger value for \"smoke_test_frac\".')\n",
    "    else: \n",
    "        reference_df_train = reference_df_train.sample(frac=smoke_test_frac, replace=False)\n",
    "        reference_df_val   = reference_df_val.sample(frac=smoke_test_frac, replace=False)\n",
    "        reference_df_test  = reference_df_test.sample(frac=smoke_test_frac, replace=False)"
   ]
  },
  {
   "cell_type": "code",
   "execution_count": 15,
   "metadata": {
    "execution": {
     "iopub.execute_input": "2023-01-23T22:45:07.658175Z",
     "iopub.status.busy": "2023-01-23T22:45:07.657776Z",
     "iopub.status.idle": "2023-01-23T22:45:07.664295Z",
     "shell.execute_reply": "2023-01-23T22:45:07.663235Z",
     "shell.execute_reply.started": "2023-01-23T22:45:07.658139Z"
    },
    "id": "QdOpKmpwguwi"
   },
   "outputs": [
    {
     "name": "stdout",
     "output_type": "stream",
     "text": [
      "TRAINING SET\n",
      "\tnumber of audio files: 84843\n",
      "\tpercentage of audio files: 80.17%\n",
      "VALIDATION SET\n",
      "\tnumber of audio files: 9981\n",
      "\tpercentage of audio files: 9.43%\n",
      "TEST SET\n",
      "\tnumber of audio files: 11005\n",
      "\tpercentage of audio files: 10.40%\n"
     ]
    }
   ],
   "source": [
    "print('TRAINING SET')\n",
    "print('\\tnumber of audio files: %i' %len(reference_df_train))\n",
    "print('\\tpercentage of audio files: %.2f%%' %(len(reference_df_train)/num_files*100))\n",
    "\n",
    "print('VALIDATION SET')\n",
    "print('\\tnumber of audio files: %i' %len(reference_df_val))\n",
    "print('\\tpercentage of audio files: %.2f%%' %(len(reference_df_val)/num_files*100))\n",
    "\n",
    "print('TEST SET')\n",
    "print('\\tnumber of audio files: %i' %len(reference_df_test))\n",
    "print('\\tpercentage of audio files: %.2f%%' %(len(reference_df_test)/num_files*100))"
   ]
  },
  {
   "cell_type": "markdown",
   "metadata": {
    "id": "Qpc9ckEFguwm"
   },
   "source": [
    "#### 1.3.2 - Dataset distribution\n",
    "Let's now plot the percentage of elements of each class in each set. "
   ]
  },
  {
   "cell_type": "code",
   "execution_count": 16,
   "metadata": {
    "execution": {
     "iopub.execute_input": "2023-01-23T22:45:07.665417Z",
     "iopub.status.busy": "2023-01-23T22:45:07.665191Z",
     "iopub.status.idle": "2023-01-23T22:45:08.456949Z",
     "shell.execute_reply": "2023-01-23T22:45:08.456131Z",
     "shell.execute_reply.started": "2023-01-23T22:45:07.665397Z"
    },
    "id": "YhKiDxNuguwo"
   },
   "outputs": [
    {
     "data": {
      "image/png": "[encoded data removed]",
      "text/plain": [
       "<Figure size 1008x1512 with 3 Axes>"
      ]
     },
     "metadata": {
      "needs_background": "light"
     },
     "output_type": "display_data"
    }
   ],
   "source": [
    "fig, ax = plt.subplots(3, 1, figsize=(14, 21))\n",
    "\n",
    "plot_utils.hist_class_distribution(reference_df_train, ax[0], commands)\n",
    "plot_utils.hist_class_distribution(reference_df_val, ax[1], commands)\n",
    "plot_utils.hist_class_distribution(reference_df_test, ax[2], commands)\n",
    "\n",
    "for i in range(3):\n",
    "    ax[i].set_ylabel('Normalized counts')\n",
    "    ax[i].grid(alpha=0.5)\n",
    "    ax[i].tick_params(axis='x', labelrotation=90)\n",
    "    \n",
    "ax[0].set_title('Training set distribution', fontsize=18)\n",
    "ax[1].set_title('Validation set distribution', fontsize=18)\n",
    "ax[2].set_title('Testing set distribution', fontsize=18)\n",
    "\n",
    "plt.tight_layout()\n",
    "plt.show()"
   ]
  },
  {
   "cell_type": "markdown",
   "metadata": {
    "id": "KLmeFdAExBOD"
   },
   "source": [
    "### 1.4 Noise loading \n",
    "We load here the available noisy audio signals and we defined the object `noise_dict`, which is required by the function `load_and_preprocessing_data` (see next section)."
   ]
  },
  {
   "cell_type": "code",
   "execution_count": 17,
   "metadata": {
    "execution": {
     "iopub.execute_input": "2023-01-23T22:45:08.458778Z",
     "iopub.status.busy": "2023-01-23T22:45:08.457948Z",
     "iopub.status.idle": "2023-01-23T22:45:08.477135Z",
     "shell.execute_reply": "2023-01-23T22:45:08.476353Z",
     "shell.execute_reply.started": "2023-01-23T22:45:08.458747Z"
    },
    "id": "jDxNRt3Rw64J"
   },
   "outputs": [
    {
     "name": "stderr",
     "output_type": "stream",
     "text": [
      "/notebooks/preprocessing_utils.py:69: WavFileWarning: Chunk (non-data) not understood, skipping it.\n",
      "  _, data = wavfile.read(file_path)\n"
     ]
    }
   ],
   "source": [
    "noise_path = '_background_noise_'\n",
    "\n",
    "# load all noises \n",
    "noise_1 = preprocessing_utils.load_data('doing_the_dishes.wav', noise_path)\n",
    "noise_2 = preprocessing_utils.load_data('dude_miaowing.wav', noise_path)\n",
    "noise_3 = preprocessing_utils.load_data('exercise_bike.wav', noise_path)\n",
    "noise_4 = preprocessing_utils.load_data('pink_noise.wav', noise_path)\n",
    "noise_5 = preprocessing_utils.load_data('running_tap.wav', noise_path)\n",
    "noise_6 = preprocessing_utils.load_data('white_noise.wav', noise_path)\n",
    "\n",
    "noise_dict = {\n",
    "    '1': noise_1, \n",
    "    '2': noise_2, \n",
    "    '3': noise_3, \n",
    "    '4': noise_4, \n",
    "    '5': noise_5, \n",
    "    '6': noise_6\n",
    "}"
   ]
  },
  {
   "cell_type": "markdown",
   "metadata": {
    "id": "af53Vbe4gu07"
   },
   "source": [
    "## 2 - Data Loading using the Dataset API\n",
    "As the dataset is quite large (>5GiB), there is the risk that it will not entirely fit in the memory, plus the preprocessing pipeline would be computationally intensive. For these reasons, we want to implement a proper and optimized data-loading pipeline, as reading the data can be the main bottleneck of the entire training process. This can be done by exploit the [Tensorflow Dataset API](https://www.tensorflow.org/guide/datasets).\n",
    "\n",
    "The main goal of this phase is to create a `tf.data.Dataset` object to efficiently load and preprocess your data. \n",
    "\n",
    "## 2.1 Loading and preprocessing\n",
    "First, to load and preprocess the data, we use the function `load_and_preprocess_data`, defined in the file `preprocessing_utils.py`. This function puts together all loading and preprocessing methods that can be explored in the notebook `B1_data_analysis_and_preprocessing_inspection.ipynb`. \n"
   ]
  },
  {
   "cell_type": "code",
   "execution_count": 18,
   "metadata": {
    "execution": {
     "iopub.execute_input": "2023-01-23T22:45:08.478280Z",
     "iopub.status.busy": "2023-01-23T22:45:08.478047Z",
     "iopub.status.idle": "2023-01-23T22:45:08.483467Z",
     "shell.execute_reply": "2023-01-23T22:45:08.482709Z",
     "shell.execute_reply.started": "2023-01-23T22:45:08.478260Z"
    },
    "id": "_X9BLSnXxZ3m"
   },
   "outputs": [
    {
     "name": "stdout",
     "output_type": "stream",
     "text": [
      "def load_and_preprocess_data(file_name, file_label, data_path_=data_path, apply_background_noise=False, noise_dict=None, noise_reduction=0.5, features=1, resize=False, random_shift=False):\n",
      "    '''\n",
      "    features:\n",
      "    - 1 for MFCC features (default), delta_order=2\n",
      "    - 2 for log Mel-filterbank energy features\n",
      "    - 3 for spectrogram\n",
      "    - 4 for Discrete Wavelet Transform + MFCC features\n",
      "    - 5 for MFCC features, delta_order=0\n",
      "    '''\n",
      "    \n",
      "    # load data\n",
      "    data = load_data(file_name, file_label, data_path_=data_path_)\n",
      "    \n",
      "    # padding/trimming\n",
      "    data = padding_trimming(data)\n",
      "\n",
      "    # random time shift\n",
      "    if random_shift:\n",
      "        data = random_time_shift(data)\n",
      "    \n",
      "    # add background noise\n",
      "    if apply_background_noise and np.random.uniform()<0.8:\n",
      "        data = background_noise(data, noise_dict=noise_dict, noise_reduction=noise_reduction)\n",
      "\n",
      "    # extract features\n",
      "    if features == 1:\n",
      "        data_features = get_mfcc(data)\n",
      "    \n",
      "    elif features == 2:\n",
      "        data_features = get_logfbank(data)\n",
      "\n",
      "    elif features == 3:\n",
      "        data_features = get_spectrogram(data)\n",
      "\n",
      "    elif features == 4:\n",
      "        data, _ = dwt(data=data, wavelet='db1', mode='sym')\n",
      "        data_features = get_mfcc(data)\n",
      "        \n",
      "    elif features == 5:\n",
      "        data_features = get_mfcc(data, delta_order=0)\n",
      "        \n",
      "    elif features == 6:\n",
      "        data_features = get_logfbank(data, winlen=32, winstep=15.5, nfilt=64)\n",
      "        \n",
      "    else:\n",
      "        data_features = data\n",
      "    \n",
      "    # resize feature vector\n",
      "    if resize:\n",
      "        data_features = np.resize(data_features, (50, 50))\n",
      "        \n",
      "    # TensorFlow takes as input 32-bit floating point data\n",
      "    return data_features.astype(np.float32)\n",
      "\n"
     ]
    }
   ],
   "source": [
    "print(inspect.getsource(preprocessing_utils.load_and_preprocess_data))"
   ]
  },
  {
   "cell_type": "markdown",
   "metadata": {
    "id": "2fIv5VEdgu1a"
   },
   "source": [
    "### 2.2 - Dataset definition\n",
    "We now define the `create_dataset` function, which initializes a `tf.data.Dataset` object and properly maps all the required processing. More details on this procedure can be found [here](https://www.tensorflow.org/guide/performance/datasets), along with additional tips and tricks for performance optimization."
   ]
  },
  {
   "cell_type": "code",
   "execution_count": 19,
   "metadata": {
    "execution": {
     "iopub.execute_input": "2023-01-23T22:45:08.484599Z",
     "iopub.status.busy": "2023-01-23T22:45:08.484377Z",
     "iopub.status.idle": "2023-01-23T22:45:08.488891Z",
     "shell.execute_reply": "2023-01-23T22:45:08.488019Z",
     "shell.execute_reply.started": "2023-01-23T22:45:08.484579Z"
    },
    "id": "Az6lLEjixidk"
   },
   "outputs": [],
   "source": [
    "def load_and_preprocess_noisedict_passed(file_name, file_label, data_path_=data_path, apply_background_noise=False, features=1, resize=False):\n",
    "  return preprocessing_utils.load_and_preprocess_data(file_name, file_label, data_path_=data_path_, apply_background_noise=False, noise_dict=noise_dict, features=features, resize=resize)"
   ]
  },
  {
   "cell_type": "code",
   "execution_count": 20,
   "metadata": {
    "execution": {
     "iopub.execute_input": "2023-01-23T22:45:08.490049Z",
     "iopub.status.busy": "2023-01-23T22:45:08.489815Z",
     "iopub.status.idle": "2023-01-23T22:45:08.496596Z",
     "shell.execute_reply": "2023-01-23T22:45:08.495654Z",
     "shell.execute_reply.started": "2023-01-23T22:45:08.490028Z"
    },
    "id": "lRoZ6waNgu1a"
   },
   "outputs": [],
   "source": [
    "def create_dataset(df, data_path_=data_path, apply_background_noise=False, features=1, resize=False, cache_file=None, shuffle=True, repeat=True, batch_size=32):\n",
    "\n",
    "    # Convert DataFrame to lists\n",
    "    file_names = df['file'].tolist()\n",
    "    file_labels = df['class'].tolist()\n",
    "\n",
    "    # Create a Dataset object\n",
    "    dataset = tf.data.Dataset.from_tensor_slices((file_names, file_labels))\n",
    "\n",
    "    # Map the load_and_preprocess_data function\n",
    "    def numpy_func(file_name, file_label):\n",
    "        return tf.numpy_function(load_and_preprocess_noisedict_passed, inp=[file_name, file_label, data_path_, apply_background_noise, features, resize], Tout=tf.float32), file_label\n",
    "    dataset = dataset.map(numpy_func, num_parallel_calls=os.cpu_count())\n",
    "\n",
    "    # Cache\n",
    "    if cache_file:\n",
    "        dataset = dataset.cache(filename=cache_file)\n",
    "\n",
    "    # Shuffle\n",
    "    if shuffle:\n",
    "        dataset = dataset.shuffle(buffer_size=len(df))\n",
    "\n",
    "    # Repeat the dataset indefinitely\n",
    "    if repeat:\n",
    "        dataset = dataset.repeat()\n",
    "\n",
    "    # Batch\n",
    "    dataset = dataset.batch(batch_size=batch_size)\n",
    "\n",
    "    # Prefetch\n",
    "    dataset = dataset.prefetch(buffer_size=1)\n",
    "\n",
    "    # Steps\n",
    "    steps = int(np.ceil(len(df) / batch_size))\n",
    "\n",
    "    return dataset, steps"
   ]
  },
  {
   "cell_type": "markdown",
   "metadata": {
    "id": "g7wcCw0Kgu1b"
   },
   "source": [
    "### 2.2 - Dataset initialization\n",
    "Finally, we define the training, validation and testing dataset, applying the above function to each of the corresponding reference dataframes. We also evaluate the number of steps (*train_steps*, *val_steps* and *test_steps*) required to load and process the entire dataset (num. of samples / batch_size).\n"
   ]
  },
  {
   "cell_type": "code",
   "execution_count": 21,
   "metadata": {
    "execution": {
     "iopub.execute_input": "2023-01-23T22:45:08.497870Z",
     "iopub.status.busy": "2023-01-23T22:45:08.497622Z",
     "iopub.status.idle": "2023-01-23T22:45:09.093631Z",
     "shell.execute_reply": "2023-01-23T22:45:09.092879Z",
     "shell.execute_reply.started": "2023-01-23T22:45:08.497849Z"
    },
    "id": "i2c5zxUVgu1b"
   },
   "outputs": [],
   "source": [
    "'''\n",
    "features:\n",
    "- 1 for MFCC features (default), delta_order=2\n",
    "- 2 for log Mel-filterbank energy features\n",
    "- 3 for spectrogram\n",
    "- 4 for Discrete Wavelet Transform + MFCC features\n",
    "- 5 for MFCC features, delta_order=0\n",
    "- 6 for log Mel-filterbank energy features (GAN)\n",
    "'''\n",
    "\n",
    "apply_bn = True\n",
    "features_to_extract = 6\n",
    "batch_size = 32\n",
    "\n",
    "train_dataset, train_steps = create_dataset(\n",
    "    reference_df_train,\n",
    "    apply_background_noise=apply_bn,\n",
    "    features=features_to_extract,\n",
    "    cache_file='train_cache',\n",
    "    batch_size=batch_size\n",
    ")\n",
    "\n",
    "val_dataset, val_steps = create_dataset(\n",
    "    reference_df_val,\n",
    "    apply_background_noise=apply_bn,\n",
    "    features=features_to_extract,\n",
    "    cache_file='val_cache',\n",
    "    batch_size=batch_size\n",
    ")\n",
    "\n",
    "test_dataset, test_steps = create_dataset(\n",
    "    reference_df_test,\n",
    "    features=features_to_extract,\n",
    "    cache_file='test_cache',\n",
    "    shuffle=False,\n",
    "    batch_size=batch_size\n",
    ")"
   ]
  },
  {
   "cell_type": "markdown",
   "metadata": {
    "id": "1dp116A5gu1c"
   },
   "source": [
    "## 3 - GAN-based classifier model\n",
    "References:\n",
    "- [Deep Convolutional Generative Adversarial Network | TensorFlow](https://www.tensorflow.org/tutorials/generative/dcgan)\n",
    "- [GAN-based Data Generation for Speech Emotion Recognition | Microsoft](https://isca-speech.org/archive_v0/Interspeech_2020/pdfs/2898.pdf)"
   ]
  },
  {
   "cell_type": "code",
   "execution_count": 22,
   "metadata": {
    "execution": {
     "iopub.execute_input": "2023-01-23T22:45:09.094789Z",
     "iopub.status.busy": "2023-01-23T22:45:09.094567Z",
     "iopub.status.idle": "2023-01-23T22:45:11.841352Z",
     "shell.execute_reply": "2023-01-23T22:45:11.839975Z",
     "shell.execute_reply.started": "2023-01-23T22:45:09.094769Z"
    },
    "id": "R8FZJmRkjFXf"
   },
   "outputs": [
    {
     "name": "stdout",
     "output_type": "stream",
     "text": [
      "Requirement already satisfied: tensorflow-addons in /usr/local/lib/python3.9/dist-packages (0.19.0)\n",
      "Requirement already satisfied: packaging in /usr/local/lib/python3.9/dist-packages (from tensorflow-addons) (21.3)\n",
      "Requirement already satisfied: typeguard>=2.7 in /usr/local/lib/python3.9/dist-packages (from tensorflow-addons) (2.13.3)\n",
      "Requirement already satisfied: pyparsing!=3.0.5,>=2.0.2 in /usr/local/lib/python3.9/dist-packages (from packaging->tensorflow-addons) (3.0.9)\n",
      "\u001b[33mWARNING: Running pip as the 'root' user can result in broken permissions and conflicting behaviour with the system package manager. It is recommended to use a virtual environment instead: https://pip.pypa.io/warnings/venv\u001b[0m\u001b[33m\n",
      "\u001b[0m"
     ]
    }
   ],
   "source": [
    "from tensorflow.keras import Sequential\n",
    "from tensorflow.keras.layers import Dense, Reshape, Conv2D, UpSampling2D, LeakyReLU, Flatten, Activation, BatchNormalization\n",
    "\n",
    "! pip install tensorflow-addons\n",
    "from tensorflow_addons.layers import SpectralNormalization\n",
    "\n",
    "from tensorflow.keras.losses import BinaryCrossentropy, CategoricalCrossentropy\n",
    "from tensorflow.keras.optimizers import Adam\n",
    "\n",
    "from tensorflow.keras.models import Model"
   ]
  },
  {
   "cell_type": "markdown",
   "metadata": {
    "id": "6ehk_BTxgu1d"
   },
   "source": [
    "### 3.1 - Create the models"
   ]
  },
  {
   "cell_type": "code",
   "execution_count": 23,
   "metadata": {
    "execution": {
     "iopub.execute_input": "2023-01-23T22:45:11.843225Z",
     "iopub.status.busy": "2023-01-23T22:45:11.842909Z",
     "iopub.status.idle": "2023-01-23T22:45:11.848727Z",
     "shell.execute_reply": "2023-01-23T22:45:11.847720Z",
     "shell.execute_reply.started": "2023-01-23T22:45:11.843189Z"
    },
    "id": "vp4J8PSRM1j9"
   },
   "outputs": [],
   "source": [
    "input_shape = (64, 64)\n",
    "\n",
    "N_z = 128 # noise dimension\n",
    "N_c = 35  # number of classes\n",
    "\n",
    "use_large_models = False"
   ]
  },
  {
   "cell_type": "markdown",
   "metadata": {
    "id": "-Iok2-rPJBn5"
   },
   "source": [
    "#### 3.1.1 - Generator"
   ]
  },
  {
   "cell_type": "code",
   "execution_count": 24,
   "metadata": {
    "execution": {
     "iopub.execute_input": "2023-01-23T22:45:11.850270Z",
     "iopub.status.busy": "2023-01-23T22:45:11.850010Z",
     "iopub.status.idle": "2023-01-23T22:45:11.859504Z",
     "shell.execute_reply": "2023-01-23T22:45:11.858305Z",
     "shell.execute_reply.started": "2023-01-23T22:45:11.850248Z"
    },
    "id": "2XvcwRIKJ3jL"
   },
   "outputs": [],
   "source": [
    "def make_generator_model(name='generator', large=False):\n",
    "\n",
    "    model = Sequential(name=name)\n",
    "\n",
    "    if large:\n",
    "        \n",
    "        # 1st linear layer\n",
    "        model.add(SpectralNormalization(Dense(4096, input_shape=(N_z + N_c,))))\n",
    "        model.add(LeakyReLU())\n",
    "        \n",
    "        # 2nd linear layer\n",
    "        model.add(SpectralNormalization(Dense(32768)))\n",
    "        model.add(LeakyReLU())\n",
    "\n",
    "        # intermediate representation reshaped into 8x8 images\n",
    "        model.add(Reshape((8, 8, 512)))\n",
    "        \n",
    "        filter_sizes = [512, 256, 128]\n",
    "    \n",
    "    else:\n",
    "        \n",
    "        # 1st linear layer\n",
    "        model.add(SpectralNormalization(Dense(1024, input_shape=(N_z + N_c,))))\n",
    "        model.add(LeakyReLU())\n",
    "        \n",
    "        # 2nd linear layer\n",
    "        model.add(SpectralNormalization(Dense(8192)))\n",
    "        model.add(LeakyReLU())\n",
    "        \n",
    "        # intermediate representation reshaped into 8x8 images\n",
    "        model.add(Reshape((8, 8, 128)))\n",
    "        \n",
    "        filter_sizes = [128, 64, 32]\n",
    "\n",
    "    for filter_size in filter_sizes:\n",
    "\n",
    "        # 1st convolutional layer\n",
    "        model.add(SpectralNormalization(Conv2D(filter_size, (3, 3), strides=(1, 1), padding='same')))\n",
    "        model.add(LeakyReLU())\n",
    "\n",
    "        # 2nd convolutional layer\n",
    "        model.add(SpectralNormalization(Conv2D(filter_size, (3, 3), strides=(2, 2), padding='same')))\n",
    "        model.add(LeakyReLU())\n",
    "        \n",
    "        # upsampling (nearest-neighbor interpolation)\n",
    "        model.add(UpSampling2D(size=(4, 4), interpolation='nearest'))\n",
    "\n",
    "    # last convolutional layer\n",
    "    model.add(SpectralNormalization(Conv2D(1, (3, 3), strides=(1, 1), padding='same')))\n",
    "    model.add(Activation('tanh'))\n",
    "\n",
    "    return model"
   ]
  },
  {
   "cell_type": "code",
   "execution_count": 25,
   "metadata": {
    "execution": {
     "iopub.execute_input": "2023-01-23T22:45:11.861162Z",
     "iopub.status.busy": "2023-01-23T22:45:11.860798Z",
     "iopub.status.idle": "2023-01-23T22:45:12.130085Z",
     "shell.execute_reply": "2023-01-23T22:45:12.129209Z",
     "shell.execute_reply.started": "2023-01-23T22:45:11.861129Z"
    },
    "id": "bMUrunH2KCZL"
   },
   "outputs": [
    {
     "name": "stdout",
     "output_type": "stream",
     "text": [
      "Model: \"pt_generator\"\n",
      "_________________________________________________________________\n",
      " Layer (type)                Output Shape              Param #   \n",
      "=================================================================\n",
      " spectral_normalization (Spe  (None, 1024)             168960    \n",
      " ctralNormalization)                                             \n",
      "                                                                 \n",
      " leaky_re_lu (LeakyReLU)     (None, 1024)              0         \n",
      "                                                                 \n",
      " spectral_normalization_1 (S  (None, 8192)             8404992   \n",
      " pectralNormalization)                                           \n",
      "                                                                 \n",
      " leaky_re_lu_1 (LeakyReLU)   (None, 8192)              0         \n",
      "                                                                 \n",
      " reshape (Reshape)           (None, 8, 8, 128)         0         \n",
      "                                                                 \n",
      " spectral_normalization_2 (S  (None, 8, 8, 128)        147712    \n",
      " pectralNormalization)                                           \n",
      "                                                                 \n",
      " leaky_re_lu_2 (LeakyReLU)   (None, 8, 8, 128)         0         \n",
      "                                                                 \n",
      " spectral_normalization_3 (S  (None, 4, 4, 128)        147712    \n",
      " pectralNormalization)                                           \n",
      "                                                                 \n",
      " leaky_re_lu_3 (LeakyReLU)   (None, 4, 4, 128)         0         \n",
      "                                                                 \n",
      " up_sampling2d (UpSampling2D  (None, 16, 16, 128)      0         \n",
      " )                                                               \n",
      "                                                                 \n",
      " spectral_normalization_4 (S  (None, 16, 16, 64)       73856     \n",
      " pectralNormalization)                                           \n",
      "                                                                 \n",
      " leaky_re_lu_4 (LeakyReLU)   (None, 16, 16, 64)        0         \n",
      "                                                                 \n",
      " spectral_normalization_5 (S  (None, 8, 8, 64)         36992     \n",
      " pectralNormalization)                                           \n",
      "                                                                 \n",
      " leaky_re_lu_5 (LeakyReLU)   (None, 8, 8, 64)          0         \n",
      "                                                                 \n",
      " up_sampling2d_1 (UpSampling  (None, 32, 32, 64)       0         \n",
      " 2D)                                                             \n",
      "                                                                 \n",
      " spectral_normalization_6 (S  (None, 32, 32, 32)       18496     \n",
      " pectralNormalization)                                           \n",
      "                                                                 \n",
      " leaky_re_lu_6 (LeakyReLU)   (None, 32, 32, 32)        0         \n",
      "                                                                 \n",
      " spectral_normalization_7 (S  (None, 16, 16, 32)       9280      \n",
      " pectralNormalization)                                           \n",
      "                                                                 \n",
      " leaky_re_lu_7 (LeakyReLU)   (None, 16, 16, 32)        0         \n",
      "                                                                 \n",
      " up_sampling2d_2 (UpSampling  (None, 64, 64, 32)       0         \n",
      " 2D)                                                             \n",
      "                                                                 \n",
      " spectral_normalization_8 (S  (None, 64, 64, 1)        290       \n",
      " pectralNormalization)                                           \n",
      "                                                                 \n",
      " activation (Activation)     (None, 64, 64, 1)         0         \n",
      "                                                                 \n",
      "=================================================================\n",
      "Total params: 9,008,290\n",
      "Trainable params: 8,998,625\n",
      "Non-trainable params: 9,665\n",
      "_________________________________________________________________\n"
     ]
    }
   ],
   "source": [
    "pt_generator = make_generator_model(name='pt_generator', large=use_large_models)\n",
    "\n",
    "pt_generator.build(input_shape=(None, N_z + N_c,))\n",
    "pt_generator.summary()"
   ]
  },
  {
   "cell_type": "code",
   "execution_count": 26,
   "metadata": {
    "execution": {
     "iopub.execute_input": "2023-01-23T22:45:12.132306Z",
     "iopub.status.busy": "2023-01-23T22:45:12.131528Z",
     "iopub.status.idle": "2023-01-23T22:45:12.175547Z",
     "shell.execute_reply": "2023-01-23T22:45:12.174497Z",
     "shell.execute_reply.started": "2023-01-23T22:45:12.132264Z"
    },
    "id": "hv_nZJcBxy0Y"
   },
   "outputs": [
    {
     "data": {
      "image/png": "[encoded data removed]",
      "text/plain": [
       "<PIL.Image.Image image mode=RGBA size=1641x342>"
      ]
     },
     "execution_count": 26,
     "metadata": {},
     "output_type": "execute_result"
    }
   ],
   "source": [
    "visualkeras.layered_view(pt_generator)"
   ]
  },
  {
   "cell_type": "markdown",
   "metadata": {
    "id": "upLnJxCIfKH9"
   },
   "source": [
    "#### 3.1.2 - Discriminator"
   ]
  },
  {
   "cell_type": "code",
   "execution_count": 27,
   "metadata": {
    "execution": {
     "iopub.execute_input": "2023-01-23T22:45:12.177262Z",
     "iopub.status.busy": "2023-01-23T22:45:12.176906Z",
     "iopub.status.idle": "2023-01-23T22:45:12.186402Z",
     "shell.execute_reply": "2023-01-23T22:45:12.184715Z",
     "shell.execute_reply.started": "2023-01-23T22:45:12.177227Z"
    },
    "id": "yFp8XUvgfaij"
   },
   "outputs": [],
   "source": [
    "def make_discriminator_model(name='discriminator', large=False):\n",
    "\n",
    "    model = Sequential(name=name)\n",
    "\n",
    "    model.add(Reshape(input_shape=input_shape, target_shape=(input_shape[0], input_shape[1], 1)))\n",
    "    model.add(BatchNormalization()) # !\n",
    "    \n",
    "    if large:\n",
    "\n",
    "        filter_sizes = [128, 256, 512]\n",
    "        \n",
    "    else:\n",
    "        \n",
    "        filter_sizes = [32, 64, 128]\n",
    "\n",
    "    for filter_size in filter_sizes:\n",
    "\n",
    "        # 1st convolutional layer\n",
    "        model.add(SpectralNormalization(Conv2D(filter_size, (3, 3), strides=(1, 1), padding='same')))\n",
    "        model.add(LeakyReLU())\n",
    "\n",
    "        # 2nd convolutional layer\n",
    "        model.add(SpectralNormalization(Conv2D(filter_size, (3, 3), strides=(2, 2), padding='same')))\n",
    "        model.add(LeakyReLU())\n",
    "\n",
    "    # intermediate representation flattened\n",
    "    model.add(Flatten())\n",
    "    \n",
    "    if large:\n",
    "\n",
    "        # 1st linear layer\n",
    "        model.add(SpectralNormalization(Dense(4096)))\n",
    "        model.add(LeakyReLU())\n",
    "        \n",
    "    else:\n",
    "        \n",
    "        # 1st linear layer\n",
    "        model.add(SpectralNormalization(Dense(1024)))\n",
    "        model.add(LeakyReLU())\n",
    "\n",
    "    # 2nd linear layer\n",
    "    model.add(SpectralNormalization(Dense(1)))\n",
    "\n",
    "    return model"
   ]
  },
  {
   "cell_type": "code",
   "execution_count": 28,
   "metadata": {
    "execution": {
     "iopub.execute_input": "2023-01-23T22:45:12.188984Z",
     "iopub.status.busy": "2023-01-23T22:45:12.188137Z",
     "iopub.status.idle": "2023-01-23T22:45:12.350004Z",
     "shell.execute_reply": "2023-01-23T22:45:12.347191Z",
     "shell.execute_reply.started": "2023-01-23T22:45:12.188943Z"
    },
    "id": "lGI34t49gJXV"
   },
   "outputs": [
    {
     "name": "stdout",
     "output_type": "stream",
     "text": [
      "Model: \"pt_discriminator\"\n",
      "_________________________________________________________________\n",
      " Layer (type)                Output Shape              Param #   \n",
      "=================================================================\n",
      " reshape_1 (Reshape)         (None, 64, 64, 1)         0         \n",
      "                                                                 \n",
      " batch_normalization (BatchN  (None, 64, 64, 1)        4         \n",
      " ormalization)                                                   \n",
      "                                                                 \n",
      " spectral_normalization_9 (S  (None, 64, 64, 32)       352       \n",
      " pectralNormalization)                                           \n",
      "                                                                 \n",
      " leaky_re_lu_8 (LeakyReLU)   (None, 64, 64, 32)        0         \n",
      "                                                                 \n",
      " spectral_normalization_10 (  (None, 32, 32, 32)       9280      \n",
      " SpectralNormalization)                                          \n",
      "                                                                 \n",
      " leaky_re_lu_9 (LeakyReLU)   (None, 32, 32, 32)        0         \n",
      "                                                                 \n",
      " spectral_normalization_11 (  (None, 32, 32, 64)       18560     \n",
      " SpectralNormalization)                                          \n",
      "                                                                 \n",
      " leaky_re_lu_10 (LeakyReLU)  (None, 32, 32, 64)        0         \n",
      "                                                                 \n",
      " spectral_normalization_12 (  (None, 16, 16, 64)       36992     \n",
      " SpectralNormalization)                                          \n",
      "                                                                 \n",
      " leaky_re_lu_11 (LeakyReLU)  (None, 16, 16, 64)        0         \n",
      "                                                                 \n",
      " spectral_normalization_13 (  (None, 16, 16, 128)      73984     \n",
      " SpectralNormalization)                                          \n",
      "                                                                 \n",
      " leaky_re_lu_12 (LeakyReLU)  (None, 16, 16, 128)       0         \n",
      "                                                                 \n",
      " spectral_normalization_14 (  (None, 8, 8, 128)        147712    \n",
      " SpectralNormalization)                                          \n",
      "                                                                 \n",
      " leaky_re_lu_13 (LeakyReLU)  (None, 8, 8, 128)         0         \n",
      "                                                                 \n",
      " flatten (Flatten)           (None, 8192)              0         \n",
      "                                                                 \n",
      " spectral_normalization_15 (  (None, 1024)             8390656   \n",
      " SpectralNormalization)                                          \n",
      "                                                                 \n",
      " leaky_re_lu_14 (LeakyReLU)  (None, 1024)              0         \n",
      "                                                                 \n",
      " spectral_normalization_16 (  (None, 1)                1026      \n",
      " SpectralNormalization)                                          \n",
      "                                                                 \n",
      "=================================================================\n",
      "Total params: 8,678,566\n",
      "Trainable params: 8,677,091\n",
      "Non-trainable params: 1,475\n",
      "_________________________________________________________________\n"
     ]
    }
   ],
   "source": [
    "pt_discriminator = make_discriminator_model(name='pt_discriminator', large=use_large_models)\n",
    "    \n",
    "pt_discriminator.build(input_shape=(None, input_shape[0], input_shape[0],))\n",
    "pt_discriminator.summary()"
   ]
  },
  {
   "cell_type": "code",
   "execution_count": 29,
   "metadata": {
    "execution": {
     "iopub.execute_input": "2023-01-23T22:45:12.355487Z",
     "iopub.status.busy": "2023-01-23T22:45:12.355193Z",
     "iopub.status.idle": "2023-01-23T22:45:12.387421Z",
     "shell.execute_reply": "2023-01-23T22:45:12.386618Z",
     "shell.execute_reply.started": "2023-01-23T22:45:12.355465Z"
    },
    "id": "fVF3qf7exuri"
   },
   "outputs": [
    {
     "data": {
      "image/png": "[encoded data removed]",
      "text/plain": [
       "<PIL.Image.Image image mode=RGBA size=1141x342>"
      ]
     },
     "execution_count": 29,
     "metadata": {},
     "output_type": "execute_result"
    }
   ],
   "source": [
    "visualkeras.layered_view(pt_discriminator)"
   ]
  },
  {
   "cell_type": "markdown",
   "metadata": {},
   "source": [
    "### 3.2 - Define the training loop"
   ]
  },
  {
   "cell_type": "markdown",
   "metadata": {},
   "source": [
    "#### 3.2.1 - Build subclassed model"
   ]
  },
  {
   "cell_type": "code",
   "execution_count": 30,
   "metadata": {
    "execution": {
     "iopub.execute_input": "2023-01-23T22:45:12.388768Z",
     "iopub.status.busy": "2023-01-23T22:45:12.388498Z",
     "iopub.status.idle": "2023-01-23T22:45:12.401503Z",
     "shell.execute_reply": "2023-01-23T22:45:12.400445Z",
     "shell.execute_reply.started": "2023-01-23T22:45:12.388751Z"
    },
    "id": "TZ31_1TNcYLE"
   },
   "outputs": [],
   "source": [
    "class GAN(Model):\n",
    "    \n",
    "    def __init__(self, generator, discriminator, fine_tuning, *args, **kwargs):\n",
    "        \n",
    "        # pass through args and kwargs to base class\n",
    "        super().__init__(*args, **kwargs)\n",
    "        \n",
    "        # create attributes for generator and discriminator\n",
    "        self.generator     = generator\n",
    "        self.discriminator = discriminator\n",
    "        \n",
    "        # create attribute for training type\n",
    "        self.fine_tuning = fine_tuning\n",
    "        \n",
    "    def compile(self, g_opt, d_opt, g_loss, d_loss, *args, **kwargs):\n",
    "        \n",
    "        # compile with base class\n",
    "        super().compile(*args, **kwargs)\n",
    "        \n",
    "        # create attributes for losses\n",
    "        self.g_loss = g_loss\n",
    "        self.d_loss = d_loss \n",
    "        \n",
    "        # create attributes for optimizers\n",
    "        self.g_opt = g_opt\n",
    "        self.d_opt = d_opt\n",
    "\n",
    "    def train_step(self, batch, *args, **kwargs):\n",
    "        \n",
    "        # noise\n",
    "        batch_size = tf.shape(batch[0])[0]\n",
    "        noise      = tf.random.normal([batch_size, N_z])\n",
    "        \n",
    "        # condition vector\n",
    "        if self.fine_tuning:\n",
    "            code = tf.one_hot(batch[1], depth=N_c)\n",
    "        else:\n",
    "            code = tf.zeros([batch_size, N_c])\n",
    "\n",
    "        # generator input\n",
    "        g_input = tf.concat(values=[noise, code], axis=1)\n",
    "        \n",
    "        # get the data \n",
    "        real_images = batch[0]\n",
    "        fake_images = self.generator(g_input, training=False)\n",
    "        \n",
    "        # train the discriminator\n",
    "        with tf.GradientTape() as d_tape:\n",
    "            \n",
    "            # get the predicted labels\n",
    "            yhat_real = self.discriminator(real_images, training=True) \n",
    "            yhat_fake = self.discriminator(fake_images, training=True)\n",
    "            yhat      = tf.concat([yhat_real, yhat_fake], axis=0)\n",
    "            \n",
    "            # create the true labels\n",
    "            y = tf.concat([tf.zeros_like(yhat_real), tf.ones_like(yhat_fake)], axis=0)\n",
    "            \n",
    "            # add noise to the true labels\n",
    "            noise_real = 0.15*tf.random.uniform(tf.shape(yhat_real))\n",
    "            noise_fake = -0.15*tf.random.uniform(tf.shape(yhat_fake))\n",
    "            y         += tf.concat([noise_real, noise_fake], axis=0)\n",
    "            \n",
    "            # calculate loss\n",
    "            total_d_loss = self.d_loss(y, yhat)\n",
    "            \n",
    "        # apply backpropagation\n",
    "        d_grad = d_tape.gradient(total_d_loss, self.discriminator.trainable_variables) \n",
    "        self.d_opt.apply_gradients(zip(d_grad, self.discriminator.trainable_variables))\n",
    "        \n",
    "        # train the generator \n",
    "        with tf.GradientTape() as g_tape:\n",
    "            \n",
    "            # generate new images\n",
    "            gen_images = self.generator(g_input, training=True)\n",
    "                                        \n",
    "            # get the predicted labels\n",
    "            predicted_labels = self.discriminator(gen_images, training=False)\n",
    "                                        \n",
    "            # calculate loss\n",
    "            total_g_loss = self.g_loss(tf.zeros_like(predicted_labels), predicted_labels) \n",
    "            \n",
    "        # apply backpropagation\n",
    "        g_grad = g_tape.gradient(total_g_loss, self.generator.trainable_variables)\n",
    "        self.g_opt.apply_gradients(zip(g_grad, self.generator.trainable_variables))\n",
    "        \n",
    "        return {\"generator_loss\":total_g_loss, \"discriminator_loss\":total_d_loss}"
   ]
  },
  {
   "cell_type": "markdown",
   "metadata": {
    "id": "ki8qVV1XSZjE"
   },
   "source": [
    "### 3.3 - Pre-training"
   ]
  },
  {
   "cell_type": "markdown",
   "metadata": {
    "id": "N2K61H2hg1KA"
   },
   "source": [
    "#### 3.3.1 - Define losses and optimizers"
   ]
  },
  {
   "cell_type": "code",
   "execution_count": 31,
   "metadata": {
    "execution": {
     "iopub.execute_input": "2023-01-23T22:45:12.403067Z",
     "iopub.status.busy": "2023-01-23T22:45:12.402815Z",
     "iopub.status.idle": "2023-01-23T22:45:12.408042Z",
     "shell.execute_reply": "2023-01-23T22:45:12.406994Z",
     "shell.execute_reply.started": "2023-01-23T22:45:12.403041Z"
    },
    "id": "m5FrP20Nhtws"
   },
   "outputs": [],
   "source": [
    "g_loss = BinaryCrossentropy(from_logits=True)\n",
    "g_opt  = Adam(learning_rate=2e-6, beta_1=0.5, beta_2=0.99)"
   ]
  },
  {
   "cell_type": "code",
   "execution_count": 32,
   "metadata": {
    "execution": {
     "iopub.execute_input": "2023-01-23T22:45:12.409281Z",
     "iopub.status.busy": "2023-01-23T22:45:12.409038Z",
     "iopub.status.idle": "2023-01-23T22:45:12.413612Z",
     "shell.execute_reply": "2023-01-23T22:45:12.412784Z",
     "shell.execute_reply.started": "2023-01-23T22:45:12.409260Z"
    },
    "id": "80jXMt70hZRd"
   },
   "outputs": [],
   "source": [
    "d_loss = BinaryCrossentropy(from_logits=True)\n",
    "d_opt  = Adam(learning_rate=2e-5, beta_1=0.5, beta_2=0.99)"
   ]
  },
  {
   "cell_type": "markdown",
   "metadata": {
    "id": "YAkQh6CQjF29"
   },
   "source": [
    "#### 3.3.2 - Pre-train the GAN"
   ]
  },
  {
   "cell_type": "code",
   "execution_count": 33,
   "metadata": {
    "execution": {
     "iopub.execute_input": "2023-01-23T22:45:12.415351Z",
     "iopub.status.busy": "2023-01-23T22:45:12.415107Z",
     "iopub.status.idle": "2023-01-23T22:45:12.430785Z",
     "shell.execute_reply": "2023-01-23T22:45:12.430121Z",
     "shell.execute_reply.started": "2023-01-23T22:45:12.415327Z"
    }
   },
   "outputs": [],
   "source": [
    "# create instance of subclassed model\n",
    "gan = GAN(pt_generator, pt_discriminator, fine_tuning=False)\n",
    "\n",
    "# compile the model\n",
    "gan.compile(g_opt, d_opt, g_loss, d_loss)"
   ]
  },
  {
   "cell_type": "code",
   "execution_count": 34,
   "metadata": {
    "execution": {
     "iopub.execute_input": "2023-01-23T22:45:12.431975Z",
     "iopub.status.busy": "2023-01-23T22:45:12.431734Z",
     "iopub.status.idle": "2023-01-23T22:45:12.435400Z",
     "shell.execute_reply": "2023-01-23T22:45:12.434668Z",
     "shell.execute_reply.started": "2023-01-23T22:45:12.431954Z"
    },
    "id": "tZX4_jrUezS6"
   },
   "outputs": [],
   "source": [
    "# uncomment to remove cache files\n",
    "#remove_file_starting_with('train_cache')"
   ]
  },
  {
   "cell_type": "code",
   "execution_count": 35,
   "metadata": {
    "execution": {
     "iopub.execute_input": "2023-01-23T22:45:12.437054Z",
     "iopub.status.busy": "2023-01-23T22:45:12.436771Z",
     "iopub.status.idle": "2023-01-23T23:03:12.570070Z",
     "shell.execute_reply": "2023-01-23T23:03:12.569096Z",
     "shell.execute_reply.started": "2023-01-23T22:45:12.437030Z"
    },
    "id": "eg7d25OCjS1L"
   },
   "outputs": [
    {
     "name": "stdout",
     "output_type": "stream",
     "text": [
      "Epoch 1/50\n",
      "2652/2652 [==============================] - 73s 24ms/step - generator_loss: 0.1809 - discriminator_loss: 0.2884\n",
      "Epoch 2/50\n",
      "2652/2652 [==============================] - 68s 26ms/step - generator_loss: 0.1262 - discriminator_loss: 0.2771\n",
      "Epoch 3/50\n",
      "2652/2652 [==============================] - 69s 26ms/step - generator_loss: 0.0974 - discriminator_loss: 0.2720\n",
      "Epoch 4/50\n",
      "2652/2652 [==============================] - 65s 24ms/step - generator_loss: 0.0973 - discriminator_loss: 0.2678\n",
      "Epoch 5/50\n",
      "2652/2652 [==============================] - 68s 26ms/step - generator_loss: 0.0811 - discriminator_loss: 0.2673\n",
      "Epoch 6/50\n",
      "2652/2652 [==============================] - 69s 26ms/step - generator_loss: 0.0625 - discriminator_loss: 0.2670\n",
      "Epoch 7/50\n",
      "2652/2652 [==============================] - 65s 24ms/step - generator_loss: 0.0704 - discriminator_loss: 0.2671\n",
      "Epoch 8/50\n",
      "2652/2652 [==============================] - 67s 25ms/step - generator_loss: 0.1013 - discriminator_loss: 0.2672\n",
      "Epoch 9/50\n",
      "2652/2652 [==============================] - 69s 26ms/step - generator_loss: 0.1799 - discriminator_loss: 0.2678\n",
      "Epoch 10/50\n",
      "2652/2652 [==============================] - 65s 25ms/step - generator_loss: 0.0869 - discriminator_loss: 0.2674\n",
      "Epoch 11/50\n",
      "2652/2652 [==============================] - 68s 26ms/step - generator_loss: 0.0946 - discriminator_loss: 0.2674\n",
      "Epoch 12/50\n",
      "2652/2652 [==============================] - 68s 26ms/step - generator_loss: 0.1441 - discriminator_loss: 0.2685\n",
      "Epoch 13/50\n",
      "2652/2652 [==============================] - 65s 25ms/step - generator_loss: 0.0931 - discriminator_loss: 0.2671\n",
      "Epoch 14/50\n",
      "2652/2652 [==============================] - 68s 26ms/step - generator_loss: 0.0865 - discriminator_loss: 0.2669\n",
      "Epoch 15/50\n",
      "2652/2652 [==============================] - 68s 26ms/step - generator_loss: 0.0859 - discriminator_loss: 0.2669\n",
      "Epoch 16/50\n",
      "2652/2652 [==============================] - 64s 24ms/step - generator_loss: 0.0868 - discriminator_loss: 0.2675\n"
     ]
    }
   ],
   "source": [
    "num_epochs = 50\n",
    "\n",
    "g_early_stopping = tf.keras.callbacks.EarlyStopping(monitor='generator_loss', patience=10)\n",
    "d_early_stopping = tf.keras.callbacks.EarlyStopping(monitor='discriminator_loss', patience=10)\n",
    "\n",
    "hist = gan.fit(\n",
    "            train_dataset,\n",
    "            epochs=num_epochs,\n",
    "            steps_per_epoch=train_steps,\n",
    "            callbacks=[g_early_stopping, d_early_stopping]\n",
    "            )"
   ]
  },
  {
   "cell_type": "code",
   "execution_count": 36,
   "metadata": {
    "execution": {
     "iopub.execute_input": "2023-01-23T23:03:12.571372Z",
     "iopub.status.busy": "2023-01-23T23:03:12.571115Z",
     "iopub.status.idle": "2023-01-23T23:03:12.708182Z",
     "shell.execute_reply": "2023-01-23T23:03:12.707444Z",
     "shell.execute_reply.started": "2023-01-23T23:03:12.571353Z"
    }
   },
   "outputs": [
    {
     "data": {
      "image/png": "[encoded data removed]",
      "text/plain": [
       "<Figure size 576x360 with 1 Axes>"
      ]
     },
     "metadata": {
      "needs_background": "light"
     },
     "output_type": "display_data"
    }
   ],
   "source": [
    "_, ax = plt.subplots(figsize=(8, 5))\n",
    "\n",
    "ax.plot(hist.history['generator_loss'], label='generator', color='blue', linewidth=1.5)\n",
    "ax.plot(hist.history['discriminator_loss'], label='discriminator', color='firebrick', linewidth=1.5)\n",
    "ax.set_xticks(range(len(hist.history['generator_loss'])))\n",
    "ax.set_xticklabels(range(1, len(hist.history['generator_loss'])+1))\n",
    "ax.set_xlabel('epoch')\n",
    "ax.set_ylabel('loss')\n",
    "ax.grid(alpha=0.5)\n",
    "ax.legend(edgecolor='black', facecolor='linen', fontsize=12, loc ='best')\n",
    "\n",
    "plt.tight_layout()\n",
    "plt.show()"
   ]
  },
  {
   "cell_type": "markdown",
   "metadata": {},
   "source": [
    "Uncomment the cell below to save the weights of the trained models."
   ]
  },
  {
   "cell_type": "code",
   "execution_count": 37,
   "metadata": {
    "execution": {
     "iopub.execute_input": "2023-01-23T23:03:12.709554Z",
     "iopub.status.busy": "2023-01-23T23:03:12.709133Z",
     "iopub.status.idle": "2023-01-23T23:03:13.909707Z",
     "shell.execute_reply": "2023-01-23T23:03:13.909092Z",
     "shell.execute_reply.started": "2023-01-23T23:03:12.709533Z"
    },
    "id": "MZPp_BCt0kSN"
   },
   "outputs": [],
   "source": [
    "pt_generator.save_weights('pt_generator.h5')\n",
    "pt_discriminator.save_weights('pt_discriminator.h5')"
   ]
  },
  {
   "cell_type": "markdown",
   "metadata": {},
   "source": [
    "Uncomment the cell below to load pretrained models."
   ]
  },
  {
   "cell_type": "code",
   "execution_count": 38,
   "metadata": {
    "execution": {
     "iopub.execute_input": "2023-01-23T23:03:13.911003Z",
     "iopub.status.busy": "2023-01-23T23:03:13.910556Z",
     "iopub.status.idle": "2023-01-23T23:03:13.913891Z",
     "shell.execute_reply": "2023-01-23T23:03:13.913261Z",
     "shell.execute_reply.started": "2023-01-23T23:03:13.910983Z"
    }
   },
   "outputs": [],
   "source": [
    "#pt_generator     = tf.keras.models.load_model('pt_generator.h5')\n",
    "#pt_discriminator = tf.keras.models.load_model('pt_discriminator.h5')"
   ]
  },
  {
   "cell_type": "markdown",
   "metadata": {
    "id": "QaZzdBSjXv-e"
   },
   "source": [
    "### 3.4 - Fine-tuning"
   ]
  },
  {
   "cell_type": "markdown",
   "metadata": {},
   "source": [
    "#### 3.4.1 - Create the final discriminator model"
   ]
  },
  {
   "cell_type": "code",
   "execution_count": 39,
   "metadata": {
    "execution": {
     "iopub.execute_input": "2023-01-23T23:03:13.914897Z",
     "iopub.status.busy": "2023-01-23T23:03:13.914703Z",
     "iopub.status.idle": "2023-01-23T23:03:14.004832Z",
     "shell.execute_reply": "2023-01-23T23:03:14.004217Z",
     "shell.execute_reply.started": "2023-01-23T23:03:13.914873Z"
    },
    "id": "FIalscZwXr4z"
   },
   "outputs": [
    {
     "name": "stdout",
     "output_type": "stream",
     "text": [
      "Model: \"ft_discriminator\"\n",
      "_________________________________________________________________\n",
      " Layer (type)                Output Shape              Param #   \n",
      "=================================================================\n",
      " reshape_1 (Reshape)         (None, 64, 64, 1)         0         \n",
      "                                                                 \n",
      " batch_normalization (BatchN  (None, 64, 64, 1)        4         \n",
      " ormalization)                                                   \n",
      "                                                                 \n",
      " spectral_normalization_9 (S  (None, 64, 64, 32)       352       \n",
      " pectralNormalization)                                           \n",
      "                                                                 \n",
      " leaky_re_lu_8 (LeakyReLU)   (None, 64, 64, 32)        0         \n",
      "                                                                 \n",
      " spectral_normalization_10 (  (None, 32, 32, 32)       9280      \n",
      " SpectralNormalization)                                          \n",
      "                                                                 \n",
      " leaky_re_lu_9 (LeakyReLU)   (None, 32, 32, 32)        0         \n",
      "                                                                 \n",
      " spectral_normalization_11 (  (None, 32, 32, 64)       18560     \n",
      " SpectralNormalization)                                          \n",
      "                                                                 \n",
      " leaky_re_lu_10 (LeakyReLU)  (None, 32, 32, 64)        0         \n",
      "                                                                 \n",
      " spectral_normalization_12 (  (None, 16, 16, 64)       36992     \n",
      " SpectralNormalization)                                          \n",
      "                                                                 \n",
      " leaky_re_lu_11 (LeakyReLU)  (None, 16, 16, 64)        0         \n",
      "                                                                 \n",
      " spectral_normalization_13 (  (None, 16, 16, 128)      73984     \n",
      " SpectralNormalization)                                          \n",
      "                                                                 \n",
      " leaky_re_lu_12 (LeakyReLU)  (None, 16, 16, 128)       0         \n",
      "                                                                 \n",
      " spectral_normalization_14 (  (None, 8, 8, 128)        147712    \n",
      " SpectralNormalization)                                          \n",
      "                                                                 \n",
      " leaky_re_lu_13 (LeakyReLU)  (None, 8, 8, 128)         0         \n",
      "                                                                 \n",
      " flatten (Flatten)           (None, 8192)              0         \n",
      "                                                                 \n",
      " spectral_normalization_15 (  (None, 1024)             8390656   \n",
      " SpectralNormalization)                                          \n",
      "                                                                 \n",
      " leaky_re_lu_14 (LeakyReLU)  (None, 1024)              0         \n",
      "                                                                 \n",
      " spectral_normalization_17 (  (None, 36)               36936     \n",
      " SpectralNormalization)                                          \n",
      "                                                                 \n",
      " activation_1 (Activation)   (None, 36)                0         \n",
      "                                                                 \n",
      "=================================================================\n",
      "Total params: 8,714,476\n",
      "Trainable params: 8,712,966\n",
      "Non-trainable params: 1,510\n",
      "_________________________________________________________________\n"
     ]
    }
   ],
   "source": [
    "ft_discriminator = Sequential(name='ft_discriminator')\n",
    "\n",
    "for i in range(len(pt_discriminator.layers) - 1):\n",
    "    ft_discriminator.add(pt_discriminator.layers[i])\n",
    "\n",
    "# unfreeze all layers\n",
    "for layer in ft_discriminator.layers:\n",
    "    layer.trainable = True\n",
    "\n",
    "ft_discriminator.add(SpectralNormalization(Dense(N_c + 1)))\n",
    "ft_discriminator.add(Activation('softmax'))\n",
    "\n",
    "ft_discriminator.build(input_shape=(None, input_shape[0], input_shape[0],))\n",
    "ft_discriminator.summary()"
   ]
  },
  {
   "cell_type": "code",
   "execution_count": 40,
   "metadata": {
    "execution": {
     "iopub.execute_input": "2023-01-23T23:03:14.005989Z",
     "iopub.status.busy": "2023-01-23T23:03:14.005756Z",
     "iopub.status.idle": "2023-01-23T23:03:14.034666Z",
     "shell.execute_reply": "2023-01-23T23:03:14.034031Z",
     "shell.execute_reply.started": "2023-01-23T23:03:14.005969Z"
    }
   },
   "outputs": [
    {
     "data": {
      "image/png": "[encoded data removed]",
      "text/plain": [
       "<PIL.Image.Image image mode=RGBA size=1171x342>"
      ]
     },
     "execution_count": 40,
     "metadata": {},
     "output_type": "execute_result"
    }
   ],
   "source": [
    "visualkeras.layered_view(ft_discriminator)"
   ]
  },
  {
   "cell_type": "markdown",
   "metadata": {
    "id": "E7ZN_CEUaMFa"
   },
   "source": [
    "#### 3.4.2 - Define losses and optimizers"
   ]
  },
  {
   "cell_type": "code",
   "execution_count": 41,
   "metadata": {
    "execution": {
     "iopub.execute_input": "2023-01-23T23:03:14.039877Z",
     "iopub.status.busy": "2023-01-23T23:03:14.039366Z",
     "iopub.status.idle": "2023-01-23T23:03:14.043615Z",
     "shell.execute_reply": "2023-01-23T23:03:14.042899Z",
     "shell.execute_reply.started": "2023-01-23T23:03:14.039854Z"
    },
    "id": "nVMQUZ4maUpi"
   },
   "outputs": [],
   "source": [
    "g_loss = BinaryCrossentropy(from_logits=True)\n",
    "g_opt  = Adam(learning_rate=2e-6, beta_1=0.5, beta_2=0.99)"
   ]
  },
  {
   "cell_type": "code",
   "execution_count": 42,
   "metadata": {
    "execution": {
     "iopub.execute_input": "2023-01-23T23:03:14.046837Z",
     "iopub.status.busy": "2023-01-23T23:03:14.046607Z",
     "iopub.status.idle": "2023-01-23T23:03:14.050887Z",
     "shell.execute_reply": "2023-01-23T23:03:14.050239Z",
     "shell.execute_reply.started": "2023-01-23T23:03:14.046809Z"
    },
    "id": "p48bxT2yaUpf"
   },
   "outputs": [],
   "source": [
    "d_loss = CategoricalCrossentropy(from_logits=False)\n",
    "d_opt  = Adam(learning_rate=2e-5, beta_1=0.5, beta_2=0.99)"
   ]
  },
  {
   "cell_type": "markdown",
   "metadata": {
    "id": "0-ejnJeOaUpk"
   },
   "source": [
    "#### 3.4.3 - Fine-tune the GAN"
   ]
  },
  {
   "cell_type": "code",
   "execution_count": 43,
   "metadata": {
    "execution": {
     "iopub.execute_input": "2023-01-23T23:03:14.051861Z",
     "iopub.status.busy": "2023-01-23T23:03:14.051616Z",
     "iopub.status.idle": "2023-01-23T23:03:14.063663Z",
     "shell.execute_reply": "2023-01-23T23:03:14.062903Z",
     "shell.execute_reply.started": "2023-01-23T23:03:14.051840Z"
    }
   },
   "outputs": [],
   "source": [
    "# create instance of subclassed model\n",
    "gan = GAN(pt_generator, ft_discriminator, fine_tuning=True)\n",
    "\n",
    "# compile the model\n",
    "gan.compile(g_opt, d_opt, g_loss, d_loss)"
   ]
  },
  {
   "cell_type": "code",
   "execution_count": 44,
   "metadata": {
    "execution": {
     "iopub.execute_input": "2023-01-23T23:03:14.064963Z",
     "iopub.status.busy": "2023-01-23T23:03:14.064513Z",
     "iopub.status.idle": "2023-01-23T23:03:14.067662Z",
     "shell.execute_reply": "2023-01-23T23:03:14.067123Z",
     "shell.execute_reply.started": "2023-01-23T23:03:14.064941Z"
    },
    "id": "t9coR2ScaUpl"
   },
   "outputs": [],
   "source": [
    "# uncomment to remove cache files\n",
    "#remove_file_starting_with('train_cache')"
   ]
  },
  {
   "cell_type": "code",
   "execution_count": 45,
   "metadata": {
    "execution": {
     "iopub.execute_input": "2023-01-23T23:03:14.068534Z",
     "iopub.status.busy": "2023-01-23T23:03:14.068332Z",
     "iopub.status.idle": "2023-01-23T23:15:39.534229Z",
     "shell.execute_reply": "2023-01-23T23:15:39.533540Z",
     "shell.execute_reply.started": "2023-01-23T23:03:14.068506Z"
    },
    "id": "TPTY-R8VaUpl"
   },
   "outputs": [
    {
     "name": "stdout",
     "output_type": "stream",
     "text": [
      "Epoch 1/50\n"
     ]
    },
    {
     "name": "stderr",
     "output_type": "stream",
     "text": [
      "/usr/local/lib/python3.9/dist-packages/tensorflow/python/util/dispatch.py:1082: UserWarning: \"`binary_crossentropy` received `from_logits=True`, but the `output` argument was produced by a sigmoid or softmax activation and thus does not represent logits. Was this intended?\"\n",
      "  return dispatch_target(*args, **kwargs)\n"
     ]
    },
    {
     "name": "stdout",
     "output_type": "stream",
     "text": [
      "2652/2652 [==============================] - 73s 26ms/step - generator_loss: 0.6969 - discriminator_loss: 64.5021\n",
      "Epoch 2/50\n",
      "2652/2652 [==============================] - 68s 26ms/step - generator_loss: 0.6968 - discriminator_loss: 64.5044\n",
      "Epoch 3/50\n",
      "2652/2652 [==============================] - 65s 24ms/step - generator_loss: 0.6968 - discriminator_loss: 64.5023\n",
      "Epoch 4/50\n",
      "2652/2652 [==============================] - 69s 26ms/step - generator_loss: 0.6968 - discriminator_loss: 64.4998\n",
      "Epoch 5/50\n",
      "2652/2652 [==============================] - 68s 26ms/step - generator_loss: 0.6968 - discriminator_loss: 64.5016\n",
      "Epoch 6/50\n",
      "2652/2652 [==============================] - 65s 25ms/step - generator_loss: 0.6968 - discriminator_loss: 64.4990\n",
      "Epoch 7/50\n",
      "2652/2652 [==============================] - 69s 26ms/step - generator_loss: 0.6968 - discriminator_loss: 64.5024\n",
      "Epoch 8/50\n",
      "2652/2652 [==============================] - 68s 26ms/step - generator_loss: 0.6968 - discriminator_loss: 64.4991\n",
      "Epoch 9/50\n",
      "2652/2652 [==============================] - 65s 25ms/step - generator_loss: 0.6968 - discriminator_loss: 64.5004\n",
      "Epoch 10/50\n",
      "2652/2652 [==============================] - 69s 26ms/step - generator_loss: 0.6968 - discriminator_loss: 64.5055\n",
      "Epoch 11/50\n",
      "2652/2652 [==============================] - 67s 25ms/step - generator_loss: 0.6968 - discriminator_loss: 64.5005\n"
     ]
    }
   ],
   "source": [
    "num_epochs = 50\n",
    "\n",
    "g_early_stopping = tf.keras.callbacks.EarlyStopping(monitor='generator_loss', patience=10)\n",
    "d_early_stopping = tf.keras.callbacks.EarlyStopping(monitor='discriminator_loss', patience=10)\n",
    "\n",
    "hist = gan.fit(\n",
    "            train_dataset,\n",
    "            epochs=num_epochs,\n",
    "            steps_per_epoch=train_steps,\n",
    "            callbacks=[g_early_stopping, d_early_stopping]\n",
    "            )"
   ]
  },
  {
   "cell_type": "code",
   "execution_count": 46,
   "metadata": {
    "execution": {
     "iopub.execute_input": "2023-01-23T23:15:39.535548Z",
     "iopub.status.busy": "2023-01-23T23:15:39.535317Z",
     "iopub.status.idle": "2023-01-23T23:15:39.761856Z",
     "shell.execute_reply": "2023-01-23T23:15:39.761256Z",
     "shell.execute_reply.started": "2023-01-23T23:15:39.535528Z"
    }
   },
   "outputs": [
    {
     "data": {
      "image/png": "[encoded data removed]",
      "text/plain": [
       "<Figure size 576x360 with 1 Axes>"
      ]
     },
     "metadata": {
      "needs_background": "light"
     },
     "output_type": "display_data"
    }
   ],
   "source": [
    "_, ax = plt.subplots(figsize=(8, 5))\n",
    "\n",
    "ax.plot(hist.history['generator_loss'], label='generator', color='blue', linewidth=1.5)\n",
    "ax.plot(hist.history['discriminator_loss'], label='discriminator', color='firebrick', linewidth=1.5)\n",
    "ax.set_xticks(range(len(hist.history['generator_loss'])))\n",
    "ax.set_xticklabels(range(1, len(hist.history['generator_loss'])+1))\n",
    "ax.set_xlabel('epoch')\n",
    "ax.set_ylabel('loss')\n",
    "ax.grid(alpha=0.5)\n",
    "ax.legend(edgecolor='black', facecolor='linen', fontsize=12, loc ='best')\n",
    "\n",
    "plt.tight_layout()\n",
    "plt.show()"
   ]
  },
  {
   "cell_type": "markdown",
   "metadata": {},
   "source": [
    "Uncomment the cell below to save the weights of the trained models."
   ]
  },
  {
   "cell_type": "code",
   "execution_count": 47,
   "metadata": {
    "execution": {
     "iopub.execute_input": "2023-01-23T23:15:39.763040Z",
     "iopub.status.busy": "2023-01-23T23:15:39.762836Z",
     "iopub.status.idle": "2023-01-23T23:15:40.755036Z",
     "shell.execute_reply": "2023-01-23T23:15:40.754394Z",
     "shell.execute_reply.started": "2023-01-23T23:15:39.763020Z"
    },
    "id": "GwMvrTJt1J2e"
   },
   "outputs": [],
   "source": [
    "pt_generator.save_weights('ft_generator.h5')\n",
    "ft_discriminator.save_weights('ft_discriminator.h5')"
   ]
  },
  {
   "cell_type": "markdown",
   "metadata": {},
   "source": [
    "Uncomment the cell below to load pretrained models."
   ]
  },
  {
   "cell_type": "code",
   "execution_count": 48,
   "metadata": {
    "execution": {
     "iopub.execute_input": "2023-01-23T23:15:40.756274Z",
     "iopub.status.busy": "2023-01-23T23:15:40.756055Z",
     "iopub.status.idle": "2023-01-23T23:15:40.758922Z",
     "shell.execute_reply": "2023-01-23T23:15:40.758388Z",
     "shell.execute_reply.started": "2023-01-23T23:15:40.756254Z"
    }
   },
   "outputs": [],
   "source": [
    "#pt_generator     = tf.keras.models.load_model('ft_generator.h5')\n",
    "#ft_discriminator = tf.keras.models.load_model('ft_discriminator.h5')"
   ]
  },
  {
   "cell_type": "code",
   "execution_count": 2,
   "metadata": {
    "execution": {
     "iopub.execute_input": "2023-01-23T23:15:40.760007Z",
     "iopub.status.busy": "2023-01-23T23:15:40.759789Z",
     "iopub.status.idle": "2023-01-23T23:15:40.762848Z",
     "shell.execute_reply": "2023-01-23T23:15:40.762275Z",
     "shell.execute_reply.started": "2023-01-23T23:15:40.759988Z"
    },
    "id": "e-Fw7BRPXr9p"
   },
   "outputs": [],
   "source": [
    "model = ft_discriminator"
   ]
  },
  {
   "cell_type": "markdown",
   "metadata": {
    "id": "-khCC16dgu2K"
   },
   "source": [
    "## 4 - Model testing"
   ]
  },
  {
   "attachments": {},
   "cell_type": "markdown",
   "metadata": {
    "id": "GqXQhhpvgu5P"
   },
   "source": [
    "### 4.2 - Validation metrics"
   ]
  },
  {
   "cell_type": "code",
   "execution_count": 50,
   "metadata": {
    "execution": {
     "iopub.execute_input": "2023-01-23T23:15:40.763973Z",
     "iopub.status.busy": "2023-01-23T23:15:40.763621Z",
     "iopub.status.idle": "2023-01-23T23:15:41.757160Z",
     "shell.execute_reply": "2023-01-23T23:15:41.756319Z",
     "shell.execute_reply.started": "2023-01-23T23:15:40.763953Z"
    },
    "id": "d9qSfMZlgu5U"
   },
   "outputs": [
    {
     "name": "stdout",
     "output_type": "stream",
     "text": [
      "344/344 [==============================] - 1s 2ms/step\n"
     ]
    }
   ],
   "source": [
    "# true labels\n",
    "y_true = reference_df_test['class'].tolist()\n",
    "\n",
    "# get predictions for test set\n",
    "test_pred = model.predict(test_dataset, steps=test_steps, verbose=1)[:len(y_true)].squeeze()\n",
    "\n",
    "# predicted labels\n",
    "y_pred = np.argmax(test_pred, axis=1)"
   ]
  },
  {
   "cell_type": "markdown",
   "metadata": {
    "id": "jinyZOKNgu7V"
   },
   "source": [
    "Then, to visualize the performance of the algorithm we plot the confusion matrix:"
   ]
  },
  {
   "cell_type": "code",
   "execution_count": 51,
   "metadata": {
    "execution": {
     "iopub.execute_input": "2023-01-23T23:15:41.758242Z",
     "iopub.status.busy": "2023-01-23T23:15:41.758020Z",
     "iopub.status.idle": "2023-01-23T23:15:43.452260Z",
     "shell.execute_reply": "2023-01-23T23:15:43.451568Z",
     "shell.execute_reply.started": "2023-01-23T23:15:41.758222Z"
    },
    "id": "cHIhE3c3gu7e"
   },
   "outputs": [
    {
     "name": "stderr",
     "output_type": "stream",
     "text": [
      "/notebooks/plot_utils.py:56: RuntimeWarning: invalid value encountered in divide\n",
      "  cm = cm.astype('float') / cm.sum(axis=1)[:, np.newaxis]\n"
     ]
    },
    {
     "data": {
      "image/png": "[encoded data removed]",
      "text/plain": [
       "<Figure size 1512x1296 with 2 Axes>"
      ]
     },
     "metadata": {
      "needs_background": "light"
     },
     "output_type": "display_data"
    }
   ],
   "source": [
    "cm = confusion_matrix(y_pred, y_true)\n",
    "plot_utils.plot_confusion_matrix(cm, labels=commands, normalize=True, saveit=False, model_name='')\n",
    "# plt.savefig(f'figures/cm_{model_name}.png')"
   ]
  },
  {
   "cell_type": "code",
   "execution_count": 52,
   "metadata": {
    "execution": {
     "iopub.execute_input": "2023-01-23T23:15:43.453690Z",
     "iopub.status.busy": "2023-01-23T23:15:43.453112Z",
     "iopub.status.idle": "2023-01-23T23:15:43.493818Z",
     "shell.execute_reply": "2023-01-23T23:15:43.493173Z",
     "shell.execute_reply.started": "2023-01-23T23:15:43.453669Z"
    },
    "id": "NPE9Z35Xgu70"
   },
   "outputs": [
    {
     "name": "stdout",
     "output_type": "stream",
     "text": [
      "Accuracy:      3.25%\n",
      "Error rate:    96.75%\n",
      "Cross-entropy: 3.5835\n",
      "Cohen's Kappa: -0.0020\n"
     ]
    },
    {
     "name": "stderr",
     "output_type": "stream",
     "text": [
      "/usr/local/lib/python3.9/dist-packages/sklearn/metrics/_classification.py:1327: UndefinedMetricWarning: Precision and F-score are ill-defined and being set to 0.0 in labels with no predicted samples. Use `zero_division` parameter to control this behavior.\n",
      "  _warn_prf(average, modifier, msg_start, len(result))\n",
      "/usr/local/lib/python3.9/dist-packages/sklearn/metrics/_classification.py:1327: UndefinedMetricWarning: Recall and F-score are ill-defined and being set to 0.0 in labels with no true samples. Use `zero_division` parameter to control this behavior.\n",
      "  _warn_prf(average, modifier, msg_start, len(result))\n",
      "/usr/local/lib/python3.9/dist-packages/sklearn/metrics/_classification.py:1327: UndefinedMetricWarning: Precision and F-score are ill-defined and being set to 0.0 in labels with no predicted samples. Use `zero_division` parameter to control this behavior.\n",
      "  _warn_prf(average, modifier, msg_start, len(result))\n",
      "/usr/local/lib/python3.9/dist-packages/sklearn/metrics/_classification.py:1327: UndefinedMetricWarning: Recall and F-score are ill-defined and being set to 0.0 in labels with no true samples. Use `zero_division` parameter to control this behavior.\n",
      "  _warn_prf(average, modifier, msg_start, len(result))\n"
     ]
    },
    {
     "data": {
      "text/html": [
       "<div>\n",
       "<style scoped>\n",
       "    .dataframe tbody tr th:only-of-type {\n",
       "        vertical-align: middle;\n",
       "    }\n",
       "\n",
       "    .dataframe tbody tr th {\n",
       "        vertical-align: top;\n",
       "    }\n",
       "\n",
       "    .dataframe thead th {\n",
       "        text-align: right;\n",
       "    }\n",
       "</style>\n",
       "<table border=\"1\" class=\"dataframe\">\n",
       "  <thead>\n",
       "    <tr style=\"text-align: right;\">\n",
       "      <th></th>\n",
       "      <th>precision</th>\n",
       "      <th>recall</th>\n",
       "      <th>f1-score</th>\n",
       "    </tr>\n",
       "  </thead>\n",
       "  <tbody>\n",
       "    <tr>\n",
       "      <th>macro</th>\n",
       "      <td>0.0079</td>\n",
       "      <td>0.0260</td>\n",
       "      <td>0.0062</td>\n",
       "    </tr>\n",
       "    <tr>\n",
       "      <th>micro</th>\n",
       "      <td>0.0325</td>\n",
       "      <td>0.0325</td>\n",
       "      <td>0.0325</td>\n",
       "    </tr>\n",
       "    <tr>\n",
       "      <th>weighted</th>\n",
       "      <td>0.0104</td>\n",
       "      <td>0.0325</td>\n",
       "      <td>0.0078</td>\n",
       "    </tr>\n",
       "  </tbody>\n",
       "</table>\n",
       "</div>"
      ],
      "text/plain": [
       "          precision  recall  f1-score\n",
       "macro        0.0079  0.0260    0.0062\n",
       "micro        0.0325  0.0325    0.0325\n",
       "weighted     0.0104  0.0325    0.0078"
      ]
     },
     "metadata": {},
     "output_type": "display_data"
    }
   ],
   "source": [
    "accuracy = accuracy_score(y_true=y_true, y_pred=y_pred)\n",
    "logloss  = log_loss(y_true, test_pred, labels=np.arange(36))\n",
    "cohen_k  = cohen_kappa_score(y_true, y_pred)\n",
    "\n",
    "print('Accuracy:      {:.2f}%'.format(accuracy*100))\n",
    "print('Error rate:    {:.2f}%'.format((1-accuracy)*100))\n",
    "print('Cross-entropy: {:.4f}'.format(logloss))\n",
    "print(\"Cohen's Kappa: {:.4f}\".format(cohen_k))\n",
    "\n",
    "def class_report(y_true, y_pred):\n",
    "    precision_macro,    recall_macro,    fscore_macro,    _ = precision_recall_fscore_support(y_true=y_true, y_pred=y_pred, average='macro')\n",
    "    precision_micro,    recall_micro,    fscore_micro,    _ = precision_recall_fscore_support(y_true=y_true, y_pred=y_pred, average='micro')\n",
    "    precision_weighted, recall_weighted, fscore_weighted, _ = precision_recall_fscore_support(y_true=y_true, y_pred=y_pred, average='weighted')\n",
    "    \n",
    "    df_report = pd.DataFrame(\n",
    "        {\n",
    "            'precision': [precision_macro, precision_micro, precision_weighted],\n",
    "            'recall': [recall_macro, recall_micro, recall_weighted],\n",
    "            'f1-score': [fscore_macro, fscore_micro, fscore_weighted]\n",
    "        }, \n",
    "        index=['macro', 'micro', 'weighted']\n",
    "    )\n",
    "    \n",
    "    return df_report\n",
    "\n",
    "cr = class_report(y_true, y_pred)\n",
    "display(cr.round(4))"
   ]
  },
  {
   "cell_type": "code",
   "execution_count": 53,
   "metadata": {
    "execution": {
     "iopub.execute_input": "2023-01-23T23:15:43.494762Z",
     "iopub.status.busy": "2023-01-23T23:15:43.494571Z",
     "iopub.status.idle": "2023-01-23T23:15:43.504360Z",
     "shell.execute_reply": "2023-01-23T23:15:43.503573Z",
     "shell.execute_reply.started": "2023-01-23T23:15:43.494745Z"
    },
    "id": "SaXtDPNwgu73"
   },
   "outputs": [
    {
     "data": {
      "text/html": [
       "<div>\n",
       "<style scoped>\n",
       "    .dataframe tbody tr th:only-of-type {\n",
       "        vertical-align: middle;\n",
       "    }\n",
       "\n",
       "    .dataframe tbody tr th {\n",
       "        vertical-align: top;\n",
       "    }\n",
       "\n",
       "    .dataframe thead th {\n",
       "        text-align: right;\n",
       "    }\n",
       "</style>\n",
       "<table border=\"1\" class=\"dataframe\">\n",
       "  <thead>\n",
       "    <tr style=\"text-align: right;\">\n",
       "      <th></th>\n",
       "      <th>precision</th>\n",
       "      <th>recall</th>\n",
       "      <th>f1-score</th>\n",
       "      <th>accuracy</th>\n",
       "      <th>cross-entropy</th>\n",
       "      <th>Cohen-Kappa</th>\n",
       "    </tr>\n",
       "  </thead>\n",
       "  <tbody>\n",
       "    <tr>\n",
       "      <th>0</th>\n",
       "      <td>0.0104</td>\n",
       "      <td>0.0325</td>\n",
       "      <td>0.0078</td>\n",
       "      <td>0.0325</td>\n",
       "      <td>3.5835</td>\n",
       "      <td>-0.002</td>\n",
       "    </tr>\n",
       "  </tbody>\n",
       "</table>\n",
       "</div>"
      ],
      "text/plain": [
       "   precision  recall  f1-score  accuracy  cross-entropy  Cohen-Kappa\n",
       "0     0.0104  0.0325    0.0078    0.0325         3.5835       -0.002"
      ]
     },
     "metadata": {},
     "output_type": "display_data"
    }
   ],
   "source": [
    "weighted_metrics = cr.iloc[-1].tolist()\n",
    "\n",
    "df_metrics = pd.DataFrame(\n",
    "    [weighted_metrics + [accuracy, logloss, cohen_k]], \n",
    "    columns = ['precision', 'recall', 'f1-score', 'accuracy', 'cross-entropy', 'Cohen-Kappa'], \n",
    ")\n",
    "\n",
    "display(df_metrics.round(4))\n",
    "\n",
    "# Uncomment next line to store the final metrics \n",
    "# df_metrics.to_csv(f'metrics/metr_{model_name}.csv')"
   ]
  },
  {
   "attachments": {},
   "cell_type": "markdown",
   "metadata": {
    "id": "aqEwef54gu74"
   },
   "source": [
    "# References\n",
    "**[Sainath15]** <br>\n",
    "Tara N. Sainath, Carolina Parada, _Convolutional Neural Networks for Small-footprint Keyword Spotting_, INTERSPEECH, Dresden, Germany, September 2015.\n",
    "\n",
    "**[Warden18]** <br>\n",
    "Pete Warden, _Speech Commands: A Dataset for Limited-Vocabulary Speech Recognition_, arXiv:1804.03209, April 2018. \n",
    " \n",
    "**[Lyons14]** <br>\n",
    "James Lyons et al. (2020, January 14). jameslyons/python_speech_features: release v0.6.1 (Version 0.6.1). Zenodo.\n",
    "\n",
    "**[Eskimez20]** <br>\n",
    "Eskimez, Sefik & Dimitriadis, Dimitrios & Gmyr, Robert & Kumanati, Kenichi. (2020). _GAN-Based Data Generation for Speech Emotion Recognition_. 3446-3450. 10.21437/Interspeech.2020-2898. \n"
   ]
  }
 ],
 "metadata": {
  "accelerator": "GPU",
  "colab": {
   "provenance": []
  },
  "gpuClass": "premium",
  "kernelspec": {
   "display_name": "Python 3 (ipykernel)",
   "language": "python",
   "name": "python3"
  },
  "language_info": {
   "codemirror_mode": {
    "name": "ipython",
    "version": 3
   },
   "file_extension": ".py",
   "mimetype": "text/x-python",
   "name": "python",
   "nbconvert_exporter": "python",
   "pygments_lexer": "ipython3",
   "version": "3.8.12"
  },
  "vscode": {
   "interpreter": {
    "hash": "51b7e6a6adb8df7affebc30c4882993a05eedb7d3f8cde5d27ca88ae74048761"
   }
  }
 },
 "nbformat": 4,
 "nbformat_minor": 4
}
